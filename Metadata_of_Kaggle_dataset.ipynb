{
 "cells": [
  {
   "cell_type": "code",
   "execution_count": 18,
   "metadata": {},
   "outputs": [],
   "source": [
    "import pandas as pd\n",
    "import numpy as np\n",
    "import matplotlib.pyplot as plt\n",
    "import seaborn as sns\n",
    "import string"
   ]
  },
  {
   "cell_type": "code",
   "execution_count": 19,
   "metadata": {},
   "outputs": [
    {
     "data": {
      "text/html": [
       "<div>\n",
       "<style scoped>\n",
       "    .dataframe tbody tr th:only-of-type {\n",
       "        vertical-align: middle;\n",
       "    }\n",
       "\n",
       "    .dataframe tbody tr th {\n",
       "        vertical-align: top;\n",
       "    }\n",
       "\n",
       "    .dataframe thead th {\n",
       "        text-align: right;\n",
       "    }\n",
       "</style>\n",
       "<table border=\"1\" class=\"dataframe\">\n",
       "  <thead>\n",
       "    <tr style=\"text-align: right;\">\n",
       "      <th></th>\n",
       "      <th>DataSetMedals</th>\n",
       "      <th>ct</th>\n",
       "      <th>dataUrl</th>\n",
       "      <th>totalviews</th>\n",
       "      <th>votecount</th>\n",
       "      <th>medalvotecount</th>\n",
       "      <th>totaldownloads</th>\n",
       "      <th>totalkernel</th>\n",
       "      <th>title</th>\n",
       "      <th>description</th>\n",
       "      <th>key</th>\n",
       "      <th>license</th>\n",
       "    </tr>\n",
       "  </thead>\n",
       "  <tbody>\n",
       "    <tr>\n",
       "      <th>0</th>\n",
       "      <td>silver</td>\n",
       "      <td>2015-12-09 06:16:00</td>\n",
       "      <td>benhamner/nips-2015-papers</td>\n",
       "      <td>69099</td>\n",
       "      <td>96</td>\n",
       "      <td>29</td>\n",
       "      <td>4466</td>\n",
       "      <td>80</td>\n",
       "      <td>NIPS 2015 Papers</td>\n",
       "      <td>[Neural Information Processing Systems (NIPS)]...</td>\n",
       "      <td>['business', 'linguistics', 'artificial intell...</td>\n",
       "      <td>ODbL-1.0</td>\n",
       "    </tr>\n",
       "    <tr>\n",
       "      <th>1</th>\n",
       "      <td>gold</td>\n",
       "      <td>2016-02-19 06:37:00</td>\n",
       "      <td>benhamner/2016-us-election</td>\n",
       "      <td>233338</td>\n",
       "      <td>513</td>\n",
       "      <td>90</td>\n",
       "      <td>25261</td>\n",
       "      <td>259</td>\n",
       "      <td>2016 US Election</td>\n",
       "      <td>This contains data relevant for the 2016 US Pr...</td>\n",
       "      <td>['earth and nature', 'politics', 'computer sci...</td>\n",
       "      <td>CC-BY-NC-SA-4.0</td>\n",
       "    </tr>\n",
       "    <tr>\n",
       "      <th>2</th>\n",
       "      <td>silver</td>\n",
       "      <td>2016-03-08 22:41:02</td>\n",
       "      <td>seanlahman/the-history-of-baseball</td>\n",
       "      <td>63116</td>\n",
       "      <td>254</td>\n",
       "      <td>47</td>\n",
       "      <td>9294</td>\n",
       "      <td>143</td>\n",
       "      <td>The History of Baseball</td>\n",
       "      <td>Baffled why your team traded for that 34-year-...</td>\n",
       "      <td>['baseball', 'history']</td>\n",
       "      <td>CC-BY-SA-3.0</td>\n",
       "    </tr>\n",
       "    <tr>\n",
       "      <th>3</th>\n",
       "      <td>gold</td>\n",
       "      <td>2016-03-09 04:10:56</td>\n",
       "      <td>mylesoneill/world-university-rankings</td>\n",
       "      <td>335275</td>\n",
       "      <td>893</td>\n",
       "      <td>158</td>\n",
       "      <td>60607</td>\n",
       "      <td>487</td>\n",
       "      <td>World University Rankings</td>\n",
       "      <td>Of all the universities in the world, which ar...</td>\n",
       "      <td>['universities and colleges']</td>\n",
       "      <td>copyright-authors</td>\n",
       "    </tr>\n",
       "    <tr>\n",
       "      <th>4</th>\n",
       "      <td>bronze</td>\n",
       "      <td>2016-03-16 00:00:00</td>\n",
       "      <td>wcukierski/2016-march-ml-mania</td>\n",
       "      <td>18782</td>\n",
       "      <td>58</td>\n",
       "      <td>16</td>\n",
       "      <td>1895</td>\n",
       "      <td>73</td>\n",
       "      <td>2016 March ML Mania Predictions</td>\n",
       "      <td>Kaggle’s [March Machine Learning Mania](https:...</td>\n",
       "      <td>['games', 'basketball', 'artificial intelligen...</td>\n",
       "      <td>CC-BY-NC-SA-4.0</td>\n",
       "    </tr>\n",
       "  </tbody>\n",
       "</table>\n",
       "</div>"
      ],
      "text/plain": [
       "  DataSetMedals                   ct                                dataUrl  \\\n",
       "0        silver  2015-12-09 06:16:00             benhamner/nips-2015-papers   \n",
       "1          gold  2016-02-19 06:37:00             benhamner/2016-us-election   \n",
       "2        silver  2016-03-08 22:41:02     seanlahman/the-history-of-baseball   \n",
       "3          gold  2016-03-09 04:10:56  mylesoneill/world-university-rankings   \n",
       "4        bronze  2016-03-16 00:00:00         wcukierski/2016-march-ml-mania   \n",
       "\n",
       "   totalviews  votecount  medalvotecount  totaldownloads  totalkernel  \\\n",
       "0       69099         96              29            4466           80   \n",
       "1      233338        513              90           25261          259   \n",
       "2       63116        254              47            9294          143   \n",
       "3      335275        893             158           60607          487   \n",
       "4       18782         58              16            1895           73   \n",
       "\n",
       "                             title  \\\n",
       "0                 NIPS 2015 Papers   \n",
       "1                 2016 US Election   \n",
       "2          The History of Baseball   \n",
       "3        World University Rankings   \n",
       "4  2016 March ML Mania Predictions   \n",
       "\n",
       "                                         description  \\\n",
       "0  [Neural Information Processing Systems (NIPS)]...   \n",
       "1  This contains data relevant for the 2016 US Pr...   \n",
       "2  Baffled why your team traded for that 34-year-...   \n",
       "3  Of all the universities in the world, which ar...   \n",
       "4  Kaggle’s [March Machine Learning Mania](https:...   \n",
       "\n",
       "                                                 key            license  \n",
       "0  ['business', 'linguistics', 'artificial intell...           ODbL-1.0  \n",
       "1  ['earth and nature', 'politics', 'computer sci...    CC-BY-NC-SA-4.0  \n",
       "2                            ['baseball', 'history']       CC-BY-SA-3.0  \n",
       "3                      ['universities and colleges']  copyright-authors  \n",
       "4  ['games', 'basketball', 'artificial intelligen...    CC-BY-NC-SA-4.0  "
      ]
     },
     "execution_count": 19,
     "metadata": {},
     "output_type": "execute_result"
    }
   ],
   "source": [
    "data = pd.read_csv(\"Datasets/Metadata_of_Kaggle dataset/data.csv\")\n",
    "data.head()"
   ]
  },
  {
   "cell_type": "markdown",
   "metadata": {},
   "source": [
    "# First View Of Data"
   ]
  },
  {
   "cell_type": "code",
   "execution_count": 20,
   "metadata": {},
   "outputs": [
    {
     "name": "stdout",
     "output_type": "stream",
     "text": [
      "<class 'pandas.core.frame.DataFrame'>\n",
      "RangeIndex: 42955 entries, 0 to 42954\n",
      "Data columns (total 12 columns):\n",
      " #   Column          Non-Null Count  Dtype \n",
      "---  ------          --------------  ----- \n",
      " 0   DataSetMedals   42955 non-null  object\n",
      " 1   ct              42955 non-null  object\n",
      " 2   dataUrl         42955 non-null  object\n",
      " 3   totalviews      42955 non-null  int64 \n",
      " 4   votecount       42955 non-null  int64 \n",
      " 5   medalvotecount  42955 non-null  int64 \n",
      " 6   totaldownloads  42955 non-null  int64 \n",
      " 7   totalkernel     42955 non-null  int64 \n",
      " 8   title           42955 non-null  object\n",
      " 9   description     20341 non-null  object\n",
      " 10  key             42955 non-null  object\n",
      " 11  license         42955 non-null  object\n",
      "dtypes: int64(5), object(7)\n",
      "memory usage: 3.9+ MB\n"
     ]
    }
   ],
   "source": [
    "data.info()"
   ]
  },
  {
   "cell_type": "markdown",
   "metadata": {},
   "source": [
    "# Feature Engineering"
   ]
  },
  {
   "cell_type": "markdown",
   "metadata": {},
   "source": [
    "## Checking if ther are any Null Values in Numerical Features"
   ]
  },
  {
   "cell_type": "code",
   "execution_count": 21,
   "metadata": {},
   "outputs": [
    {
     "data": {
      "text/plain": [
       "totalviews        0\n",
       "votecount         0\n",
       "medalvotecount    0\n",
       "totaldownloads    0\n",
       "totalkernel       0\n",
       "dtype: int64"
      ]
     },
     "execution_count": 21,
     "metadata": {},
     "output_type": "execute_result"
    }
   ],
   "source": [
    "num_categories = [feature for feature in data.columns if data[feature].dtypes != \"O\"] # here \"O\" basically means object which represents string values\n",
    "data[num_categories].isnull().sum()"
   ]
  },
  {
   "cell_type": "markdown",
   "metadata": {},
   "source": [
    "## Checking if ther are any Null Values in Categorical Features"
   ]
  },
  {
   "cell_type": "code",
   "execution_count": 22,
   "metadata": {},
   "outputs": [
    {
     "data": {
      "text/plain": [
       "DataSetMedals        0\n",
       "ct                   0\n",
       "dataUrl              0\n",
       "title                0\n",
       "description      22614\n",
       "key                  0\n",
       "license              0\n",
       "dtype: int64"
      ]
     },
     "execution_count": 22,
     "metadata": {},
     "output_type": "execute_result"
    }
   ],
   "source": [
    "cat_categories = [feature for feature in data.columns if data[feature].dtypes == \"O\"]\n",
    "data[cat_categories].isnull().sum()"
   ]
  },
  {
   "cell_type": "markdown",
   "metadata": {},
   "source": [
    "### Arround 50% of the Description Data is missing but in my knowledge we dont Need Description Column so i will completely remove it."
   ]
  },
  {
   "cell_type": "code",
   "execution_count": 23,
   "metadata": {},
   "outputs": [],
   "source": [
    "data = data.drop(columns=\"description\")"
   ]
  },
  {
   "cell_type": "markdown",
   "metadata": {},
   "source": [
    "### Slicing the **ct** Column and making 3 new Columns [\"year\", \"month\", \"time\"] so that we can use this Later in EDA Part.            "
   ]
  },
  {
   "cell_type": "code",
   "execution_count": 24,
   "metadata": {},
   "outputs": [
    {
     "data": {
      "text/html": [
       "<div>\n",
       "<style scoped>\n",
       "    .dataframe tbody tr th:only-of-type {\n",
       "        vertical-align: middle;\n",
       "    }\n",
       "\n",
       "    .dataframe tbody tr th {\n",
       "        vertical-align: top;\n",
       "    }\n",
       "\n",
       "    .dataframe thead th {\n",
       "        text-align: right;\n",
       "    }\n",
       "</style>\n",
       "<table border=\"1\" class=\"dataframe\">\n",
       "  <thead>\n",
       "    <tr style=\"text-align: right;\">\n",
       "      <th></th>\n",
       "      <th>DataSetMedals</th>\n",
       "      <th>ct</th>\n",
       "      <th>dataUrl</th>\n",
       "      <th>totalviews</th>\n",
       "      <th>votecount</th>\n",
       "      <th>medalvotecount</th>\n",
       "      <th>totaldownloads</th>\n",
       "      <th>totalkernel</th>\n",
       "      <th>title</th>\n",
       "      <th>key</th>\n",
       "      <th>license</th>\n",
       "      <th>year</th>\n",
       "      <th>month</th>\n",
       "      <th>time</th>\n",
       "    </tr>\n",
       "  </thead>\n",
       "  <tbody>\n",
       "    <tr>\n",
       "      <th>0</th>\n",
       "      <td>silver</td>\n",
       "      <td>2015-12-09 06:16:00</td>\n",
       "      <td>benhamner/nips-2015-papers</td>\n",
       "      <td>69099</td>\n",
       "      <td>96</td>\n",
       "      <td>29</td>\n",
       "      <td>4466</td>\n",
       "      <td>80</td>\n",
       "      <td>NIPS 2015 Papers</td>\n",
       "      <td>['business', 'linguistics', 'artificial intell...</td>\n",
       "      <td>ODbL-1.0</td>\n",
       "      <td>2015</td>\n",
       "      <td>12</td>\n",
       "      <td>09 06:16:00</td>\n",
       "    </tr>\n",
       "    <tr>\n",
       "      <th>1</th>\n",
       "      <td>gold</td>\n",
       "      <td>2016-02-19 06:37:00</td>\n",
       "      <td>benhamner/2016-us-election</td>\n",
       "      <td>233338</td>\n",
       "      <td>513</td>\n",
       "      <td>90</td>\n",
       "      <td>25261</td>\n",
       "      <td>259</td>\n",
       "      <td>2016 US Election</td>\n",
       "      <td>['earth and nature', 'politics', 'computer sci...</td>\n",
       "      <td>CC-BY-NC-SA-4.0</td>\n",
       "      <td>2016</td>\n",
       "      <td>02</td>\n",
       "      <td>19 06:37:00</td>\n",
       "    </tr>\n",
       "    <tr>\n",
       "      <th>2</th>\n",
       "      <td>silver</td>\n",
       "      <td>2016-03-08 22:41:02</td>\n",
       "      <td>seanlahman/the-history-of-baseball</td>\n",
       "      <td>63116</td>\n",
       "      <td>254</td>\n",
       "      <td>47</td>\n",
       "      <td>9294</td>\n",
       "      <td>143</td>\n",
       "      <td>The History of Baseball</td>\n",
       "      <td>['baseball', 'history']</td>\n",
       "      <td>CC-BY-SA-3.0</td>\n",
       "      <td>2016</td>\n",
       "      <td>03</td>\n",
       "      <td>08 22:41:02</td>\n",
       "    </tr>\n",
       "    <tr>\n",
       "      <th>3</th>\n",
       "      <td>gold</td>\n",
       "      <td>2016-03-09 04:10:56</td>\n",
       "      <td>mylesoneill/world-university-rankings</td>\n",
       "      <td>335275</td>\n",
       "      <td>893</td>\n",
       "      <td>158</td>\n",
       "      <td>60607</td>\n",
       "      <td>487</td>\n",
       "      <td>World University Rankings</td>\n",
       "      <td>['universities and colleges']</td>\n",
       "      <td>copyright-authors</td>\n",
       "      <td>2016</td>\n",
       "      <td>03</td>\n",
       "      <td>09 04:10:56</td>\n",
       "    </tr>\n",
       "    <tr>\n",
       "      <th>4</th>\n",
       "      <td>bronze</td>\n",
       "      <td>2016-03-16 00:00:00</td>\n",
       "      <td>wcukierski/2016-march-ml-mania</td>\n",
       "      <td>18782</td>\n",
       "      <td>58</td>\n",
       "      <td>16</td>\n",
       "      <td>1895</td>\n",
       "      <td>73</td>\n",
       "      <td>2016 March ML Mania Predictions</td>\n",
       "      <td>['games', 'basketball', 'artificial intelligen...</td>\n",
       "      <td>CC-BY-NC-SA-4.0</td>\n",
       "      <td>2016</td>\n",
       "      <td>03</td>\n",
       "      <td>16 00:00:00</td>\n",
       "    </tr>\n",
       "  </tbody>\n",
       "</table>\n",
       "</div>"
      ],
      "text/plain": [
       "  DataSetMedals                   ct                                dataUrl  \\\n",
       "0        silver  2015-12-09 06:16:00             benhamner/nips-2015-papers   \n",
       "1          gold  2016-02-19 06:37:00             benhamner/2016-us-election   \n",
       "2        silver  2016-03-08 22:41:02     seanlahman/the-history-of-baseball   \n",
       "3          gold  2016-03-09 04:10:56  mylesoneill/world-university-rankings   \n",
       "4        bronze  2016-03-16 00:00:00         wcukierski/2016-march-ml-mania   \n",
       "\n",
       "   totalviews  votecount  medalvotecount  totaldownloads  totalkernel  \\\n",
       "0       69099         96              29            4466           80   \n",
       "1      233338        513              90           25261          259   \n",
       "2       63116        254              47            9294          143   \n",
       "3      335275        893             158           60607          487   \n",
       "4       18782         58              16            1895           73   \n",
       "\n",
       "                             title  \\\n",
       "0                 NIPS 2015 Papers   \n",
       "1                 2016 US Election   \n",
       "2          The History of Baseball   \n",
       "3        World University Rankings   \n",
       "4  2016 March ML Mania Predictions   \n",
       "\n",
       "                                                 key            license  year  \\\n",
       "0  ['business', 'linguistics', 'artificial intell...           ODbL-1.0  2015   \n",
       "1  ['earth and nature', 'politics', 'computer sci...    CC-BY-NC-SA-4.0  2016   \n",
       "2                            ['baseball', 'history']       CC-BY-SA-3.0  2016   \n",
       "3                      ['universities and colleges']  copyright-authors  2016   \n",
       "4  ['games', 'basketball', 'artificial intelligen...    CC-BY-NC-SA-4.0  2016   \n",
       "\n",
       "  month         time  \n",
       "0    12  09 06:16:00  \n",
       "1    02  19 06:37:00  \n",
       "2    03  08 22:41:02  \n",
       "3    03  09 04:10:56  \n",
       "4    03  16 00:00:00  "
      ]
     },
     "execution_count": 24,
     "metadata": {},
     "output_type": "execute_result"
    }
   ],
   "source": [
    "data[['year','month','time']] = data['ct'].str.split('-',expand=True)\n",
    "data.head()"
   ]
  },
  {
   "cell_type": "markdown",
   "metadata": {},
   "source": [
    "# EDA for The Dataset"
   ]
  },
  {
   "cell_type": "code",
   "execution_count": 25,
   "metadata": {},
   "outputs": [
    {
     "data": {
      "image/png": "[encoded data removed]",
      "text/plain": [
       "<Figure size 720x504 with 1 Axes>"
      ]
     },
     "metadata": {
      "needs_background": "light"
     },
     "output_type": "display_data"
    }
   ],
   "source": [
    "medal_distribution = data[\"DataSetMedals\"].value_counts()[1:].reset_index()\n",
    "\n",
    "plt.figure(figsize=(10,7))\n",
    "sns.barplot(x=\"index\" ,y=\"DataSetMedals\" ,data=medal_distribution)\n",
    "plt.title(\"Medals Distribusion Bar Plot\")\n",
    "plt.xlabel(\"Medals\")\n",
    "plt.ylabel(\"Medals Distribution\")\n",
    "#plt.xticks(rotation=90)\n",
    "plt.show()"
   ]
  },
  {
   "cell_type": "code",
   "execution_count": 26,
   "metadata": {},
   "outputs": [
    {
     "data": {
      "image/png": "[encoded data removed]",
      "text/plain": [
       "<Figure size 720x504 with 1 Axes>"
      ]
     },
     "metadata": {
      "needs_background": "light"
     },
     "output_type": "display_data"
    }
   ],
   "source": [
    "year_plot = data[\"year\"].value_counts().reset_index()\n",
    "\n",
    "plt.figure(figsize=(10,7))\n",
    "sns.barplot(x=\"index\" ,y=\"year\" ,data=year_plot)\n",
    "plt.title(\"Medals Distributed Among The Kagglers Bar Plot\")\n",
    "plt.xlabel(\"Year\")\n",
    "plt.ylabel(\"Medals Distributed\")\n",
    "#plt.xticks(rotation=90)\n",
    "plt.show()"
   ]
  },
  {
   "cell_type": "code",
   "execution_count": 27,
   "metadata": {},
   "outputs": [
    {
     "data": {
      "image/png": "[encoded data removed]",
      "text/plain": [
       "<Figure size 720x504 with 1 Axes>"
      ]
     },
     "metadata": {
      "needs_background": "light"
     },
     "output_type": "display_data"
    }
   ],
   "source": [
    "top10_titles = data[\"title\"].value_counts().head(10).reset_index()\n",
    "plt.figure(figsize=(10,7))\n",
    "sns.barplot(x=\"index\" ,y=\"title\" ,data=top10_titles)\n",
    "plt.title(\"Top 10 Tag Distributed Among The Kagglers Bar Plot\")\n",
    "plt.xlabel(\"Tag Names\")\n",
    "plt.ylabel(\"Tag Count\")\n",
    "#plt.xticks(rotation=90)\n",
    "plt.show()"
   ]
  },
  {
   "cell_type": "code",
   "execution_count": 28,
   "metadata": {},
   "outputs": [
    {
     "data": {
      "image/png": "[encoded data removed]",
      "text/plain": [
       "<Figure size 1440x504 with 1 Axes>"
      ]
     },
     "metadata": {
      "needs_background": "light"
     },
     "output_type": "display_data"
    }
   ],
   "source": [
    "top10_category = data[\"key\"].value_counts()[1:].head(10).reset_index()\n",
    "top10_category[\"index\"] = top10_category[\"index\"].str.replace(\"[\", \"\", regex=True).replace(\"]\", \"\", regex=True).replace(\"'\", \"\", regex=True)\n",
    "\n",
    "plt.figure(figsize=(20,7))\n",
    "sns.barplot(x=\"index\" ,y=\"key\" ,data=top10_category)\n",
    "plt.title(\"Top 10 Category Distribution Among The Kagglers Bar Plot\")\n",
    "plt.xlabel(\"Category Name\")\n",
    "plt.ylabel(\"Category Count\")\n",
    "plt.xticks(rotation=80)\n",
    "plt.show()"
   ]
  },
  {
   "cell_type": "markdown",
   "metadata": {},
   "source": [
    "\n",
    "# Results Of **EDA**\n",
    "\n",
    "#### 1) According to the Medal Distribution bar plot Most of the users Got Bronze Medal than Silver and Gold.\n",
    "#### 2) According to the Data Year 2020 was the time when The users were wost active and so the Medal Created/Distributed in large numbers and second place comes 2021.\n",
    "#### 3) According to the Data the most trending Title Tags are **Dataset** and **Titanic**.\n",
    "#### 4) According to the Data the most Common Categories in which Most of the Medals were Distributed Are Business,  Earth and Temperature, Art and Entertainment."
   ]
  },
  {
   "cell_type": "markdown",
   "metadata": {},
   "source": [
    "### So in order to get the Maximum Numbers of Medals you Should use Tags like **Dataset** and **Titanic** wherever possible. And you can try to Create more Kernal, Datasets or take part in Competition which falls in the Category of **Business**, **Earth and Temperature**, **Art and Entertainment** Because these Are *Hot Topics*."
   ]
  },
  {
   "cell_type": "markdown",
   "metadata": {},
   "source": [
    "\n",
    "## Author\n",
    "\n",
    "- [@everydaycodings(Kaggle)](https://www.kaggle.com/everydaycodings)\n",
    "- [@everydaycodings(Github)](https://github.com/everydaycodings)\n",
    "\n",
    "#### If You Lived this Kernal, Please Don't Forget To Give a UP Vote To It, This keeps me motivated to Make more Such Kernels. "
   ]
  }
 ],
 "metadata": {
  "interpreter": {
   "hash": "ecf5722fdaf1897a315d257d89d94520bfcaa453217d5becf09b39e73618b0de"
  },
  "kernelspec": {
   "display_name": "Python 3.9.5 64-bit ('base': conda)",
   "language": "python",
   "name": "python3"
  },
  "language_info": {
   "codemirror_mode": {
    "name": "ipython",
    "version": 3
   },
   "file_extension": ".py",
   "mimetype": "text/x-python",
   "name": "python",
   "nbconvert_exporter": "python",
   "pygments_lexer": "ipython3",
   "version": "3.9.5"
  },
  "orig_nbformat": 4
 },
 "nbformat": 4,
 "nbformat_minor": 2
}
