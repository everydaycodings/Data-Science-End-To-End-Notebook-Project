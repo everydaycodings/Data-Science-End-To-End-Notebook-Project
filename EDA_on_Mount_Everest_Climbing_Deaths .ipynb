{
 "cells": [
  {
   "cell_type": "code",
   "execution_count": 49,
   "metadata": {},
   "outputs": [],
   "source": [
    "import pandas as pd\n",
    "import numpy as np\n",
    "import matplotlib.pyplot as plt\n",
    "import seaborn as sns  "
   ]
  },
  {
   "cell_type": "code",
   "execution_count": 50,
   "metadata": {},
   "outputs": [
    {
     "data": {
      "text/html": [
       "<div>\n",
       "<style scoped>\n",
       "    .dataframe tbody tr th:only-of-type {\n",
       "        vertical-align: middle;\n",
       "    }\n",
       "\n",
       "    .dataframe tbody tr th {\n",
       "        vertical-align: top;\n",
       "    }\n",
       "\n",
       "    .dataframe thead th {\n",
       "        text-align: right;\n",
       "    }\n",
       "</style>\n",
       "<table border=\"1\" class=\"dataframe\">\n",
       "  <thead>\n",
       "    <tr style=\"text-align: right;\">\n",
       "      <th></th>\n",
       "      <th>No.</th>\n",
       "      <th>Name</th>\n",
       "      <th>Date</th>\n",
       "      <th>Age</th>\n",
       "      <th>Expedition</th>\n",
       "      <th>Nationality</th>\n",
       "      <th>Cause of death</th>\n",
       "      <th>Location</th>\n",
       "    </tr>\n",
       "  </thead>\n",
       "  <tbody>\n",
       "    <tr>\n",
       "      <th>0</th>\n",
       "      <td>1</td>\n",
       "      <td>Dorje</td>\n",
       "      <td>June 7, 1922</td>\n",
       "      <td>NaN</td>\n",
       "      <td>1922 British Mount Everest Expedition</td>\n",
       "      <td>Nepal</td>\n",
       "      <td>Avalanche</td>\n",
       "      <td>Below North Col</td>\n",
       "    </tr>\n",
       "    <tr>\n",
       "      <th>1</th>\n",
       "      <td>2</td>\n",
       "      <td>Lhakpa</td>\n",
       "      <td>June 7, 1922</td>\n",
       "      <td>NaN</td>\n",
       "      <td>1922 British Mount Everest Expedition</td>\n",
       "      <td>Nepal</td>\n",
       "      <td>Avalanche</td>\n",
       "      <td>Below North Col</td>\n",
       "    </tr>\n",
       "    <tr>\n",
       "      <th>2</th>\n",
       "      <td>3</td>\n",
       "      <td>Norbu</td>\n",
       "      <td>June 7, 1922</td>\n",
       "      <td>NaN</td>\n",
       "      <td>1922 British Mount Everest Expedition</td>\n",
       "      <td>Nepal</td>\n",
       "      <td>Avalanche</td>\n",
       "      <td>Below North Col</td>\n",
       "    </tr>\n",
       "    <tr>\n",
       "      <th>3</th>\n",
       "      <td>4</td>\n",
       "      <td>Pasang</td>\n",
       "      <td>June 7, 1922</td>\n",
       "      <td>NaN</td>\n",
       "      <td>1922 British Mount Everest Expedition</td>\n",
       "      <td>Nepal</td>\n",
       "      <td>Avalanche</td>\n",
       "      <td>Below North Col</td>\n",
       "    </tr>\n",
       "    <tr>\n",
       "      <th>4</th>\n",
       "      <td>5</td>\n",
       "      <td>Pema</td>\n",
       "      <td>June 7, 1922</td>\n",
       "      <td>NaN</td>\n",
       "      <td>1922 British Mount Everest Expedition</td>\n",
       "      <td>Nepal</td>\n",
       "      <td>Avalanche</td>\n",
       "      <td>Below North Col</td>\n",
       "    </tr>\n",
       "  </tbody>\n",
       "</table>\n",
       "</div>"
      ],
      "text/plain": [
       "   No.    Name          Date  Age                             Expedition  \\\n",
       "0    1   Dorje  June 7, 1922  NaN  1922 British Mount Everest Expedition   \n",
       "1    2  Lhakpa  June 7, 1922  NaN  1922 British Mount Everest Expedition   \n",
       "2    3   Norbu  June 7, 1922  NaN  1922 British Mount Everest Expedition   \n",
       "3    4  Pasang  June 7, 1922  NaN  1922 British Mount Everest Expedition   \n",
       "4    5    Pema  June 7, 1922  NaN  1922 British Mount Everest Expedition   \n",
       "\n",
       "  Nationality Cause of death         Location  \n",
       "0       Nepal      Avalanche  Below North Col  \n",
       "1       Nepal      Avalanche  Below North Col  \n",
       "2       Nepal      Avalanche  Below North Col  \n",
       "3       Nepal      Avalanche  Below North Col  \n",
       "4       Nepal      Avalanche  Below North Col  "
      ]
     },
     "execution_count": 50,
     "metadata": {},
     "output_type": "execute_result"
    }
   ],
   "source": [
    "data = pd.read_csv(\"Datasets/Mount_Everest_Climbing_Deaths/data.csv\")\n",
    "data.head()"
   ]
  },
  {
   "cell_type": "code",
   "execution_count": 51,
   "metadata": {},
   "outputs": [
    {
     "data": {
      "text/plain": [
       "(310, 8)"
      ]
     },
     "execution_count": 51,
     "metadata": {},
     "output_type": "execute_result"
    }
   ],
   "source": [
    "data.shape"
   ]
  },
  {
   "cell_type": "code",
   "execution_count": 52,
   "metadata": {},
   "outputs": [
    {
     "name": "stdout",
     "output_type": "stream",
     "text": [
      "<class 'pandas.core.frame.DataFrame'>\n",
      "RangeIndex: 310 entries, 0 to 309\n",
      "Data columns (total 8 columns):\n",
      " #   Column          Non-Null Count  Dtype  \n",
      "---  ------          --------------  -----  \n",
      " 0   No.             310 non-null    int64  \n",
      " 1   Name            310 non-null    object \n",
      " 2   Date            310 non-null    object \n",
      " 3   Age             160 non-null    float64\n",
      " 4   Expedition      271 non-null    object \n",
      " 5   Nationality     309 non-null    object \n",
      " 6   Cause of death  296 non-null    object \n",
      " 7   Location        291 non-null    object \n",
      "dtypes: float64(1), int64(1), object(6)\n",
      "memory usage: 19.5+ KB\n"
     ]
    }
   ],
   "source": [
    "data.info()"
   ]
  },
  {
   "cell_type": "code",
   "execution_count": 53,
   "metadata": {},
   "outputs": [
    {
     "data": {
      "text/plain": [
       "No.      0\n",
       "Age    150\n",
       "dtype: int64"
      ]
     },
     "execution_count": 53,
     "metadata": {},
     "output_type": "execute_result"
    }
   ],
   "source": [
    "num_categories = [feature for feature in data.columns if data[feature].dtype != \"O\"]\n",
    "data[num_categories].isnull().sum()"
   ]
  },
  {
   "cell_type": "markdown",
   "metadata": {},
   "source": [
    "# Percentage of Misssing Values"
   ]
  },
  {
   "cell_type": "code",
   "execution_count": 54,
   "metadata": {},
   "outputs": [
    {
     "data": {
      "text/plain": [
       "Age               0.483871\n",
       "Cause of death    0.045161\n",
       "Location          0.061290\n",
       "dtype: float64"
      ]
     },
     "execution_count": 54,
     "metadata": {},
     "output_type": "execute_result"
    }
   ],
   "source": [
    "df=pd.read_csv('Datasets/Mount_Everest_Climbing_Deaths/data.csv',usecols=['Age','Cause of death','Location'])\n",
    "df.head()\n",
    "df.isnull().mean()"
   ]
  },
  {
   "cell_type": "code",
   "execution_count": 62,
   "metadata": {},
   "outputs": [
    {
     "data": {
      "text/plain": [
       "count    160.000000\n",
       "mean      40.356250\n",
       "std       12.244545\n",
       "min       19.000000\n",
       "25%       31.750000\n",
       "50%       38.000000\n",
       "75%       48.000000\n",
       "max       85.000000\n",
       "Name: Age, dtype: float64"
      ]
     },
     "execution_count": 62,
     "metadata": {},
     "output_type": "execute_result"
    }
   ],
   "source": [
    "data[\"Age\"].describe()"
   ]
  },
  {
   "cell_type": "code",
   "execution_count": 56,
   "metadata": {},
   "outputs": [
    {
     "data": {
      "text/plain": [
       "85.0    1\n",
       "82.0    1\n",
       "69.0    1\n",
       "66.0    1\n",
       "65.0    1\n",
       "Name: Age, dtype: int64"
      ]
     },
     "execution_count": 56,
     "metadata": {},
     "output_type": "execute_result"
    }
   ],
   "source": [
    "data[\"Age\"].value_counts().sort_index(ascending=False).head()"
   ]
  },
  {
   "cell_type": "code",
   "execution_count": 57,
   "metadata": {},
   "outputs": [
    {
     "data": {
      "text/plain": [
       "Name               0\n",
       "Date               0\n",
       "Expedition        39\n",
       "Nationality        1\n",
       "Cause of death    14\n",
       "Location          19\n",
       "dtype: int64"
      ]
     },
     "execution_count": 57,
     "metadata": {},
     "output_type": "execute_result"
    }
   ],
   "source": [
    "cat_categories = [feature for feature in data.columns if data[feature].dtype == \"O\"]\n",
    "data[cat_categories].isnull().sum()"
   ]
  },
  {
   "cell_type": "code",
   "execution_count": 58,
   "metadata": {},
   "outputs": [
    {
     "data": {
      "text/html": [
       "<div>\n",
       "<style scoped>\n",
       "    .dataframe tbody tr th:only-of-type {\n",
       "        vertical-align: middle;\n",
       "    }\n",
       "\n",
       "    .dataframe tbody tr th {\n",
       "        vertical-align: top;\n",
       "    }\n",
       "\n",
       "    .dataframe thead th {\n",
       "        text-align: right;\n",
       "    }\n",
       "</style>\n",
       "<table border=\"1\" class=\"dataframe\">\n",
       "  <thead>\n",
       "    <tr style=\"text-align: right;\">\n",
       "      <th></th>\n",
       "      <th>No.</th>\n",
       "      <th>Name</th>\n",
       "      <th>Date</th>\n",
       "      <th>Age</th>\n",
       "      <th>Expedition</th>\n",
       "      <th>Nationality</th>\n",
       "      <th>Cause of death</th>\n",
       "      <th>Location</th>\n",
       "    </tr>\n",
       "  </thead>\n",
       "  <tbody>\n",
       "    <tr>\n",
       "      <th>0</th>\n",
       "      <td>1</td>\n",
       "      <td>Dorje</td>\n",
       "      <td>June 7, 1922</td>\n",
       "      <td>NaN</td>\n",
       "      <td>1922 British Mount Everest Expedition</td>\n",
       "      <td>Nepal</td>\n",
       "      <td>Avalanche</td>\n",
       "      <td>Below North Col</td>\n",
       "    </tr>\n",
       "    <tr>\n",
       "      <th>1</th>\n",
       "      <td>2</td>\n",
       "      <td>Lhakpa</td>\n",
       "      <td>June 7, 1922</td>\n",
       "      <td>NaN</td>\n",
       "      <td>1922 British Mount Everest Expedition</td>\n",
       "      <td>Nepal</td>\n",
       "      <td>Avalanche</td>\n",
       "      <td>Below North Col</td>\n",
       "    </tr>\n",
       "    <tr>\n",
       "      <th>2</th>\n",
       "      <td>3</td>\n",
       "      <td>Norbu</td>\n",
       "      <td>June 7, 1922</td>\n",
       "      <td>NaN</td>\n",
       "      <td>1922 British Mount Everest Expedition</td>\n",
       "      <td>Nepal</td>\n",
       "      <td>Avalanche</td>\n",
       "      <td>Below North Col</td>\n",
       "    </tr>\n",
       "    <tr>\n",
       "      <th>3</th>\n",
       "      <td>4</td>\n",
       "      <td>Pasang</td>\n",
       "      <td>June 7, 1922</td>\n",
       "      <td>NaN</td>\n",
       "      <td>1922 British Mount Everest Expedition</td>\n",
       "      <td>Nepal</td>\n",
       "      <td>Avalanche</td>\n",
       "      <td>Below North Col</td>\n",
       "    </tr>\n",
       "    <tr>\n",
       "      <th>4</th>\n",
       "      <td>5</td>\n",
       "      <td>Pema</td>\n",
       "      <td>June 7, 1922</td>\n",
       "      <td>NaN</td>\n",
       "      <td>1922 British Mount Everest Expedition</td>\n",
       "      <td>Nepal</td>\n",
       "      <td>Avalanche</td>\n",
       "      <td>Below North Col</td>\n",
       "    </tr>\n",
       "  </tbody>\n",
       "</table>\n",
       "</div>"
      ],
      "text/plain": [
       "   No.    Name          Date  Age                             Expedition  \\\n",
       "0    1   Dorje  June 7, 1922  NaN  1922 British Mount Everest Expedition   \n",
       "1    2  Lhakpa  June 7, 1922  NaN  1922 British Mount Everest Expedition   \n",
       "2    3   Norbu  June 7, 1922  NaN  1922 British Mount Everest Expedition   \n",
       "3    4  Pasang  June 7, 1922  NaN  1922 British Mount Everest Expedition   \n",
       "4    5    Pema  June 7, 1922  NaN  1922 British Mount Everest Expedition   \n",
       "\n",
       "  Nationality Cause of death         Location  \n",
       "0       Nepal      Avalanche  Below North Col  \n",
       "1       Nepal      Avalanche  Below North Col  \n",
       "2       Nepal      Avalanche  Below North Col  \n",
       "3       Nepal      Avalanche  Below North Col  \n",
       "4       Nepal      Avalanche  Below North Col  "
      ]
     },
     "execution_count": 58,
     "metadata": {},
     "output_type": "execute_result"
    }
   ],
   "source": [
    "data[cat_categories] = data[cat_categories].fillna(\"unknown values\")\n",
    "data.head()"
   ]
  },
  {
   "cell_type": "code",
   "execution_count": 59,
   "metadata": {},
   "outputs": [
    {
     "ename": "KeyError",
     "evalue": "'Column not found: '",
     "output_type": "error",
     "traceback": [
      "\u001b[1;31m---------------------------------------------------------------------------\u001b[0m",
      "\u001b[1;31mKeyError\u001b[0m                                  Traceback (most recent call last)",
      "\u001b[1;32m~\\AppData\\Local\\Temp/ipykernel_6856/879925696.py\u001b[0m in \u001b[0;36m<module>\u001b[1;34m\u001b[0m\n\u001b[1;32m----> 1\u001b[1;33m \u001b[0mdata\u001b[0m\u001b[1;33m.\u001b[0m\u001b[0mgroupby\u001b[0m\u001b[1;33m(\u001b[0m\u001b[1;34m\"Cause of death\"\u001b[0m\u001b[1;33m)\u001b[0m\u001b[1;33m[\u001b[0m\u001b[1;34m\"\"\u001b[0m\u001b[1;33m]\u001b[0m\u001b[1;33m\u001b[0m\u001b[1;33m\u001b[0m\u001b[0m\n\u001b[0m",
      "\u001b[1;32mC:\\ProgramData\\Miniconda3\\lib\\site-packages\\pandas\\core\\groupby\\generic.py\u001b[0m in \u001b[0;36m__getitem__\u001b[1;34m(self, key)\u001b[0m\n\u001b[0;32m   1536\u001b[0m                 \u001b[0mstacklevel\u001b[0m\u001b[1;33m=\u001b[0m\u001b[1;36m2\u001b[0m\u001b[1;33m,\u001b[0m\u001b[1;33m\u001b[0m\u001b[1;33m\u001b[0m\u001b[0m\n\u001b[0;32m   1537\u001b[0m             )\n\u001b[1;32m-> 1538\u001b[1;33m         \u001b[1;32mreturn\u001b[0m \u001b[0msuper\u001b[0m\u001b[1;33m(\u001b[0m\u001b[1;33m)\u001b[0m\u001b[1;33m.\u001b[0m\u001b[0m__getitem__\u001b[0m\u001b[1;33m(\u001b[0m\u001b[0mkey\u001b[0m\u001b[1;33m)\u001b[0m\u001b[1;33m\u001b[0m\u001b[1;33m\u001b[0m\u001b[0m\n\u001b[0m\u001b[0;32m   1539\u001b[0m \u001b[1;33m\u001b[0m\u001b[0m\n\u001b[0;32m   1540\u001b[0m     \u001b[1;32mdef\u001b[0m \u001b[0m_gotitem\u001b[0m\u001b[1;33m(\u001b[0m\u001b[0mself\u001b[0m\u001b[1;33m,\u001b[0m \u001b[0mkey\u001b[0m\u001b[1;33m,\u001b[0m \u001b[0mndim\u001b[0m\u001b[1;33m:\u001b[0m \u001b[0mint\u001b[0m\u001b[1;33m,\u001b[0m \u001b[0msubset\u001b[0m\u001b[1;33m=\u001b[0m\u001b[1;32mNone\u001b[0m\u001b[1;33m)\u001b[0m\u001b[1;33m:\u001b[0m\u001b[1;33m\u001b[0m\u001b[1;33m\u001b[0m\u001b[0m\n",
      "\u001b[1;32mC:\\ProgramData\\Miniconda3\\lib\\site-packages\\pandas\\core\\base.py\u001b[0m in \u001b[0;36m__getitem__\u001b[1;34m(self, key)\u001b[0m\n\u001b[0;32m    230\u001b[0m         \u001b[1;32melse\u001b[0m\u001b[1;33m:\u001b[0m\u001b[1;33m\u001b[0m\u001b[1;33m\u001b[0m\u001b[0m\n\u001b[0;32m    231\u001b[0m             \u001b[1;32mif\u001b[0m \u001b[0mkey\u001b[0m \u001b[1;32mnot\u001b[0m \u001b[1;32min\u001b[0m \u001b[0mself\u001b[0m\u001b[1;33m.\u001b[0m\u001b[0mobj\u001b[0m\u001b[1;33m:\u001b[0m\u001b[1;33m\u001b[0m\u001b[1;33m\u001b[0m\u001b[0m\n\u001b[1;32m--> 232\u001b[1;33m                 \u001b[1;32mraise\u001b[0m \u001b[0mKeyError\u001b[0m\u001b[1;33m(\u001b[0m\u001b[1;34mf\"Column not found: {key}\"\u001b[0m\u001b[1;33m)\u001b[0m\u001b[1;33m\u001b[0m\u001b[1;33m\u001b[0m\u001b[0m\n\u001b[0m\u001b[0;32m    233\u001b[0m             \u001b[0msubset\u001b[0m \u001b[1;33m=\u001b[0m \u001b[0mself\u001b[0m\u001b[1;33m.\u001b[0m\u001b[0mobj\u001b[0m\u001b[1;33m[\u001b[0m\u001b[0mkey\u001b[0m\u001b[1;33m]\u001b[0m\u001b[1;33m\u001b[0m\u001b[1;33m\u001b[0m\u001b[0m\n\u001b[0;32m    234\u001b[0m             \u001b[0mndim\u001b[0m \u001b[1;33m=\u001b[0m \u001b[0msubset\u001b[0m\u001b[1;33m.\u001b[0m\u001b[0mndim\u001b[0m\u001b[1;33m\u001b[0m\u001b[1;33m\u001b[0m\u001b[0m\n",
      "\u001b[1;31mKeyError\u001b[0m: 'Column not found: '"
     ]
    }
   ],
   "source": [
    "data.groupby(\"Cause of death\")[\"\"]"
   ]
  }
 ],
 "metadata": {
  "interpreter": {
   "hash": "ecf5722fdaf1897a315d257d89d94520bfcaa453217d5becf09b39e73618b0de"
  },
  "kernelspec": {
   "display_name": "Python 3.9.5 64-bit ('base': conda)",
   "language": "python",
   "name": "python3"
  },
  "language_info": {
   "codemirror_mode": {
    "name": "ipython",
    "version": 3
   },
   "file_extension": ".py",
   "mimetype": "text/x-python",
   "name": "python",
   "nbconvert_exporter": "python",
   "pygments_lexer": "ipython3",
   "version": "3.9.5"
  },
  "orig_nbformat": 4
 },
 "nbformat": 4,
 "nbformat_minor": 2
}
