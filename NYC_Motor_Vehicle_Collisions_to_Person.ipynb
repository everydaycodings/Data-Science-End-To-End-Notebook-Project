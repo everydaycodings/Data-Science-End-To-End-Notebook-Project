{
 "cells": [
  {
   "cell_type": "markdown",
   "metadata": {},
   "source": [
    "\n",
    "# Hi, I'm everydaycodings! 👋"
   ]
  },
  {
   "cell_type": "markdown",
   "metadata": {},
   "source": [
    "# EDA on NYC Motor Vehicle Collisions to Person"
   ]
  },
  {
   "cell_type": "code",
   "execution_count": 125,
   "metadata": {},
   "outputs": [],
   "source": [
    "import pandas as pd\n",
    "import numpy as np\n",
    "import matplotlib.pyplot as plt\n",
    "import seaborn as sns  "
   ]
  },
  {
   "cell_type": "code",
   "execution_count": 126,
   "metadata": {},
   "outputs": [],
   "source": [
    "pd.set_option('display.max_columns', 500)"
   ]
  },
  {
   "cell_type": "code",
   "execution_count": 127,
   "metadata": {},
   "outputs": [
    {
     "data": {
      "text/html": [
       "<div>\n",
       "<style scoped>\n",
       "    .dataframe tbody tr th:only-of-type {\n",
       "        vertical-align: middle;\n",
       "    }\n",
       "\n",
       "    .dataframe tbody tr th {\n",
       "        vertical-align: top;\n",
       "    }\n",
       "\n",
       "    .dataframe thead th {\n",
       "        text-align: right;\n",
       "    }\n",
       "</style>\n",
       "<table border=\"1\" class=\"dataframe\">\n",
       "  <thead>\n",
       "    <tr style=\"text-align: right;\">\n",
       "      <th></th>\n",
       "      <th>CRASH_DATE</th>\n",
       "      <th>CRASH_TIME</th>\n",
       "      <th>PERSON_INJURY</th>\n",
       "      <th>PERSON_AGE</th>\n",
       "      <th>BODILY_INJURY</th>\n",
       "      <th>SAFETY_EQUIPMENT</th>\n",
       "      <th>PERSON_SEX</th>\n",
       "      <th>PERSON_TYPE</th>\n",
       "      <th>PED_LOCATION</th>\n",
       "      <th>CONTRIBUTING_FACTOR_2</th>\n",
       "      <th>EJECTION</th>\n",
       "      <th>COMPLAINT</th>\n",
       "      <th>EMOTIONAL_STATUS</th>\n",
       "      <th>VEHICLE_ID</th>\n",
       "      <th>PERSON_ID</th>\n",
       "      <th>CONTRIBUTING_FACTOR_1</th>\n",
       "      <th>POSITION_IN_VEHICLE</th>\n",
       "      <th>PED_ROLE</th>\n",
       "      <th>UNIQUE_ID</th>\n",
       "      <th>PED_ACTION</th>\n",
       "      <th>COLLISION_ID</th>\n",
       "    </tr>\n",
       "  </thead>\n",
       "  <tbody>\n",
       "    <tr>\n",
       "      <th>0</th>\n",
       "      <td>2021-05-02</td>\n",
       "      <td>21:00</td>\n",
       "      <td>Killed</td>\n",
       "      <td>62.0</td>\n",
       "      <td>Head</td>\n",
       "      <td>NaN</td>\n",
       "      <td>F</td>\n",
       "      <td>Pedestrian</td>\n",
       "      <td>Pedestrian/Bicyclist/Other Pedestrian at Inter...</td>\n",
       "      <td>Pedestrian/Bicyclist/Other Pedestrian Error/Co...</td>\n",
       "      <td>NaN</td>\n",
       "      <td>Severe Bleeding</td>\n",
       "      <td>Apparent Death</td>\n",
       "      <td>NaN</td>\n",
       "      <td>f2f329b6-2dfc-4bd0-b751-2e4255f1ea06</td>\n",
       "      <td>Traffic Control Disregarded</td>\n",
       "      <td>NaN</td>\n",
       "      <td>Pedestrian</td>\n",
       "      <td>11791937</td>\n",
       "      <td>Crossing Against Signal</td>\n",
       "      <td>4412948</td>\n",
       "    </tr>\n",
       "    <tr>\n",
       "      <th>1</th>\n",
       "      <td>2021-05-21</td>\n",
       "      <td>0:00</td>\n",
       "      <td>Killed</td>\n",
       "      <td>24.0</td>\n",
       "      <td>Entire Body</td>\n",
       "      <td>Air Bag Deployed</td>\n",
       "      <td>M</td>\n",
       "      <td>Occupant</td>\n",
       "      <td>NaN</td>\n",
       "      <td>NaN</td>\n",
       "      <td>Trapped</td>\n",
       "      <td>Internal</td>\n",
       "      <td>Apparent Death</td>\n",
       "      <td>19986231.0</td>\n",
       "      <td>e27e12a2-0485-4e22-b692-3f8a765d2582</td>\n",
       "      <td>NaN</td>\n",
       "      <td>Driver</td>\n",
       "      <td>Driver</td>\n",
       "      <td>11819198</td>\n",
       "      <td>NaN</td>\n",
       "      <td>4419608</td>\n",
       "    </tr>\n",
       "    <tr>\n",
       "      <th>2</th>\n",
       "      <td>2021-10-15</td>\n",
       "      <td>2:00</td>\n",
       "      <td>Killed</td>\n",
       "      <td>30.0</td>\n",
       "      <td>Head</td>\n",
       "      <td>None</td>\n",
       "      <td>M</td>\n",
       "      <td>Occupant</td>\n",
       "      <td>NaN</td>\n",
       "      <td>NaN</td>\n",
       "      <td>Not Ejected</td>\n",
       "      <td>Internal</td>\n",
       "      <td>Apparent Death</td>\n",
       "      <td>20091024.0</td>\n",
       "      <td>1a6f5aa7-5125-4be2-8499-fe7977cb0d90</td>\n",
       "      <td>NaN</td>\n",
       "      <td>Driver</td>\n",
       "      <td>Driver</td>\n",
       "      <td>11998317</td>\n",
       "      <td>NaN</td>\n",
       "      <td>4467504</td>\n",
       "    </tr>\n",
       "    <tr>\n",
       "      <th>3</th>\n",
       "      <td>2021-04-17</td>\n",
       "      <td>13:00</td>\n",
       "      <td>Killed</td>\n",
       "      <td>71.0</td>\n",
       "      <td>Head</td>\n",
       "      <td>NaN</td>\n",
       "      <td>M</td>\n",
       "      <td>Pedestrian</td>\n",
       "      <td>Pedestrian/Bicyclist/Other Pedestrian Not at I...</td>\n",
       "      <td>Unspecified</td>\n",
       "      <td>NaN</td>\n",
       "      <td>Internal</td>\n",
       "      <td>Unconscious</td>\n",
       "      <td>NaN</td>\n",
       "      <td>b950706b-00a4-485c-84c5-777208cc3cc9</td>\n",
       "      <td>Pedestrian/Bicyclist/Other Pedestrian Error/Co...</td>\n",
       "      <td>NaN</td>\n",
       "      <td>Pedestrian</td>\n",
       "      <td>11745791</td>\n",
       "      <td>Crossing, No Signal, or Crosswalk</td>\n",
       "      <td>4408062</td>\n",
       "    </tr>\n",
       "    <tr>\n",
       "      <th>4</th>\n",
       "      <td>2021-05-25</td>\n",
       "      <td>22:00</td>\n",
       "      <td>Killed</td>\n",
       "      <td>69.0</td>\n",
       "      <td>Entire Body</td>\n",
       "      <td>NaN</td>\n",
       "      <td>F</td>\n",
       "      <td>Pedestrian</td>\n",
       "      <td>Pedestrian/Bicyclist/Other Pedestrian Not at I...</td>\n",
       "      <td>Unspecified</td>\n",
       "      <td>NaN</td>\n",
       "      <td>None Visible</td>\n",
       "      <td>Conscious</td>\n",
       "      <td>NaN</td>\n",
       "      <td>6504ea0a-c92d-444c-8127-284943be9aac</td>\n",
       "      <td>Unspecified</td>\n",
       "      <td>NaN</td>\n",
       "      <td>Pedestrian</td>\n",
       "      <td>11991283</td>\n",
       "      <td>Crossing, No Signal, Marked Crosswalk</td>\n",
       "      <td>4420918</td>\n",
       "    </tr>\n",
       "  </tbody>\n",
       "</table>\n",
       "</div>"
      ],
      "text/plain": [
       "   CRASH_DATE CRASH_TIME PERSON_INJURY  PERSON_AGE BODILY_INJURY  \\\n",
       "0  2021-05-02      21:00        Killed        62.0          Head   \n",
       "1  2021-05-21       0:00        Killed        24.0   Entire Body   \n",
       "2  2021-10-15       2:00        Killed        30.0          Head   \n",
       "3  2021-04-17      13:00        Killed        71.0          Head   \n",
       "4  2021-05-25      22:00        Killed        69.0   Entire Body   \n",
       "\n",
       "   SAFETY_EQUIPMENT PERSON_SEX PERSON_TYPE  \\\n",
       "0               NaN          F  Pedestrian   \n",
       "1  Air Bag Deployed          M    Occupant   \n",
       "2              None          M    Occupant   \n",
       "3               NaN          M  Pedestrian   \n",
       "4               NaN          F  Pedestrian   \n",
       "\n",
       "                                        PED_LOCATION  \\\n",
       "0  Pedestrian/Bicyclist/Other Pedestrian at Inter...   \n",
       "1                                                NaN   \n",
       "2                                                NaN   \n",
       "3  Pedestrian/Bicyclist/Other Pedestrian Not at I...   \n",
       "4  Pedestrian/Bicyclist/Other Pedestrian Not at I...   \n",
       "\n",
       "                               CONTRIBUTING_FACTOR_2     EJECTION  \\\n",
       "0  Pedestrian/Bicyclist/Other Pedestrian Error/Co...          NaN   \n",
       "1                                                NaN      Trapped   \n",
       "2                                                NaN  Not Ejected   \n",
       "3                                        Unspecified          NaN   \n",
       "4                                        Unspecified          NaN   \n",
       "\n",
       "         COMPLAINT EMOTIONAL_STATUS  VEHICLE_ID  \\\n",
       "0  Severe Bleeding   Apparent Death         NaN   \n",
       "1         Internal   Apparent Death  19986231.0   \n",
       "2         Internal   Apparent Death  20091024.0   \n",
       "3         Internal      Unconscious         NaN   \n",
       "4     None Visible        Conscious         NaN   \n",
       "\n",
       "                              PERSON_ID  \\\n",
       "0  f2f329b6-2dfc-4bd0-b751-2e4255f1ea06   \n",
       "1  e27e12a2-0485-4e22-b692-3f8a765d2582   \n",
       "2  1a6f5aa7-5125-4be2-8499-fe7977cb0d90   \n",
       "3  b950706b-00a4-485c-84c5-777208cc3cc9   \n",
       "4  6504ea0a-c92d-444c-8127-284943be9aac   \n",
       "\n",
       "                               CONTRIBUTING_FACTOR_1 POSITION_IN_VEHICLE  \\\n",
       "0                        Traffic Control Disregarded                 NaN   \n",
       "1                                                NaN              Driver   \n",
       "2                                                NaN              Driver   \n",
       "3  Pedestrian/Bicyclist/Other Pedestrian Error/Co...                 NaN   \n",
       "4                                        Unspecified                 NaN   \n",
       "\n",
       "     PED_ROLE  UNIQUE_ID                             PED_ACTION  COLLISION_ID  \n",
       "0  Pedestrian   11791937                Crossing Against Signal       4412948  \n",
       "1      Driver   11819198                                    NaN       4419608  \n",
       "2      Driver   11998317                                    NaN       4467504  \n",
       "3  Pedestrian   11745791      Crossing, No Signal, or Crosswalk       4408062  \n",
       "4  Pedestrian   11991283  Crossing, No Signal, Marked Crosswalk       4420918  "
      ]
     },
     "execution_count": 127,
     "metadata": {},
     "output_type": "execute_result"
    }
   ],
   "source": [
    "data = pd.read_csv(\"Datasets/NYC_Motor_Vehicle_Collisions_to_Person/NYC_Motor_Vehicle_Collisions_to_Person.csv\")\n",
    "data.head()"
   ]
  },
  {
   "cell_type": "markdown",
   "metadata": {},
   "source": [
    "# Getting the general view of the Data"
   ]
  },
  {
   "cell_type": "code",
   "execution_count": 128,
   "metadata": {},
   "outputs": [
    {
     "data": {
      "text/plain": [
       "Index(['CRASH_DATE', 'CRASH_TIME', 'PERSON_INJURY', 'PERSON_AGE',\n",
       "       'BODILY_INJURY', 'SAFETY_EQUIPMENT', 'PERSON_SEX', 'PERSON_TYPE',\n",
       "       'PED_LOCATION', 'CONTRIBUTING_FACTOR_2', 'EJECTION', 'COMPLAINT',\n",
       "       'EMOTIONAL_STATUS', 'VEHICLE_ID', 'PERSON_ID', 'CONTRIBUTING_FACTOR_1',\n",
       "       'POSITION_IN_VEHICLE', 'PED_ROLE', 'UNIQUE_ID', 'PED_ACTION',\n",
       "       'COLLISION_ID'],\n",
       "      dtype='object')"
      ]
     },
     "execution_count": 128,
     "metadata": {},
     "output_type": "execute_result"
    }
   ],
   "source": [
    "data.columns"
   ]
  },
  {
   "cell_type": "code",
   "execution_count": 129,
   "metadata": {},
   "outputs": [
    {
     "name": "stdout",
     "output_type": "stream",
     "text": [
      "<class 'pandas.core.frame.DataFrame'>\n",
      "RangeIndex: 45669 entries, 0 to 45668\n",
      "Data columns (total 21 columns):\n",
      " #   Column                 Non-Null Count  Dtype  \n",
      "---  ------                 --------------  -----  \n",
      " 0   CRASH_DATE             45669 non-null  object \n",
      " 1   CRASH_TIME             45669 non-null  object \n",
      " 2   PERSON_INJURY          45669 non-null  object \n",
      " 3   PERSON_AGE             45248 non-null  float64\n",
      " 4   BODILY_INJURY          45669 non-null  object \n",
      " 5   SAFETY_EQUIPMENT       39434 non-null  object \n",
      " 6   PERSON_SEX             45669 non-null  object \n",
      " 7   PERSON_TYPE            45669 non-null  object \n",
      " 8   PED_LOCATION           6571 non-null   object \n",
      " 9   CONTRIBUTING_FACTOR_2  6546 non-null   object \n",
      " 10  EJECTION               39429 non-null  object \n",
      " 11  COMPLAINT              45669 non-null  object \n",
      " 12  EMOTIONAL_STATUS       45669 non-null  object \n",
      " 13  VEHICLE_ID             39098 non-null  float64\n",
      " 14  PERSON_ID              45669 non-null  object \n",
      " 15  CONTRIBUTING_FACTOR_1  6558 non-null   object \n",
      " 16  POSITION_IN_VEHICLE    39448 non-null  object \n",
      " 17  PED_ROLE               45669 non-null  object \n",
      " 18  UNIQUE_ID              45669 non-null  int64  \n",
      " 19  PED_ACTION             6571 non-null   object \n",
      " 20  COLLISION_ID           45669 non-null  int64  \n",
      "dtypes: float64(2), int64(2), object(17)\n",
      "memory usage: 7.3+ MB\n"
     ]
    }
   ],
   "source": [
    "data.info()"
   ]
  },
  {
   "cell_type": "markdown",
   "metadata": {},
   "source": [
    "# Handling Numerical Columns"
   ]
  },
  {
   "cell_type": "markdown",
   "metadata": {},
   "source": [
    "### Seperating the numerical Columns from dataset and getting the null values of it"
   ]
  },
  {
   "cell_type": "code",
   "execution_count": 130,
   "metadata": {},
   "outputs": [
    {
     "data": {
      "text/plain": [
       "PERSON_AGE       421\n",
       "VEHICLE_ID      6571\n",
       "UNIQUE_ID          0\n",
       "COLLISION_ID       0\n",
       "dtype: int64"
      ]
     },
     "execution_count": 130,
     "metadata": {},
     "output_type": "execute_result"
    }
   ],
   "source": [
    "num_categories = [feature for feature in data.columns if data[feature].dtypes != \"O\"] # here \"O\" basically means object which represents string values\n",
    "data[num_categories].isnull().sum()"
   ]
  },
  {
   "cell_type": "markdown",
   "metadata": {},
   "source": [
    "### After geting the numerical value we not drop that missing value instead we will fill all the messing values with median number"
   ]
  },
  {
   "cell_type": "markdown",
   "metadata": {},
   "source": [
    "#### Here I have used ``median()`` insted of ``mean()`` to avoid *outliers*"
   ]
  },
  {
   "cell_type": "code",
   "execution_count": 169,
   "metadata": {},
   "outputs": [
    {
     "data": {
      "text/html": [
       "<div>\n",
       "<style scoped>\n",
       "    .dataframe tbody tr th:only-of-type {\n",
       "        vertical-align: middle;\n",
       "    }\n",
       "\n",
       "    .dataframe tbody tr th {\n",
       "        vertical-align: top;\n",
       "    }\n",
       "\n",
       "    .dataframe thead th {\n",
       "        text-align: right;\n",
       "    }\n",
       "</style>\n",
       "<table border=\"1\" class=\"dataframe\">\n",
       "  <thead>\n",
       "    <tr style=\"text-align: right;\">\n",
       "      <th></th>\n",
       "      <th>CRASH_DATE</th>\n",
       "      <th>CRASH_TIME</th>\n",
       "      <th>PERSON_INJURY</th>\n",
       "      <th>PERSON_AGE</th>\n",
       "      <th>BODILY_INJURY</th>\n",
       "      <th>SAFETY_EQUIPMENT</th>\n",
       "      <th>PERSON_SEX</th>\n",
       "      <th>PERSON_TYPE</th>\n",
       "      <th>PED_LOCATION</th>\n",
       "      <th>CONTRIBUTING_FACTOR_2</th>\n",
       "      <th>EJECTION</th>\n",
       "      <th>COMPLAINT</th>\n",
       "      <th>EMOTIONAL_STATUS</th>\n",
       "      <th>VEHICLE_ID</th>\n",
       "      <th>PERSON_ID</th>\n",
       "      <th>CONTRIBUTING_FACTOR_1</th>\n",
       "      <th>POSITION_IN_VEHICLE</th>\n",
       "      <th>PED_ROLE</th>\n",
       "      <th>UNIQUE_ID</th>\n",
       "      <th>PED_ACTION</th>\n",
       "      <th>COLLISION_ID</th>\n",
       "    </tr>\n",
       "  </thead>\n",
       "  <tbody>\n",
       "    <tr>\n",
       "      <th>0</th>\n",
       "      <td>2021-05-02</td>\n",
       "      <td>21:00</td>\n",
       "      <td>Killed</td>\n",
       "      <td>62.0</td>\n",
       "      <td>Head</td>\n",
       "      <td>missing values</td>\n",
       "      <td>F</td>\n",
       "      <td>Pedestrian</td>\n",
       "      <td>Pedestrian/Bicyclist/Other Pedestrian at Inter...</td>\n",
       "      <td>Pedestrian/Bicyclist/Other Pedestrian Error/Co...</td>\n",
       "      <td>missing values</td>\n",
       "      <td>Severe Bleeding</td>\n",
       "      <td>Apparent Death</td>\n",
       "      <td>20008772.5</td>\n",
       "      <td>f2f329b6-2dfc-4bd0-b751-2e4255f1ea06</td>\n",
       "      <td>Traffic Control Disregarded</td>\n",
       "      <td>missing values</td>\n",
       "      <td>Pedestrian</td>\n",
       "      <td>11791937</td>\n",
       "      <td>Crossing Against Signal</td>\n",
       "      <td>4412948</td>\n",
       "    </tr>\n",
       "    <tr>\n",
       "      <th>1</th>\n",
       "      <td>2021-05-21</td>\n",
       "      <td>0:00</td>\n",
       "      <td>Killed</td>\n",
       "      <td>24.0</td>\n",
       "      <td>Entire Body</td>\n",
       "      <td>Air Bag Deployed</td>\n",
       "      <td>M</td>\n",
       "      <td>Occupant</td>\n",
       "      <td>missing values</td>\n",
       "      <td>missing values</td>\n",
       "      <td>Trapped</td>\n",
       "      <td>Internal</td>\n",
       "      <td>Apparent Death</td>\n",
       "      <td>19986231.0</td>\n",
       "      <td>e27e12a2-0485-4e22-b692-3f8a765d2582</td>\n",
       "      <td>missing values</td>\n",
       "      <td>Driver</td>\n",
       "      <td>Driver</td>\n",
       "      <td>11819198</td>\n",
       "      <td>missing values</td>\n",
       "      <td>4419608</td>\n",
       "    </tr>\n",
       "    <tr>\n",
       "      <th>2</th>\n",
       "      <td>2021-10-15</td>\n",
       "      <td>2:00</td>\n",
       "      <td>Killed</td>\n",
       "      <td>30.0</td>\n",
       "      <td>Head</td>\n",
       "      <td>None</td>\n",
       "      <td>M</td>\n",
       "      <td>Occupant</td>\n",
       "      <td>missing values</td>\n",
       "      <td>missing values</td>\n",
       "      <td>Not Ejected</td>\n",
       "      <td>Internal</td>\n",
       "      <td>Apparent Death</td>\n",
       "      <td>20091024.0</td>\n",
       "      <td>1a6f5aa7-5125-4be2-8499-fe7977cb0d90</td>\n",
       "      <td>missing values</td>\n",
       "      <td>Driver</td>\n",
       "      <td>Driver</td>\n",
       "      <td>11998317</td>\n",
       "      <td>missing values</td>\n",
       "      <td>4467504</td>\n",
       "    </tr>\n",
       "  </tbody>\n",
       "</table>\n",
       "</div>"
      ],
      "text/plain": [
       "  CRASH_DATE CRASH_TIME PERSON_INJURY  PERSON_AGE BODILY_INJURY  \\\n",
       "0 2021-05-02      21:00        Killed        62.0          Head   \n",
       "1 2021-05-21       0:00        Killed        24.0   Entire Body   \n",
       "2 2021-10-15       2:00        Killed        30.0          Head   \n",
       "\n",
       "   SAFETY_EQUIPMENT PERSON_SEX PERSON_TYPE  \\\n",
       "0    missing values          F  Pedestrian   \n",
       "1  Air Bag Deployed          M    Occupant   \n",
       "2              None          M    Occupant   \n",
       "\n",
       "                                        PED_LOCATION  \\\n",
       "0  Pedestrian/Bicyclist/Other Pedestrian at Inter...   \n",
       "1                                     missing values   \n",
       "2                                     missing values   \n",
       "\n",
       "                               CONTRIBUTING_FACTOR_2        EJECTION  \\\n",
       "0  Pedestrian/Bicyclist/Other Pedestrian Error/Co...  missing values   \n",
       "1                                     missing values         Trapped   \n",
       "2                                     missing values     Not Ejected   \n",
       "\n",
       "         COMPLAINT EMOTIONAL_STATUS  VEHICLE_ID  \\\n",
       "0  Severe Bleeding   Apparent Death  20008772.5   \n",
       "1         Internal   Apparent Death  19986231.0   \n",
       "2         Internal   Apparent Death  20091024.0   \n",
       "\n",
       "                              PERSON_ID        CONTRIBUTING_FACTOR_1  \\\n",
       "0  f2f329b6-2dfc-4bd0-b751-2e4255f1ea06  Traffic Control Disregarded   \n",
       "1  e27e12a2-0485-4e22-b692-3f8a765d2582               missing values   \n",
       "2  1a6f5aa7-5125-4be2-8499-fe7977cb0d90               missing values   \n",
       "\n",
       "  POSITION_IN_VEHICLE    PED_ROLE  UNIQUE_ID               PED_ACTION  \\\n",
       "0      missing values  Pedestrian   11791937  Crossing Against Signal   \n",
       "1              Driver      Driver   11819198           missing values   \n",
       "2              Driver      Driver   11998317           missing values   \n",
       "\n",
       "   COLLISION_ID  \n",
       "0       4412948  \n",
       "1       4419608  \n",
       "2       4467504  "
      ]
     },
     "execution_count": 169,
     "metadata": {},
     "output_type": "execute_result"
    }
   ],
   "source": [
    "for feature in num_categories:\n",
    "    median_values = data[feature].median()\n",
    "    data[feature] = data[feature].fillna(median_values)\n",
    "\n",
    "data.head(3)"
   ]
  },
  {
   "cell_type": "markdown",
   "metadata": {},
   "source": [
    "# Handling Categorical Columns"
   ]
  },
  {
   "cell_type": "markdown",
   "metadata": {},
   "source": [
    "### Seperating the Categorical Columns from Datset and getting the null values of it"
   ]
  },
  {
   "cell_type": "code",
   "execution_count": 132,
   "metadata": {},
   "outputs": [
    {
     "data": {
      "text/plain": [
       "CRASH_DATE                   0\n",
       "CRASH_TIME                   0\n",
       "PERSON_INJURY                0\n",
       "BODILY_INJURY                0\n",
       "SAFETY_EQUIPMENT          6235\n",
       "PERSON_SEX                   0\n",
       "PERSON_TYPE                  0\n",
       "PED_LOCATION             39098\n",
       "CONTRIBUTING_FACTOR_2    39123\n",
       "EJECTION                  6240\n",
       "COMPLAINT                    0\n",
       "EMOTIONAL_STATUS             0\n",
       "PERSON_ID                    0\n",
       "CONTRIBUTING_FACTOR_1    39111\n",
       "POSITION_IN_VEHICLE       6221\n",
       "PED_ROLE                     0\n",
       "PED_ACTION               39098\n",
       "dtype: int64"
      ]
     },
     "execution_count": 132,
     "metadata": {},
     "output_type": "execute_result"
    }
   ],
   "source": [
    "cat_categories = [feature for feature in data.columns if data[feature].dtypes == \"O\"]\n",
    "data[cat_categories].isnull().sum()"
   ]
  },
  {
   "cell_type": "markdown",
   "metadata": {},
   "source": [
    "### After geting the Categorial Columns insted of droping the NaN values we will be filling it with *missing values*"
   ]
  },
  {
   "cell_type": "code",
   "execution_count": 133,
   "metadata": {},
   "outputs": [
    {
     "data": {
      "text/html": [
       "<div>\n",
       "<style scoped>\n",
       "    .dataframe tbody tr th:only-of-type {\n",
       "        vertical-align: middle;\n",
       "    }\n",
       "\n",
       "    .dataframe tbody tr th {\n",
       "        vertical-align: top;\n",
       "    }\n",
       "\n",
       "    .dataframe thead th {\n",
       "        text-align: right;\n",
       "    }\n",
       "</style>\n",
       "<table border=\"1\" class=\"dataframe\">\n",
       "  <thead>\n",
       "    <tr style=\"text-align: right;\">\n",
       "      <th></th>\n",
       "      <th>CRASH_DATE</th>\n",
       "      <th>CRASH_TIME</th>\n",
       "      <th>PERSON_INJURY</th>\n",
       "      <th>PERSON_AGE</th>\n",
       "      <th>BODILY_INJURY</th>\n",
       "      <th>SAFETY_EQUIPMENT</th>\n",
       "      <th>PERSON_SEX</th>\n",
       "      <th>PERSON_TYPE</th>\n",
       "      <th>PED_LOCATION</th>\n",
       "      <th>CONTRIBUTING_FACTOR_2</th>\n",
       "      <th>EJECTION</th>\n",
       "      <th>COMPLAINT</th>\n",
       "      <th>EMOTIONAL_STATUS</th>\n",
       "      <th>VEHICLE_ID</th>\n",
       "      <th>PERSON_ID</th>\n",
       "      <th>CONTRIBUTING_FACTOR_1</th>\n",
       "      <th>POSITION_IN_VEHICLE</th>\n",
       "      <th>PED_ROLE</th>\n",
       "      <th>UNIQUE_ID</th>\n",
       "      <th>PED_ACTION</th>\n",
       "      <th>COLLISION_ID</th>\n",
       "    </tr>\n",
       "  </thead>\n",
       "  <tbody>\n",
       "    <tr>\n",
       "      <th>0</th>\n",
       "      <td>2021-05-02</td>\n",
       "      <td>21:00</td>\n",
       "      <td>Killed</td>\n",
       "      <td>62.0</td>\n",
       "      <td>Head</td>\n",
       "      <td>missing values</td>\n",
       "      <td>F</td>\n",
       "      <td>Pedestrian</td>\n",
       "      <td>Pedestrian/Bicyclist/Other Pedestrian at Inter...</td>\n",
       "      <td>Pedestrian/Bicyclist/Other Pedestrian Error/Co...</td>\n",
       "      <td>missing values</td>\n",
       "      <td>Severe Bleeding</td>\n",
       "      <td>Apparent Death</td>\n",
       "      <td>20008772.5</td>\n",
       "      <td>f2f329b6-2dfc-4bd0-b751-2e4255f1ea06</td>\n",
       "      <td>Traffic Control Disregarded</td>\n",
       "      <td>missing values</td>\n",
       "      <td>Pedestrian</td>\n",
       "      <td>11791937</td>\n",
       "      <td>Crossing Against Signal</td>\n",
       "      <td>4412948</td>\n",
       "    </tr>\n",
       "    <tr>\n",
       "      <th>1</th>\n",
       "      <td>2021-05-21</td>\n",
       "      <td>0:00</td>\n",
       "      <td>Killed</td>\n",
       "      <td>24.0</td>\n",
       "      <td>Entire Body</td>\n",
       "      <td>Air Bag Deployed</td>\n",
       "      <td>M</td>\n",
       "      <td>Occupant</td>\n",
       "      <td>missing values</td>\n",
       "      <td>missing values</td>\n",
       "      <td>Trapped</td>\n",
       "      <td>Internal</td>\n",
       "      <td>Apparent Death</td>\n",
       "      <td>19986231.0</td>\n",
       "      <td>e27e12a2-0485-4e22-b692-3f8a765d2582</td>\n",
       "      <td>missing values</td>\n",
       "      <td>Driver</td>\n",
       "      <td>Driver</td>\n",
       "      <td>11819198</td>\n",
       "      <td>missing values</td>\n",
       "      <td>4419608</td>\n",
       "    </tr>\n",
       "    <tr>\n",
       "      <th>2</th>\n",
       "      <td>2021-10-15</td>\n",
       "      <td>2:00</td>\n",
       "      <td>Killed</td>\n",
       "      <td>30.0</td>\n",
       "      <td>Head</td>\n",
       "      <td>None</td>\n",
       "      <td>M</td>\n",
       "      <td>Occupant</td>\n",
       "      <td>missing values</td>\n",
       "      <td>missing values</td>\n",
       "      <td>Not Ejected</td>\n",
       "      <td>Internal</td>\n",
       "      <td>Apparent Death</td>\n",
       "      <td>20091024.0</td>\n",
       "      <td>1a6f5aa7-5125-4be2-8499-fe7977cb0d90</td>\n",
       "      <td>missing values</td>\n",
       "      <td>Driver</td>\n",
       "      <td>Driver</td>\n",
       "      <td>11998317</td>\n",
       "      <td>missing values</td>\n",
       "      <td>4467504</td>\n",
       "    </tr>\n",
       "    <tr>\n",
       "      <th>3</th>\n",
       "      <td>2021-04-17</td>\n",
       "      <td>13:00</td>\n",
       "      <td>Killed</td>\n",
       "      <td>71.0</td>\n",
       "      <td>Head</td>\n",
       "      <td>missing values</td>\n",
       "      <td>M</td>\n",
       "      <td>Pedestrian</td>\n",
       "      <td>Pedestrian/Bicyclist/Other Pedestrian Not at I...</td>\n",
       "      <td>Unspecified</td>\n",
       "      <td>missing values</td>\n",
       "      <td>Internal</td>\n",
       "      <td>Unconscious</td>\n",
       "      <td>20008772.5</td>\n",
       "      <td>b950706b-00a4-485c-84c5-777208cc3cc9</td>\n",
       "      <td>Pedestrian/Bicyclist/Other Pedestrian Error/Co...</td>\n",
       "      <td>missing values</td>\n",
       "      <td>Pedestrian</td>\n",
       "      <td>11745791</td>\n",
       "      <td>Crossing, No Signal, or Crosswalk</td>\n",
       "      <td>4408062</td>\n",
       "    </tr>\n",
       "    <tr>\n",
       "      <th>4</th>\n",
       "      <td>2021-05-25</td>\n",
       "      <td>22:00</td>\n",
       "      <td>Killed</td>\n",
       "      <td>69.0</td>\n",
       "      <td>Entire Body</td>\n",
       "      <td>missing values</td>\n",
       "      <td>F</td>\n",
       "      <td>Pedestrian</td>\n",
       "      <td>Pedestrian/Bicyclist/Other Pedestrian Not at I...</td>\n",
       "      <td>Unspecified</td>\n",
       "      <td>missing values</td>\n",
       "      <td>None Visible</td>\n",
       "      <td>Conscious</td>\n",
       "      <td>20008772.5</td>\n",
       "      <td>6504ea0a-c92d-444c-8127-284943be9aac</td>\n",
       "      <td>Unspecified</td>\n",
       "      <td>missing values</td>\n",
       "      <td>Pedestrian</td>\n",
       "      <td>11991283</td>\n",
       "      <td>Crossing, No Signal, Marked Crosswalk</td>\n",
       "      <td>4420918</td>\n",
       "    </tr>\n",
       "  </tbody>\n",
       "</table>\n",
       "</div>"
      ],
      "text/plain": [
       "   CRASH_DATE CRASH_TIME PERSON_INJURY  PERSON_AGE BODILY_INJURY  \\\n",
       "0  2021-05-02      21:00        Killed        62.0          Head   \n",
       "1  2021-05-21       0:00        Killed        24.0   Entire Body   \n",
       "2  2021-10-15       2:00        Killed        30.0          Head   \n",
       "3  2021-04-17      13:00        Killed        71.0          Head   \n",
       "4  2021-05-25      22:00        Killed        69.0   Entire Body   \n",
       "\n",
       "   SAFETY_EQUIPMENT PERSON_SEX PERSON_TYPE  \\\n",
       "0    missing values          F  Pedestrian   \n",
       "1  Air Bag Deployed          M    Occupant   \n",
       "2              None          M    Occupant   \n",
       "3    missing values          M  Pedestrian   \n",
       "4    missing values          F  Pedestrian   \n",
       "\n",
       "                                        PED_LOCATION  \\\n",
       "0  Pedestrian/Bicyclist/Other Pedestrian at Inter...   \n",
       "1                                     missing values   \n",
       "2                                     missing values   \n",
       "3  Pedestrian/Bicyclist/Other Pedestrian Not at I...   \n",
       "4  Pedestrian/Bicyclist/Other Pedestrian Not at I...   \n",
       "\n",
       "                               CONTRIBUTING_FACTOR_2        EJECTION  \\\n",
       "0  Pedestrian/Bicyclist/Other Pedestrian Error/Co...  missing values   \n",
       "1                                     missing values         Trapped   \n",
       "2                                     missing values     Not Ejected   \n",
       "3                                        Unspecified  missing values   \n",
       "4                                        Unspecified  missing values   \n",
       "\n",
       "         COMPLAINT EMOTIONAL_STATUS  VEHICLE_ID  \\\n",
       "0  Severe Bleeding   Apparent Death  20008772.5   \n",
       "1         Internal   Apparent Death  19986231.0   \n",
       "2         Internal   Apparent Death  20091024.0   \n",
       "3         Internal      Unconscious  20008772.5   \n",
       "4     None Visible        Conscious  20008772.5   \n",
       "\n",
       "                              PERSON_ID  \\\n",
       "0  f2f329b6-2dfc-4bd0-b751-2e4255f1ea06   \n",
       "1  e27e12a2-0485-4e22-b692-3f8a765d2582   \n",
       "2  1a6f5aa7-5125-4be2-8499-fe7977cb0d90   \n",
       "3  b950706b-00a4-485c-84c5-777208cc3cc9   \n",
       "4  6504ea0a-c92d-444c-8127-284943be9aac   \n",
       "\n",
       "                               CONTRIBUTING_FACTOR_1 POSITION_IN_VEHICLE  \\\n",
       "0                        Traffic Control Disregarded      missing values   \n",
       "1                                     missing values              Driver   \n",
       "2                                     missing values              Driver   \n",
       "3  Pedestrian/Bicyclist/Other Pedestrian Error/Co...      missing values   \n",
       "4                                        Unspecified      missing values   \n",
       "\n",
       "     PED_ROLE  UNIQUE_ID                             PED_ACTION  COLLISION_ID  \n",
       "0  Pedestrian   11791937                Crossing Against Signal       4412948  \n",
       "1      Driver   11819198                         missing values       4419608  \n",
       "2      Driver   11998317                         missing values       4467504  \n",
       "3  Pedestrian   11745791      Crossing, No Signal, or Crosswalk       4408062  \n",
       "4  Pedestrian   11991283  Crossing, No Signal, Marked Crosswalk       4420918  "
      ]
     },
     "execution_count": 133,
     "metadata": {},
     "output_type": "execute_result"
    }
   ],
   "source": [
    "data[cat_categories] = data[cat_categories].fillna(\"missing values\")\n",
    "data.head()"
   ]
  },
  {
   "cell_type": "markdown",
   "metadata": {},
   "source": [
    "## CrossChecking if there are more NaN values  Left or Not."
   ]
  },
  {
   "cell_type": "code",
   "execution_count": 134,
   "metadata": {},
   "outputs": [
    {
     "data": {
      "text/plain": [
       "CRASH_DATE               0\n",
       "CRASH_TIME               0\n",
       "PERSON_INJURY            0\n",
       "PERSON_AGE               0\n",
       "BODILY_INJURY            0\n",
       "SAFETY_EQUIPMENT         0\n",
       "PERSON_SEX               0\n",
       "PERSON_TYPE              0\n",
       "PED_LOCATION             0\n",
       "CONTRIBUTING_FACTOR_2    0\n",
       "EJECTION                 0\n",
       "COMPLAINT                0\n",
       "EMOTIONAL_STATUS         0\n",
       "VEHICLE_ID               0\n",
       "PERSON_ID                0\n",
       "CONTRIBUTING_FACTOR_1    0\n",
       "POSITION_IN_VEHICLE      0\n",
       "PED_ROLE                 0\n",
       "UNIQUE_ID                0\n",
       "PED_ACTION               0\n",
       "COLLISION_ID             0\n",
       "dtype: int64"
      ]
     },
     "execution_count": 134,
     "metadata": {},
     "output_type": "execute_result"
    }
   ],
   "source": [
    "data.isnull().sum()"
   ]
  },
  {
   "cell_type": "markdown",
   "metadata": {},
   "source": [
    "# Handling DateTime Columns"
   ]
  },
  {
   "cell_type": "code",
   "execution_count": 135,
   "metadata": {},
   "outputs": [
    {
     "data": {
      "text/html": [
       "<div>\n",
       "<style scoped>\n",
       "    .dataframe tbody tr th:only-of-type {\n",
       "        vertical-align: middle;\n",
       "    }\n",
       "\n",
       "    .dataframe tbody tr th {\n",
       "        vertical-align: top;\n",
       "    }\n",
       "\n",
       "    .dataframe thead th {\n",
       "        text-align: right;\n",
       "    }\n",
       "</style>\n",
       "<table border=\"1\" class=\"dataframe\">\n",
       "  <thead>\n",
       "    <tr style=\"text-align: right;\">\n",
       "      <th></th>\n",
       "      <th>CRASH_DATE</th>\n",
       "      <th>CRASH_TIME</th>\n",
       "      <th>PERSON_INJURY</th>\n",
       "      <th>PERSON_AGE</th>\n",
       "      <th>BODILY_INJURY</th>\n",
       "      <th>SAFETY_EQUIPMENT</th>\n",
       "      <th>PERSON_SEX</th>\n",
       "      <th>PERSON_TYPE</th>\n",
       "      <th>PED_LOCATION</th>\n",
       "      <th>CONTRIBUTING_FACTOR_2</th>\n",
       "      <th>EJECTION</th>\n",
       "      <th>COMPLAINT</th>\n",
       "      <th>EMOTIONAL_STATUS</th>\n",
       "      <th>VEHICLE_ID</th>\n",
       "      <th>PERSON_ID</th>\n",
       "      <th>CONTRIBUTING_FACTOR_1</th>\n",
       "      <th>POSITION_IN_VEHICLE</th>\n",
       "      <th>PED_ROLE</th>\n",
       "      <th>UNIQUE_ID</th>\n",
       "      <th>PED_ACTION</th>\n",
       "      <th>COLLISION_ID</th>\n",
       "    </tr>\n",
       "  </thead>\n",
       "  <tbody>\n",
       "    <tr>\n",
       "      <th>0</th>\n",
       "      <td>2021-05-02</td>\n",
       "      <td>21:00</td>\n",
       "      <td>Killed</td>\n",
       "      <td>62.0</td>\n",
       "      <td>Head</td>\n",
       "      <td>missing values</td>\n",
       "      <td>F</td>\n",
       "      <td>Pedestrian</td>\n",
       "      <td>Pedestrian/Bicyclist/Other Pedestrian at Inter...</td>\n",
       "      <td>Pedestrian/Bicyclist/Other Pedestrian Error/Co...</td>\n",
       "      <td>missing values</td>\n",
       "      <td>Severe Bleeding</td>\n",
       "      <td>Apparent Death</td>\n",
       "      <td>20008772.5</td>\n",
       "      <td>f2f329b6-2dfc-4bd0-b751-2e4255f1ea06</td>\n",
       "      <td>Traffic Control Disregarded</td>\n",
       "      <td>missing values</td>\n",
       "      <td>Pedestrian</td>\n",
       "      <td>11791937</td>\n",
       "      <td>Crossing Against Signal</td>\n",
       "      <td>4412948</td>\n",
       "    </tr>\n",
       "    <tr>\n",
       "      <th>1</th>\n",
       "      <td>2021-05-21</td>\n",
       "      <td>0:00</td>\n",
       "      <td>Killed</td>\n",
       "      <td>24.0</td>\n",
       "      <td>Entire Body</td>\n",
       "      <td>Air Bag Deployed</td>\n",
       "      <td>M</td>\n",
       "      <td>Occupant</td>\n",
       "      <td>missing values</td>\n",
       "      <td>missing values</td>\n",
       "      <td>Trapped</td>\n",
       "      <td>Internal</td>\n",
       "      <td>Apparent Death</td>\n",
       "      <td>19986231.0</td>\n",
       "      <td>e27e12a2-0485-4e22-b692-3f8a765d2582</td>\n",
       "      <td>missing values</td>\n",
       "      <td>Driver</td>\n",
       "      <td>Driver</td>\n",
       "      <td>11819198</td>\n",
       "      <td>missing values</td>\n",
       "      <td>4419608</td>\n",
       "    </tr>\n",
       "    <tr>\n",
       "      <th>2</th>\n",
       "      <td>2021-10-15</td>\n",
       "      <td>2:00</td>\n",
       "      <td>Killed</td>\n",
       "      <td>30.0</td>\n",
       "      <td>Head</td>\n",
       "      <td>None</td>\n",
       "      <td>M</td>\n",
       "      <td>Occupant</td>\n",
       "      <td>missing values</td>\n",
       "      <td>missing values</td>\n",
       "      <td>Not Ejected</td>\n",
       "      <td>Internal</td>\n",
       "      <td>Apparent Death</td>\n",
       "      <td>20091024.0</td>\n",
       "      <td>1a6f5aa7-5125-4be2-8499-fe7977cb0d90</td>\n",
       "      <td>missing values</td>\n",
       "      <td>Driver</td>\n",
       "      <td>Driver</td>\n",
       "      <td>11998317</td>\n",
       "      <td>missing values</td>\n",
       "      <td>4467504</td>\n",
       "    </tr>\n",
       "  </tbody>\n",
       "</table>\n",
       "</div>"
      ],
      "text/plain": [
       "  CRASH_DATE CRASH_TIME PERSON_INJURY  PERSON_AGE BODILY_INJURY  \\\n",
       "0 2021-05-02      21:00        Killed        62.0          Head   \n",
       "1 2021-05-21       0:00        Killed        24.0   Entire Body   \n",
       "2 2021-10-15       2:00        Killed        30.0          Head   \n",
       "\n",
       "   SAFETY_EQUIPMENT PERSON_SEX PERSON_TYPE  \\\n",
       "0    missing values          F  Pedestrian   \n",
       "1  Air Bag Deployed          M    Occupant   \n",
       "2              None          M    Occupant   \n",
       "\n",
       "                                        PED_LOCATION  \\\n",
       "0  Pedestrian/Bicyclist/Other Pedestrian at Inter...   \n",
       "1                                     missing values   \n",
       "2                                     missing values   \n",
       "\n",
       "                               CONTRIBUTING_FACTOR_2        EJECTION  \\\n",
       "0  Pedestrian/Bicyclist/Other Pedestrian Error/Co...  missing values   \n",
       "1                                     missing values         Trapped   \n",
       "2                                     missing values     Not Ejected   \n",
       "\n",
       "         COMPLAINT EMOTIONAL_STATUS  VEHICLE_ID  \\\n",
       "0  Severe Bleeding   Apparent Death  20008772.5   \n",
       "1         Internal   Apparent Death  19986231.0   \n",
       "2         Internal   Apparent Death  20091024.0   \n",
       "\n",
       "                              PERSON_ID        CONTRIBUTING_FACTOR_1  \\\n",
       "0  f2f329b6-2dfc-4bd0-b751-2e4255f1ea06  Traffic Control Disregarded   \n",
       "1  e27e12a2-0485-4e22-b692-3f8a765d2582               missing values   \n",
       "2  1a6f5aa7-5125-4be2-8499-fe7977cb0d90               missing values   \n",
       "\n",
       "  POSITION_IN_VEHICLE    PED_ROLE  UNIQUE_ID               PED_ACTION  \\\n",
       "0      missing values  Pedestrian   11791937  Crossing Against Signal   \n",
       "1              Driver      Driver   11819198           missing values   \n",
       "2              Driver      Driver   11998317           missing values   \n",
       "\n",
       "   COLLISION_ID  \n",
       "0       4412948  \n",
       "1       4419608  \n",
       "2       4467504  "
      ]
     },
     "execution_count": 135,
     "metadata": {},
     "output_type": "execute_result"
    }
   ],
   "source": [
    "data['CRASH_DATE']=pd.to_datetime(data['CRASH_DATE'])\n",
    "data.head(3)"
   ]
  },
  {
   "cell_type": "markdown",
   "metadata": {},
   "source": [
    "# **EDA** (Exploring the various columns relation with different type of graphs)"
   ]
  },
  {
   "cell_type": "markdown",
   "metadata": {},
   "source": [
    "#### Person Age and Person Sex Bar Graph in releation to Person Injury"
   ]
  },
  {
   "cell_type": "code",
   "execution_count": 162,
   "metadata": {},
   "outputs": [
    {
     "data": {
      "image/png": "[encoded data removed]",
      "text/plain": [
       "<Figure size 1080x432 with 1 Axes>"
      ]
     },
     "metadata": {
      "needs_background": "light"
     },
     "output_type": "display_data"
    }
   ],
   "source": [
    "plt.figure(figsize=(15,6))\n",
    "sns.barplot(x=\"PERSON_SEX\", y= \"PERSON_AGE\", hue=\"PERSON_INJURY\", data=data)\n",
    "plt.title('Person Age and Person Sex Bar Graph in releation to Person Injury')\n",
    "plt.show()"
   ]
  },
  {
   "cell_type": "markdown",
   "metadata": {},
   "source": [
    "#### Complaint bar graph after Accident"
   ]
  },
  {
   "cell_type": "code",
   "execution_count": 161,
   "metadata": {},
   "outputs": [
    {
     "data": {
      "image/png": "[encoded data removed]",
      "text/plain": [
       "<Figure size 1080x432 with 1 Axes>"
      ]
     },
     "metadata": {
      "needs_background": "light"
     },
     "output_type": "display_data"
    }
   ],
   "source": [
    "plt.figure(figsize=(15,6))\n",
    "sns.countplot(x=\"COMPLAINT\", data=data)\n",
    "plt.title('Complaint bar graph after Accident')\n",
    "plt.xticks(rotation=80)\n",
    "plt.show()"
   ]
  },
  {
   "cell_type": "markdown",
   "metadata": {},
   "source": [
    "#### Relation Between Ejection type and Emotional Status"
   ]
  },
  {
   "cell_type": "code",
   "execution_count": 155,
   "metadata": {},
   "outputs": [
    {
     "data": {
      "image/png": "[encoded data removed]",
      "text/plain": [
       "<Figure size 1080x432 with 1 Axes>"
      ]
     },
     "metadata": {
      "needs_background": "light"
     },
     "output_type": "display_data"
    }
   ],
   "source": [
    "plt.figure(figsize=(15,6))\n",
    "sns.countplot(x= \"EMOTIONAL_STATUS\", hue=\"EJECTION\", data=data)\n",
    "plt.title('Relation Between Ejection type and Emotional Status')\n",
    "plt.xticks(rotation=90)\n",
    "plt.show()"
   ]
  },
  {
   "cell_type": "markdown",
   "metadata": {},
   "source": [
    "#### Relation Between Body Injury and PED Role"
   ]
  },
  {
   "cell_type": "code",
   "execution_count": 165,
   "metadata": {},
   "outputs": [
    {
     "data": {
      "image/png": "[encoded data removed]",
      "text/plain": [
       "<Figure size 1080x432 with 1 Axes>"
      ]
     },
     "metadata": {
      "needs_background": "light"
     },
     "output_type": "display_data"
    }
   ],
   "source": [
    "plt.figure(figsize=(15,6))\n",
    "sns.countplot(x= \"BODILY_INJURY\", hue=\"PED_ROLE\", data=data)\n",
    "plt.title('Relation Between Body Injury and PED Role')\n",
    "plt.xticks(rotation=90)\n",
    "plt.show()"
   ]
  },
  {
   "cell_type": "markdown",
   "metadata": {},
   "source": [
    "#### 2021 Collisions Each Month"
   ]
  },
  {
   "cell_type": "code",
   "execution_count": 168,
   "metadata": {},
   "outputs": [
    {
     "data": {
      "image/png": "[encoded data removed]",
      "text/plain": [
       "<Figure size 1080x432 with 1 Axes>"
      ]
     },
     "metadata": {
      "needs_background": "light"
     },
     "output_type": "display_data"
    }
   ],
   "source": [
    "plt.figure(figsize=(15,6))\n",
    "data_for_month = data['CRASH_DATE'].dt.month.value_counts().sort_index()\n",
    "plt.bar(data_for_month.index,data_for_month.values)\n",
    "plt.title('2021 Collisions Each Month')\n",
    "plt.xticks(range(1,13))\n",
    "plt.show()"
   ]
  },
  {
   "cell_type": "markdown",
   "metadata": {},
   "source": [
    "#### 2021 Collisions Each Hours"
   ]
  },
  {
   "cell_type": "code",
   "execution_count": 166,
   "metadata": {},
   "outputs": [
    {
     "data": {
      "image/png": "[encoded data removed]",
      "text/plain": [
       "<Figure size 432x288 with 1 Axes>"
      ]
     },
     "metadata": {
      "needs_background": "light"
     },
     "output_type": "display_data"
    }
   ],
   "source": [
    "# This Peace of code was taken form a notebook [When do the most traffic accidents occur?] from a Kaggle user @kukuroo3 \n",
    "\n",
    "dfp= data['CRASH_TIME'].str.split(':').str[0].astype('int').value_counts().sort_index()\n",
    "plt.bar(dfp.index,dfp.values)\n",
    "\n",
    "plt.xticks(range(0,24,6),[str(x)+\":00\" for x in range(0,24,6)])\n",
    "plt.xlabel('Hour')\n",
    "plt.ylabel('Count')\n",
    "plt.title('2021 Collisions Each Hours')\n",
    "plt.show()"
   ]
  },
  {
   "cell_type": "markdown",
   "metadata": {},
   "source": [
    "\n",
    "# Result Of **EDA**\n",
    "\n",
    "### 1) Accoring to the data there are more person killed then Injured in the Accident.\n",
    "### 2) Accoring to the data Females accidents rate are more than male accident rate.\n",
    "### 3) Accoring to the data age between 40-50 has the most tendency to fall in an accident.\n",
    "### 4) Accoring to the data the people who got Injured are more likely to complain about Pain, Nausea, None Vision and Minor Bleeding\n",
    "### 5) Accoring to the data if seat-belts are not ejected people are likely to be in Conscious but in shock state\n",
    "### 6) Accoring to the data Divers are in the most danger as they have maximum number of Body Injuries other than pedestrian and passenger\n",
    "### 7) Accoring to the data Head Injury, Back Injury, Knee-lower-leg-foot Injury and Neck Injury are the most comman Injury during Road Accident\n",
    "### 8) Accoring to the data Month of May-June are the most dangrous month as most of the accident occours in this particaular month\n"
   ]
  }
 ],
 "metadata": {
  "interpreter": {
   "hash": "ecf5722fdaf1897a315d257d89d94520bfcaa453217d5becf09b39e73618b0de"
  },
  "kernelspec": {
   "display_name": "Python 3.9.5 64-bit ('base': conda)",
   "language": "python",
   "name": "python3"
  },
  "language_info": {
   "codemirror_mode": {
    "name": "ipython",
    "version": 3
   },
   "file_extension": ".py",
   "mimetype": "text/x-python",
   "name": "python",
   "nbconvert_exporter": "python",
   "pygments_lexer": "ipython3",
   "version": "3.9.5"
  },
  "orig_nbformat": 4
 },
 "nbformat": 4,
 "nbformat_minor": 2
}
