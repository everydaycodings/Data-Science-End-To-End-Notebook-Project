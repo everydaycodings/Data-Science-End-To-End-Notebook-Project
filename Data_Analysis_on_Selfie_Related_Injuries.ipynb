{
 "cells": [
  {
   "cell_type": "code",
   "execution_count": 1,
   "metadata": {},
   "outputs": [],
   "source": [
    "import pandas as pd\n",
    "import numpy as np\n",
    "import matplotlib as plt\n",
    "import seaborn as sns"
   ]
  },
  {
   "cell_type": "code",
   "execution_count": 5,
   "metadata": {},
   "outputs": [
    {
     "data": {
      "text/html": [
       "<div>\n",
       "<style scoped>\n",
       "    .dataframe tbody tr th:only-of-type {\n",
       "        vertical-align: middle;\n",
       "    }\n",
       "\n",
       "    .dataframe tbody tr th {\n",
       "        vertical-align: top;\n",
       "    }\n",
       "\n",
       "    .dataframe thead th {\n",
       "        text-align: right;\n",
       "    }\n",
       "</style>\n",
       "<table border=\"1\" class=\"dataframe\">\n",
       "  <thead>\n",
       "    <tr style=\"text-align: right;\">\n",
       "      <th></th>\n",
       "      <th>Date</th>\n",
       "      <th>Country</th>\n",
       "      <th>Injuries/Casualties</th>\n",
       "      <th>Type</th>\n",
       "      <th>Description</th>\n",
       "    </tr>\n",
       "  </thead>\n",
       "  <tbody>\n",
       "    <tr>\n",
       "      <th>0</th>\n",
       "      <td>15 October 2011</td>\n",
       "      <td>United States</td>\n",
       "      <td>3</td>\n",
       "      <td>Transport</td>\n",
       "      <td>Three teenagers (two sisters and a friend) wer...</td>\n",
       "    </tr>\n",
       "    <tr>\n",
       "      <th>1</th>\n",
       "      <td>March 2014</td>\n",
       "      <td>Spain</td>\n",
       "      <td>1</td>\n",
       "      <td>Electrocution</td>\n",
       "      <td>A 21-year-old man was electrocuted after climb...</td>\n",
       "    </tr>\n",
       "    <tr>\n",
       "      <th>2</th>\n",
       "      <td>March 2014</td>\n",
       "      <td>Russia</td>\n",
       "      <td>1</td>\n",
       "      <td>Transport</td>\n",
       "      <td>Two people were walking near train tracks when...</td>\n",
       "    </tr>\n",
       "    <tr>\n",
       "      <th>3</th>\n",
       "      <td>April 2014</td>\n",
       "      <td>United States</td>\n",
       "      <td>1</td>\n",
       "      <td>Transport</td>\n",
       "      <td>A 32-year-old woman from North Carolina was dr...</td>\n",
       "    </tr>\n",
       "    <tr>\n",
       "      <th>4</th>\n",
       "      <td>22 April 2014</td>\n",
       "      <td>Russia</td>\n",
       "      <td>1</td>\n",
       "      <td>Fall</td>\n",
       "      <td>A 17-year-old girl fell 30 ft to her death aft...</td>\n",
       "    </tr>\n",
       "  </tbody>\n",
       "</table>\n",
       "</div>"
      ],
      "text/plain": [
       "              Date        Country  Injuries/Casualties           Type  \\\n",
       "0  15 October 2011  United States                    3      Transport   \n",
       "1       March 2014          Spain                    1  Electrocution   \n",
       "2       March 2014         Russia                    1      Transport   \n",
       "3       April 2014  United States                    1      Transport   \n",
       "4    22 April 2014         Russia                    1           Fall   \n",
       "\n",
       "                                         Description  \n",
       "0  Three teenagers (two sisters and a friend) wer...  \n",
       "1  A 21-year-old man was electrocuted after climb...  \n",
       "2  Two people were walking near train tracks when...  \n",
       "3  A 32-year-old woman from North Carolina was dr...  \n",
       "4  A 17-year-old girl fell 30 ft to her death aft...  "
      ]
     },
     "execution_count": 5,
     "metadata": {},
     "output_type": "execute_result"
    }
   ],
   "source": [
    "data = pd.read_csv(\"Datasets/selfie_related_injuries/Selfie_Related_Injuries.csv\")\n",
    "data.head()"
   ]
  },
  {
   "cell_type": "code",
   "execution_count": 6,
   "metadata": {},
   "outputs": [
    {
     "name": "stdout",
     "output_type": "stream",
     "text": [
      "<class 'pandas.core.frame.DataFrame'>\n",
      "RangeIndex: 192 entries, 0 to 191\n",
      "Data columns (total 5 columns):\n",
      " #   Column               Non-Null Count  Dtype \n",
      "---  ------               --------------  ----- \n",
      " 0   Date                 192 non-null    object\n",
      " 1   Country              192 non-null    object\n",
      " 2   Injuries/Casualties  192 non-null    int64 \n",
      " 3   Type                 192 non-null    object\n",
      " 4   Description          192 non-null    object\n",
      "dtypes: int64(1), object(4)\n",
      "memory usage: 7.6+ KB\n"
     ]
    }
   ],
   "source": [
    "data.info()"
   ]
  },
  {
   "cell_type": "markdown",
   "metadata": {},
   "source": [
    "## Arranging the Data into Correct Formate 🕦"
   ]
  },
  {
   "cell_type": "code",
   "execution_count": 7,
   "metadata": {},
   "outputs": [
    {
     "data": {
      "text/html": [
       "<div>\n",
       "<style scoped>\n",
       "    .dataframe tbody tr th:only-of-type {\n",
       "        vertical-align: middle;\n",
       "    }\n",
       "\n",
       "    .dataframe tbody tr th {\n",
       "        vertical-align: top;\n",
       "    }\n",
       "\n",
       "    .dataframe thead th {\n",
       "        text-align: right;\n",
       "    }\n",
       "</style>\n",
       "<table border=\"1\" class=\"dataframe\">\n",
       "  <thead>\n",
       "    <tr style=\"text-align: right;\">\n",
       "      <th></th>\n",
       "      <th>Date</th>\n",
       "      <th>Country</th>\n",
       "      <th>Injuries/Casualties</th>\n",
       "      <th>Type</th>\n",
       "      <th>Description</th>\n",
       "    </tr>\n",
       "  </thead>\n",
       "  <tbody>\n",
       "    <tr>\n",
       "      <th>0</th>\n",
       "      <td>2011-10-15</td>\n",
       "      <td>United States</td>\n",
       "      <td>3</td>\n",
       "      <td>Transport</td>\n",
       "      <td>Three teenagers (two sisters and a friend) wer...</td>\n",
       "    </tr>\n",
       "    <tr>\n",
       "      <th>1</th>\n",
       "      <td>2014-03-01</td>\n",
       "      <td>Spain</td>\n",
       "      <td>1</td>\n",
       "      <td>Electrocution</td>\n",
       "      <td>A 21-year-old man was electrocuted after climb...</td>\n",
       "    </tr>\n",
       "    <tr>\n",
       "      <th>2</th>\n",
       "      <td>2014-03-01</td>\n",
       "      <td>Russia</td>\n",
       "      <td>1</td>\n",
       "      <td>Transport</td>\n",
       "      <td>Two people were walking near train tracks when...</td>\n",
       "    </tr>\n",
       "    <tr>\n",
       "      <th>3</th>\n",
       "      <td>2014-04-01</td>\n",
       "      <td>United States</td>\n",
       "      <td>1</td>\n",
       "      <td>Transport</td>\n",
       "      <td>A 32-year-old woman from North Carolina was dr...</td>\n",
       "    </tr>\n",
       "    <tr>\n",
       "      <th>4</th>\n",
       "      <td>2014-04-22</td>\n",
       "      <td>Russia</td>\n",
       "      <td>1</td>\n",
       "      <td>Fall</td>\n",
       "      <td>A 17-year-old girl fell 30 ft to her death aft...</td>\n",
       "    </tr>\n",
       "  </tbody>\n",
       "</table>\n",
       "</div>"
      ],
      "text/plain": [
       "        Date        Country  Injuries/Casualties           Type  \\\n",
       "0 2011-10-15  United States                    3      Transport   \n",
       "1 2014-03-01          Spain                    1  Electrocution   \n",
       "2 2014-03-01         Russia                    1      Transport   \n",
       "3 2014-04-01  United States                    1      Transport   \n",
       "4 2014-04-22         Russia                    1           Fall   \n",
       "\n",
       "                                         Description  \n",
       "0  Three teenagers (two sisters and a friend) wer...  \n",
       "1  A 21-year-old man was electrocuted after climb...  \n",
       "2  Two people were walking near train tracks when...  \n",
       "3  A 32-year-old woman from North Carolina was dr...  \n",
       "4  A 17-year-old girl fell 30 ft to her death aft...  "
      ]
     },
     "execution_count": 7,
     "metadata": {},
     "output_type": "execute_result"
    }
   ],
   "source": [
    "data['Date']=pd.to_datetime(data['Date'])\n",
    "data.head()"
   ]
  },
  {
   "cell_type": "code",
   "execution_count": 26,
   "metadata": {},
   "outputs": [
    {
     "data": {
      "image/png": "[encoded data removed]",
      "text/plain": [
       "<Figure size 1440x504 with 1 Axes>"
      ]
     },
     "metadata": {
      "needs_background": "light"
     },
     "output_type": "display_data"
    }
   ],
   "source": [
    "country_data = data[\"Country\"].value_counts().reset_index()\n",
    "\n",
    "plt.figure(figsize=(20,7))\n",
    "sns.barplot(x=\"index\", y=\"Country\", data=country_data)\n",
    "plt.xticks(rotation=90)\n",
    "plt.show()"
   ]
  }
 ],
 "metadata": {
  "interpreter": {
   "hash": "ecf5722fdaf1897a315d257d89d94520bfcaa453217d5becf09b39e73618b0de"
  },
  "kernelspec": {
   "display_name": "Python 3.9.5 64-bit ('base': conda)",
   "language": "python",
   "name": "python3"
  },
  "language_info": {
   "codemirror_mode": {
    "name": "ipython",
    "version": 3
   },
   "file_extension": ".py",
   "mimetype": "text/x-python",
   "name": "python",
   "nbconvert_exporter": "python",
   "pygments_lexer": "ipython3",
   "version": "3.9.5"
  },
  "orig_nbformat": 4
 },
 "nbformat": 4,
 "nbformat_minor": 2
}
