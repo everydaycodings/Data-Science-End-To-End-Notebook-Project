{
 "cells": [
  {
   "cell_type": "code",
   "execution_count": 270,
   "metadata": {},
   "outputs": [],
   "source": [
    "import pandas as pd\n",
    "import numpy as np\n",
    "import matplotlib.pyplot as plt\n",
    "import seaborn as sns"
   ]
  },
  {
   "cell_type": "code",
   "execution_count": 271,
   "metadata": {},
   "outputs": [],
   "source": [
    "google_data = pd.read_csv(\"Datasets/UPI_Payment_Apps_review/GooglePayIndia.csv\")\n",
    "paytm_data = pd.read_csv(\"Datasets/UPI_Payment_Apps_review/PaytmIndia.csv\")\n",
    "phonepay_data = pd.read_csv(\"Datasets/UPI_Payment_Apps_review/PhonePayIndia.csv\")"
   ]
  },
  {
   "cell_type": "code",
   "execution_count": 272,
   "metadata": {},
   "outputs": [
    {
     "data": {
      "text/html": [
       "<div>\n",
       "<style scoped>\n",
       "    .dataframe tbody tr th:only-of-type {\n",
       "        vertical-align: middle;\n",
       "    }\n",
       "\n",
       "    .dataframe tbody tr th {\n",
       "        vertical-align: top;\n",
       "    }\n",
       "\n",
       "    .dataframe thead th {\n",
       "        text-align: right;\n",
       "    }\n",
       "</style>\n",
       "<table border=\"1\" class=\"dataframe\">\n",
       "  <thead>\n",
       "    <tr style=\"text-align: right;\">\n",
       "      <th></th>\n",
       "      <th>Unnamed: 0</th>\n",
       "      <th>reviewId</th>\n",
       "      <th>userName</th>\n",
       "      <th>userImage</th>\n",
       "      <th>content</th>\n",
       "      <th>score</th>\n",
       "      <th>thumbsUpCount</th>\n",
       "      <th>reviewCreatedVersion</th>\n",
       "      <th>at</th>\n",
       "      <th>replyContent</th>\n",
       "      <th>repliedAt</th>\n",
       "    </tr>\n",
       "  </thead>\n",
       "  <tbody>\n",
       "    <tr>\n",
       "      <th>0</th>\n",
       "      <td>0</td>\n",
       "      <td>gp:AOqpTOEdT_VactGi_J9Q2PEWY7J4XlD7BINhOj9xwOr...</td>\n",
       "      <td>Len Pagnam</td>\n",
       "      <td>https://play-lh.googleusercontent.com/a-/AOh14...</td>\n",
       "      <td>How do add a boarding pass? I see no passes tab.</td>\n",
       "      <td>1</td>\n",
       "      <td>0</td>\n",
       "      <td>2.137.401329300</td>\n",
       "      <td>2021-11-18 17:03:06</td>\n",
       "      <td>Hi Len. Could you try the steps in this guide ...</td>\n",
       "      <td>2021-11-18 17:27:11</td>\n",
       "    </tr>\n",
       "    <tr>\n",
       "      <th>1</th>\n",
       "      <td>1</td>\n",
       "      <td>gp:AOqpTOHltpCzXurPoFUgj-a3L-wApC93-fTvocbF9K7...</td>\n",
       "      <td>Benjamin Silva</td>\n",
       "      <td>https://play-lh.googleusercontent.com/a/AATXAJ...</td>\n",
       "      <td>Best</td>\n",
       "      <td>5</td>\n",
       "      <td>0</td>\n",
       "      <td>2.134.392709498</td>\n",
       "      <td>2021-11-18 16:43:34</td>\n",
       "      <td>NaN</td>\n",
       "      <td>NaN</td>\n",
       "    </tr>\n",
       "    <tr>\n",
       "      <th>2</th>\n",
       "      <td>2</td>\n",
       "      <td>gp:AOqpTOGTiyxy_FWSQe7eCONa7PsIP6v7cS-xWCL6jFF...</td>\n",
       "      <td>PARVESH MIAR</td>\n",
       "      <td>https://play-lh.googleusercontent.com/a-/AOh14...</td>\n",
       "      <td>All ok</td>\n",
       "      <td>5</td>\n",
       "      <td>0</td>\n",
       "      <td>2.138.406141160</td>\n",
       "      <td>2021-11-18 16:12:42</td>\n",
       "      <td>NaN</td>\n",
       "      <td>NaN</td>\n",
       "    </tr>\n",
       "    <tr>\n",
       "      <th>3</th>\n",
       "      <td>3</td>\n",
       "      <td>gp:AOqpTOHllyGnmLGZqPUGokxYncq9kOKoY3Zz_4ZF6b0...</td>\n",
       "      <td>Mikko L.</td>\n",
       "      <td>https://play-lh.googleusercontent.com/a-/AOh14...</td>\n",
       "      <td>Rasy to use really... But there never, ever sh...</td>\n",
       "      <td>3</td>\n",
       "      <td>0</td>\n",
       "      <td>2.138.406141160</td>\n",
       "      <td>2021-11-18 16:06:35</td>\n",
       "      <td>NaN</td>\n",
       "      <td>NaN</td>\n",
       "    </tr>\n",
       "    <tr>\n",
       "      <th>4</th>\n",
       "      <td>4</td>\n",
       "      <td>gp:AOqpTOHjnJ6gAF4NzruhLDGVszAaTKSerVeKt-UtJfM...</td>\n",
       "      <td>A Google user</td>\n",
       "      <td>https://play-lh.googleusercontent.com/EGemoI2N...</td>\n",
       "      <td>I still do not understand why your restricting...</td>\n",
       "      <td>3</td>\n",
       "      <td>251</td>\n",
       "      <td>2.134.392709498</td>\n",
       "      <td>2021-11-18 15:48:08</td>\n",
       "      <td>NaN</td>\n",
       "      <td>NaN</td>\n",
       "    </tr>\n",
       "  </tbody>\n",
       "</table>\n",
       "</div>"
      ],
      "text/plain": [
       "   Unnamed: 0                                           reviewId  \\\n",
       "0           0  gp:AOqpTOEdT_VactGi_J9Q2PEWY7J4XlD7BINhOj9xwOr...   \n",
       "1           1  gp:AOqpTOHltpCzXurPoFUgj-a3L-wApC93-fTvocbF9K7...   \n",
       "2           2  gp:AOqpTOGTiyxy_FWSQe7eCONa7PsIP6v7cS-xWCL6jFF...   \n",
       "3           3  gp:AOqpTOHllyGnmLGZqPUGokxYncq9kOKoY3Zz_4ZF6b0...   \n",
       "4           4  gp:AOqpTOHjnJ6gAF4NzruhLDGVszAaTKSerVeKt-UtJfM...   \n",
       "\n",
       "         userName                                          userImage  \\\n",
       "0      Len Pagnam  https://play-lh.googleusercontent.com/a-/AOh14...   \n",
       "1  Benjamin Silva  https://play-lh.googleusercontent.com/a/AATXAJ...   \n",
       "2    PARVESH MIAR  https://play-lh.googleusercontent.com/a-/AOh14...   \n",
       "3        Mikko L.  https://play-lh.googleusercontent.com/a-/AOh14...   \n",
       "4   A Google user  https://play-lh.googleusercontent.com/EGemoI2N...   \n",
       "\n",
       "                                             content  score  thumbsUpCount  \\\n",
       "0   How do add a boarding pass? I see no passes tab.      1              0   \n",
       "1                                               Best      5              0   \n",
       "2                                             All ok      5              0   \n",
       "3  Rasy to use really... But there never, ever sh...      3              0   \n",
       "4  I still do not understand why your restricting...      3            251   \n",
       "\n",
       "  reviewCreatedVersion                   at  \\\n",
       "0      2.137.401329300  2021-11-18 17:03:06   \n",
       "1      2.134.392709498  2021-11-18 16:43:34   \n",
       "2      2.138.406141160  2021-11-18 16:12:42   \n",
       "3      2.138.406141160  2021-11-18 16:06:35   \n",
       "4      2.134.392709498  2021-11-18 15:48:08   \n",
       "\n",
       "                                        replyContent            repliedAt  \n",
       "0  Hi Len. Could you try the steps in this guide ...  2021-11-18 17:27:11  \n",
       "1                                                NaN                  NaN  \n",
       "2                                                NaN                  NaN  \n",
       "3                                                NaN                  NaN  \n",
       "4                                                NaN                  NaN  "
      ]
     },
     "execution_count": 272,
     "metadata": {},
     "output_type": "execute_result"
    }
   ],
   "source": [
    "google_data.head()"
   ]
  },
  {
   "cell_type": "code",
   "execution_count": 273,
   "metadata": {},
   "outputs": [
    {
     "name": "stdout",
     "output_type": "stream",
     "text": [
      "<class 'pandas.core.frame.DataFrame'>\n",
      "RangeIndex: 34228 entries, 0 to 34227\n",
      "Data columns (total 11 columns):\n",
      " #   Column                Non-Null Count  Dtype \n",
      "---  ------                --------------  ----- \n",
      " 0   Unnamed: 0            34228 non-null  int64 \n",
      " 1   reviewId              34228 non-null  object\n",
      " 2   userName              34227 non-null  object\n",
      " 3   userImage             34228 non-null  object\n",
      " 4   content               34223 non-null  object\n",
      " 5   score                 34228 non-null  int64 \n",
      " 6   thumbsUpCount         34228 non-null  int64 \n",
      " 7   reviewCreatedVersion  29987 non-null  object\n",
      " 8   at                    34228 non-null  object\n",
      " 9   replyContent          6112 non-null   object\n",
      " 10  repliedAt             6112 non-null   object\n",
      "dtypes: int64(3), object(8)\n",
      "memory usage: 2.9+ MB\n"
     ]
    }
   ],
   "source": [
    "google_data.info()"
   ]
  },
  {
   "cell_type": "code",
   "execution_count": 274,
   "metadata": {},
   "outputs": [
    {
     "data": {
      "text/plain": [
       "Unnamed: 0       0\n",
       "score            0\n",
       "thumbsUpCount    0\n",
       "dtype: int64"
      ]
     },
     "execution_count": 274,
     "metadata": {},
     "output_type": "execute_result"
    }
   ],
   "source": [
    "num_category = [feature for feature in google_data.columns if google_data[feature].dtypes != \"O\"]\n",
    "google_data[num_category].isnull().sum()"
   ]
  },
  {
   "cell_type": "code",
   "execution_count": 275,
   "metadata": {},
   "outputs": [
    {
     "data": {
      "text/plain": [
       "Unnamed: 0       0\n",
       "score            0\n",
       "thumbsUpCount    0\n",
       "dtype: int64"
      ]
     },
     "execution_count": 275,
     "metadata": {},
     "output_type": "execute_result"
    }
   ],
   "source": [
    "num_category = [feature for feature in paytm_data.columns if paytm_data[feature].dtypes != \"O\"]\n",
    "paytm_data[num_category].isnull().sum()"
   ]
  },
  {
   "cell_type": "code",
   "execution_count": 276,
   "metadata": {},
   "outputs": [
    {
     "data": {
      "text/plain": [
       "Unnamed: 0       0\n",
       "score            0\n",
       "thumbsUpCount    0\n",
       "dtype: int64"
      ]
     },
     "execution_count": 276,
     "metadata": {},
     "output_type": "execute_result"
    }
   ],
   "source": [
    "num_category = [feature for feature in phonepay_data.columns if phonepay_data[feature].dtypes != \"O\"]\n",
    "phonepay_data[num_category].isnull().sum()"
   ]
  },
  {
   "cell_type": "code",
   "execution_count": 277,
   "metadata": {},
   "outputs": [
    {
     "data": {
      "text/plain": [
       "<AxesSubplot:title={'center':'Checking Outliers in PhonePay thumbsUpCount Column'}, xlabel='thumbsUpCount'>"
      ]
     },
     "execution_count": 277,
     "metadata": {},
     "output_type": "execute_result"
    },
    {
     "data": {
      "image/png": "[encoded data removed]",
      "text/plain": [
       "<Figure size 720x288 with 1 Axes>"
      ]
     },
     "metadata": {
      "needs_background": "light"
     },
     "output_type": "display_data"
    },
    {
     "data": {
      "image/png": "[encoded data removed]",
      "text/plain": [
       "<Figure size 720x288 with 1 Axes>"
      ]
     },
     "metadata": {
      "needs_background": "light"
     },
     "output_type": "display_data"
    },
    {
     "data": {
      "image/png": "[encoded data removed]",
      "text/plain": [
       "<Figure size 720x288 with 1 Axes>"
      ]
     },
     "metadata": {
      "needs_background": "light"
     },
     "output_type": "display_data"
    }
   ],
   "source": [
    "plt.figure(figsize=(10,4))\n",
    "plt.xlim(-100, 3000)\n",
    "flierprops = dict(marker='o', markerfacecolor='purple', markersize=6,\n",
    "                  linestyle='none', markeredgecolor='black')\n",
    "plt.title(\"Checking Outliers in Google thumbsUpCount Column\")\n",
    "sns.boxplot(x=google_data.thumbsUpCount, flierprops=flierprops)\n",
    "\n",
    "plt.figure(figsize=(10,4))\n",
    "plt.title(\"Checking Outliers in Paytm thumbsUpCount Column\")\n",
    "plt.xlim(paytm_data.thumbsUpCount.min(), paytm_data.thumbsUpCount.max()*1.1)\n",
    "sns.boxplot(x=paytm_data.thumbsUpCount, flierprops=flierprops)\n",
    "\n",
    "plt.figure(figsize=(10,4))\n",
    "plt.title(\"Checking Outliers in PhonePay thumbsUpCount Column\")\n",
    "plt.xlim(phonepay_data.thumbsUpCount.min(), phonepay_data.thumbsUpCount.max()*1.1)\n",
    "sns.boxplot(x=phonepay_data.thumbsUpCount, flierprops=flierprops)"
   ]
  },
  {
   "cell_type": "code",
   "execution_count": 278,
   "metadata": {},
   "outputs": [
    {
     "data": {
      "text/html": [
       "<div>\n",
       "<style scoped>\n",
       "    .dataframe tbody tr th:only-of-type {\n",
       "        vertical-align: middle;\n",
       "    }\n",
       "\n",
       "    .dataframe tbody tr th {\n",
       "        vertical-align: top;\n",
       "    }\n",
       "\n",
       "    .dataframe thead th {\n",
       "        text-align: right;\n",
       "    }\n",
       "</style>\n",
       "<table border=\"1\" class=\"dataframe\">\n",
       "  <thead>\n",
       "    <tr style=\"text-align: right;\">\n",
       "      <th></th>\n",
       "      <th>Unnamed: 0</th>\n",
       "      <th>reviewId</th>\n",
       "      <th>userName</th>\n",
       "      <th>userImage</th>\n",
       "      <th>content</th>\n",
       "      <th>score</th>\n",
       "      <th>thumbsUpCount</th>\n",
       "      <th>reviewCreatedVersion</th>\n",
       "      <th>at</th>\n",
       "      <th>replyContent</th>\n",
       "      <th>repliedAt</th>\n",
       "    </tr>\n",
       "  </thead>\n",
       "  <tbody>\n",
       "    <tr>\n",
       "      <th>0</th>\n",
       "      <td>0</td>\n",
       "      <td>gp:AOqpTOEdT_VactGi_J9Q2PEWY7J4XlD7BINhOj9xwOr...</td>\n",
       "      <td>Len Pagnam</td>\n",
       "      <td>https://play-lh.googleusercontent.com/a-/AOh14...</td>\n",
       "      <td>How do add a boarding pass? I see no passes tab.</td>\n",
       "      <td>1</td>\n",
       "      <td>0</td>\n",
       "      <td>2.137.401329300</td>\n",
       "      <td>2021-11-18 17:03:06</td>\n",
       "      <td>Hi Len. Could you try the steps in this guide ...</td>\n",
       "      <td>2021-11-18 17:27:11</td>\n",
       "    </tr>\n",
       "    <tr>\n",
       "      <th>1</th>\n",
       "      <td>1</td>\n",
       "      <td>gp:AOqpTOHltpCzXurPoFUgj-a3L-wApC93-fTvocbF9K7...</td>\n",
       "      <td>Benjamin Silva</td>\n",
       "      <td>https://play-lh.googleusercontent.com/a/AATXAJ...</td>\n",
       "      <td>Best</td>\n",
       "      <td>5</td>\n",
       "      <td>0</td>\n",
       "      <td>2.134.392709498</td>\n",
       "      <td>2021-11-18 16:43:34</td>\n",
       "      <td>NaN</td>\n",
       "      <td>NaN</td>\n",
       "    </tr>\n",
       "    <tr>\n",
       "      <th>2</th>\n",
       "      <td>2</td>\n",
       "      <td>gp:AOqpTOGTiyxy_FWSQe7eCONa7PsIP6v7cS-xWCL6jFF...</td>\n",
       "      <td>PARVESH MIAR</td>\n",
       "      <td>https://play-lh.googleusercontent.com/a-/AOh14...</td>\n",
       "      <td>All ok</td>\n",
       "      <td>5</td>\n",
       "      <td>0</td>\n",
       "      <td>2.138.406141160</td>\n",
       "      <td>2021-11-18 16:12:42</td>\n",
       "      <td>NaN</td>\n",
       "      <td>NaN</td>\n",
       "    </tr>\n",
       "    <tr>\n",
       "      <th>3</th>\n",
       "      <td>3</td>\n",
       "      <td>gp:AOqpTOHllyGnmLGZqPUGokxYncq9kOKoY3Zz_4ZF6b0...</td>\n",
       "      <td>Mikko L.</td>\n",
       "      <td>https://play-lh.googleusercontent.com/a-/AOh14...</td>\n",
       "      <td>Rasy to use really... But there never, ever sh...</td>\n",
       "      <td>3</td>\n",
       "      <td>0</td>\n",
       "      <td>2.138.406141160</td>\n",
       "      <td>2021-11-18 16:06:35</td>\n",
       "      <td>NaN</td>\n",
       "      <td>NaN</td>\n",
       "    </tr>\n",
       "    <tr>\n",
       "      <th>4</th>\n",
       "      <td>4</td>\n",
       "      <td>gp:AOqpTOHjnJ6gAF4NzruhLDGVszAaTKSerVeKt-UtJfM...</td>\n",
       "      <td>A Google user</td>\n",
       "      <td>https://play-lh.googleusercontent.com/EGemoI2N...</td>\n",
       "      <td>I still do not understand why your restricting...</td>\n",
       "      <td>3</td>\n",
       "      <td>251</td>\n",
       "      <td>2.134.392709498</td>\n",
       "      <td>2021-11-18 15:48:08</td>\n",
       "      <td>NaN</td>\n",
       "      <td>NaN</td>\n",
       "    </tr>\n",
       "  </tbody>\n",
       "</table>\n",
       "</div>"
      ],
      "text/plain": [
       "   Unnamed: 0                                           reviewId  \\\n",
       "0           0  gp:AOqpTOEdT_VactGi_J9Q2PEWY7J4XlD7BINhOj9xwOr...   \n",
       "1           1  gp:AOqpTOHltpCzXurPoFUgj-a3L-wApC93-fTvocbF9K7...   \n",
       "2           2  gp:AOqpTOGTiyxy_FWSQe7eCONa7PsIP6v7cS-xWCL6jFF...   \n",
       "3           3  gp:AOqpTOHllyGnmLGZqPUGokxYncq9kOKoY3Zz_4ZF6b0...   \n",
       "4           4  gp:AOqpTOHjnJ6gAF4NzruhLDGVszAaTKSerVeKt-UtJfM...   \n",
       "\n",
       "         userName                                          userImage  \\\n",
       "0      Len Pagnam  https://play-lh.googleusercontent.com/a-/AOh14...   \n",
       "1  Benjamin Silva  https://play-lh.googleusercontent.com/a/AATXAJ...   \n",
       "2    PARVESH MIAR  https://play-lh.googleusercontent.com/a-/AOh14...   \n",
       "3        Mikko L.  https://play-lh.googleusercontent.com/a-/AOh14...   \n",
       "4   A Google user  https://play-lh.googleusercontent.com/EGemoI2N...   \n",
       "\n",
       "                                             content  score  thumbsUpCount  \\\n",
       "0   How do add a boarding pass? I see no passes tab.      1              0   \n",
       "1                                               Best      5              0   \n",
       "2                                             All ok      5              0   \n",
       "3  Rasy to use really... But there never, ever sh...      3              0   \n",
       "4  I still do not understand why your restricting...      3            251   \n",
       "\n",
       "  reviewCreatedVersion                   at  \\\n",
       "0      2.137.401329300  2021-11-18 17:03:06   \n",
       "1      2.134.392709498  2021-11-18 16:43:34   \n",
       "2      2.138.406141160  2021-11-18 16:12:42   \n",
       "3      2.138.406141160  2021-11-18 16:06:35   \n",
       "4      2.134.392709498  2021-11-18 15:48:08   \n",
       "\n",
       "                                        replyContent            repliedAt  \n",
       "0  Hi Len. Could you try the steps in this guide ...  2021-11-18 17:27:11  \n",
       "1                                                NaN                  NaN  \n",
       "2                                                NaN                  NaN  \n",
       "3                                                NaN                  NaN  \n",
       "4                                                NaN                  NaN  "
      ]
     },
     "execution_count": 278,
     "metadata": {},
     "output_type": "execute_result"
    }
   ],
   "source": [
    "google_data = google_data[google_data[\"thumbsUpCount\"] <=500]\n",
    "paytm_data = paytm_data[paytm_data[\"thumbsUpCount\"] <=550]\n",
    "phonepay_data = phonepay_data[phonepay_data[\"thumbsUpCount\"] <=100]\n",
    "google_data.head()"
   ]
  },
  {
   "cell_type": "code",
   "execution_count": 279,
   "metadata": {},
   "outputs": [
    {
     "data": {
      "text/plain": [
       "reviewId                    0\n",
       "userName                    1\n",
       "userImage                   0\n",
       "content                     5\n",
       "reviewCreatedVersion     4241\n",
       "at                          0\n",
       "replyContent            28106\n",
       "repliedAt               28106\n",
       "dtype: int64"
      ]
     },
     "execution_count": 279,
     "metadata": {},
     "output_type": "execute_result"
    }
   ],
   "source": [
    "cat_category = [feature for feature in google_data.columns if google_data[feature].dtypes == \"O\"]\n",
    "google_data[cat_category].isnull().sum()"
   ]
  },
  {
   "cell_type": "code",
   "execution_count": 280,
   "metadata": {},
   "outputs": [],
   "source": [
    "google_data = google_data.drop(columns=[\"reviewCreatedVersion\"])\n",
    "google_data[\"replyContent\"] = google_data[\"replyContent\"].fillna(\"No_reply/No_data\")"
   ]
  },
  {
   "cell_type": "code",
   "execution_count": 281,
   "metadata": {},
   "outputs": [
    {
     "data": {
      "text/plain": [
       "reviewId                    0\n",
       "userName                    0\n",
       "userImage                   0\n",
       "content                     2\n",
       "reviewCreatedVersion    23665\n",
       "at                          0\n",
       "replyContent            69777\n",
       "repliedAt               69777\n",
       "dtype: int64"
      ]
     },
     "execution_count": 281,
     "metadata": {},
     "output_type": "execute_result"
    }
   ],
   "source": [
    "cat_category = [feature for feature in paytm_data.columns if paytm_data[feature].dtypes == \"O\"]\n",
    "paytm_data[cat_category].isnull().sum()"
   ]
  },
  {
   "cell_type": "code",
   "execution_count": 282,
   "metadata": {},
   "outputs": [],
   "source": [
    "paytm_data = paytm_data.drop(columns=[\"reviewCreatedVersion\"])\n",
    "paytm_data[\"replyContent\"] = paytm_data[\"replyContent\"].fillna(\"No_reply/No_data\")"
   ]
  },
  {
   "cell_type": "code",
   "execution_count": 283,
   "metadata": {},
   "outputs": [
    {
     "data": {
      "text/plain": [
       "reviewId                   0\n",
       "userName                   0\n",
       "userImage                  0\n",
       "content                    0\n",
       "reviewCreatedVersion    2136\n",
       "at                         0\n",
       "replyContent            8803\n",
       "repliedAt               8803\n",
       "dtype: int64"
      ]
     },
     "execution_count": 283,
     "metadata": {},
     "output_type": "execute_result"
    }
   ],
   "source": [
    "cat_category = [feature for feature in phonepay_data.columns if phonepay_data[feature].dtypes == \"O\"]\n",
    "phonepay_data[cat_category].isnull().sum()"
   ]
  },
  {
   "cell_type": "code",
   "execution_count": 284,
   "metadata": {},
   "outputs": [],
   "source": [
    "phonepay_data = phonepay_data.drop(columns=[\"reviewCreatedVersion\"])\n",
    "phonepay_data[\"replyContent\"] = phonepay_data[\"replyContent\"].fillna(\"No_reply/No_data\")"
   ]
  },
  {
   "cell_type": "code",
   "execution_count": 285,
   "metadata": {},
   "outputs": [],
   "source": [
    "google_data = google_data.drop([\"Unnamed: 0\", \"reviewId\", \"userName\", \"userImage\"],axis=1)\n",
    "paytm_data = paytm_data.drop([\"Unnamed: 0\", \"reviewId\", \"userName\", \"userImage\"],axis=1)\n",
    "phonepay_data = phonepay_data.drop([\"Unnamed: 0\", \"reviewId\", \"userName\", \"userImage\"],axis=1)"
   ]
  },
  {
   "cell_type": "code",
   "execution_count": 290,
   "metadata": {},
   "outputs": [
    {
     "data": {
      "text/html": [
       "<div>\n",
       "<style scoped>\n",
       "    .dataframe tbody tr th:only-of-type {\n",
       "        vertical-align: middle;\n",
       "    }\n",
       "\n",
       "    .dataframe tbody tr th {\n",
       "        vertical-align: top;\n",
       "    }\n",
       "\n",
       "    .dataframe thead th {\n",
       "        text-align: right;\n",
       "    }\n",
       "</style>\n",
       "<table border=\"1\" class=\"dataframe\">\n",
       "  <thead>\n",
       "    <tr style=\"text-align: right;\">\n",
       "      <th></th>\n",
       "      <th>content</th>\n",
       "      <th>score</th>\n",
       "      <th>thumbsUpCount</th>\n",
       "      <th>at</th>\n",
       "      <th>replyContent</th>\n",
       "      <th>repliedAt</th>\n",
       "      <th>upi_company</th>\n",
       "    </tr>\n",
       "  </thead>\n",
       "  <tbody>\n",
       "    <tr>\n",
       "      <th>0</th>\n",
       "      <td>How do add a boarding pass? I see no passes tab.</td>\n",
       "      <td>1</td>\n",
       "      <td>0</td>\n",
       "      <td>2021-11-18 17:03:06</td>\n",
       "      <td>Hi Len. Could you try the steps in this guide ...</td>\n",
       "      <td>2021-11-18 17:27:11</td>\n",
       "      <td>Google</td>\n",
       "    </tr>\n",
       "    <tr>\n",
       "      <th>1</th>\n",
       "      <td>Best</td>\n",
       "      <td>5</td>\n",
       "      <td>0</td>\n",
       "      <td>2021-11-18 16:43:34</td>\n",
       "      <td>No_reply/No_data</td>\n",
       "      <td>NaN</td>\n",
       "      <td>Google</td>\n",
       "    </tr>\n",
       "    <tr>\n",
       "      <th>2</th>\n",
       "      <td>All ok</td>\n",
       "      <td>5</td>\n",
       "      <td>0</td>\n",
       "      <td>2021-11-18 16:12:42</td>\n",
       "      <td>No_reply/No_data</td>\n",
       "      <td>NaN</td>\n",
       "      <td>Google</td>\n",
       "    </tr>\n",
       "    <tr>\n",
       "      <th>3</th>\n",
       "      <td>Rasy to use really... But there never, ever sh...</td>\n",
       "      <td>3</td>\n",
       "      <td>0</td>\n",
       "      <td>2021-11-18 16:06:35</td>\n",
       "      <td>No_reply/No_data</td>\n",
       "      <td>NaN</td>\n",
       "      <td>Google</td>\n",
       "    </tr>\n",
       "    <tr>\n",
       "      <th>4</th>\n",
       "      <td>I still do not understand why your restricting...</td>\n",
       "      <td>3</td>\n",
       "      <td>251</td>\n",
       "      <td>2021-11-18 15:48:08</td>\n",
       "      <td>No_reply/No_data</td>\n",
       "      <td>NaN</td>\n",
       "      <td>Google</td>\n",
       "    </tr>\n",
       "  </tbody>\n",
       "</table>\n",
       "</div>"
      ],
      "text/plain": [
       "                                             content  score  thumbsUpCount  \\\n",
       "0   How do add a boarding pass? I see no passes tab.      1              0   \n",
       "1                                               Best      5              0   \n",
       "2                                             All ok      5              0   \n",
       "3  Rasy to use really... But there never, ever sh...      3              0   \n",
       "4  I still do not understand why your restricting...      3            251   \n",
       "\n",
       "                    at                                       replyContent  \\\n",
       "0  2021-11-18 17:03:06  Hi Len. Could you try the steps in this guide ...   \n",
       "1  2021-11-18 16:43:34                                   No_reply/No_data   \n",
       "2  2021-11-18 16:12:42                                   No_reply/No_data   \n",
       "3  2021-11-18 16:06:35                                   No_reply/No_data   \n",
       "4  2021-11-18 15:48:08                                   No_reply/No_data   \n",
       "\n",
       "             repliedAt upi_company  \n",
       "0  2021-11-18 17:27:11      Google  \n",
       "1                  NaN      Google  \n",
       "2                  NaN      Google  \n",
       "3                  NaN      Google  \n",
       "4                  NaN      Google  "
      ]
     },
     "execution_count": 290,
     "metadata": {},
     "output_type": "execute_result"
    }
   ],
   "source": [
    "google_data[\"upi_company\"] = \"Google\"\n",
    "paytm_data[\"upi_company\"] = \"paytm\"\n",
    "phonepay_data[\"upi_company\"] = \"phonepay\"\n",
    "google_data.head()"
   ]
  }
 ],
 "metadata": {
  "interpreter": {
   "hash": "ecf5722fdaf1897a315d257d89d94520bfcaa453217d5becf09b39e73618b0de"
  },
  "kernelspec": {
   "display_name": "Python 3.9.5 64-bit ('base': conda)",
   "language": "python",
   "name": "python3"
  },
  "language_info": {
   "codemirror_mode": {
    "name": "ipython",
    "version": 3
   },
   "file_extension": ".py",
   "mimetype": "text/x-python",
   "name": "python",
   "nbconvert_exporter": "python",
   "pygments_lexer": "ipython3",
   "version": "3.9.5"
  },
  "orig_nbformat": 4
 },
 "nbformat": 4,
 "nbformat_minor": 2
}
