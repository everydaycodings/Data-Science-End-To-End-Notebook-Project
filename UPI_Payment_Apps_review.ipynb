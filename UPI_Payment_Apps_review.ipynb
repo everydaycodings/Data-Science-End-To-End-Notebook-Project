{
 "cells": [
  {
   "cell_type": "code",
   "execution_count": 408,
   "metadata": {},
   "outputs": [],
   "source": [
    "import pandas as pd\n",
    "import numpy as np\n",
    "import matplotlib.pyplot as plt\n",
    "import seaborn as sns"
   ]
  },
  {
   "cell_type": "code",
   "execution_count": 409,
   "metadata": {},
   "outputs": [],
   "source": [
    "google_data = pd.read_csv(\"Datasets/UPI_Payment_Apps_review/GooglePayIndia.csv\")\n",
    "paytm_data = pd.read_csv(\"Datasets/UPI_Payment_Apps_review/PaytmIndia.csv\")\n",
    "phonepay_data = pd.read_csv(\"Datasets/UPI_Payment_Apps_review/PhonePayIndia.csv\")"
   ]
  },
  {
   "cell_type": "code",
   "execution_count": 410,
   "metadata": {},
   "outputs": [
    {
     "data": {
      "text/html": [
       "<div>\n",
       "<style scoped>\n",
       "    .dataframe tbody tr th:only-of-type {\n",
       "        vertical-align: middle;\n",
       "    }\n",
       "\n",
       "    .dataframe tbody tr th {\n",
       "        vertical-align: top;\n",
       "    }\n",
       "\n",
       "    .dataframe thead th {\n",
       "        text-align: right;\n",
       "    }\n",
       "</style>\n",
       "<table border=\"1\" class=\"dataframe\">\n",
       "  <thead>\n",
       "    <tr style=\"text-align: right;\">\n",
       "      <th></th>\n",
       "      <th>Unnamed: 0</th>\n",
       "      <th>reviewId</th>\n",
       "      <th>userName</th>\n",
       "      <th>userImage</th>\n",
       "      <th>content</th>\n",
       "      <th>score</th>\n",
       "      <th>thumbsUpCount</th>\n",
       "      <th>reviewCreatedVersion</th>\n",
       "      <th>at</th>\n",
       "      <th>replyContent</th>\n",
       "      <th>repliedAt</th>\n",
       "    </tr>\n",
       "  </thead>\n",
       "  <tbody>\n",
       "    <tr>\n",
       "      <th>0</th>\n",
       "      <td>0</td>\n",
       "      <td>gp:AOqpTOEdT_VactGi_J9Q2PEWY7J4XlD7BINhOj9xwOr...</td>\n",
       "      <td>Len Pagnam</td>\n",
       "      <td>https://play-lh.googleusercontent.com/a-/AOh14...</td>\n",
       "      <td>How do add a boarding pass? I see no passes tab.</td>\n",
       "      <td>1</td>\n",
       "      <td>0</td>\n",
       "      <td>2.137.401329300</td>\n",
       "      <td>2021-11-18 17:03:06</td>\n",
       "      <td>Hi Len. Could you try the steps in this guide ...</td>\n",
       "      <td>2021-11-18 17:27:11</td>\n",
       "    </tr>\n",
       "    <tr>\n",
       "      <th>1</th>\n",
       "      <td>1</td>\n",
       "      <td>gp:AOqpTOHltpCzXurPoFUgj-a3L-wApC93-fTvocbF9K7...</td>\n",
       "      <td>Benjamin Silva</td>\n",
       "      <td>https://play-lh.googleusercontent.com/a/AATXAJ...</td>\n",
       "      <td>Best</td>\n",
       "      <td>5</td>\n",
       "      <td>0</td>\n",
       "      <td>2.134.392709498</td>\n",
       "      <td>2021-11-18 16:43:34</td>\n",
       "      <td>NaN</td>\n",
       "      <td>NaN</td>\n",
       "    </tr>\n",
       "    <tr>\n",
       "      <th>2</th>\n",
       "      <td>2</td>\n",
       "      <td>gp:AOqpTOGTiyxy_FWSQe7eCONa7PsIP6v7cS-xWCL6jFF...</td>\n",
       "      <td>PARVESH MIAR</td>\n",
       "      <td>https://play-lh.googleusercontent.com/a-/AOh14...</td>\n",
       "      <td>All ok</td>\n",
       "      <td>5</td>\n",
       "      <td>0</td>\n",
       "      <td>2.138.406141160</td>\n",
       "      <td>2021-11-18 16:12:42</td>\n",
       "      <td>NaN</td>\n",
       "      <td>NaN</td>\n",
       "    </tr>\n",
       "    <tr>\n",
       "      <th>3</th>\n",
       "      <td>3</td>\n",
       "      <td>gp:AOqpTOHllyGnmLGZqPUGokxYncq9kOKoY3Zz_4ZF6b0...</td>\n",
       "      <td>Mikko L.</td>\n",
       "      <td>https://play-lh.googleusercontent.com/a-/AOh14...</td>\n",
       "      <td>Rasy to use really... But there never, ever sh...</td>\n",
       "      <td>3</td>\n",
       "      <td>0</td>\n",
       "      <td>2.138.406141160</td>\n",
       "      <td>2021-11-18 16:06:35</td>\n",
       "      <td>NaN</td>\n",
       "      <td>NaN</td>\n",
       "    </tr>\n",
       "    <tr>\n",
       "      <th>4</th>\n",
       "      <td>4</td>\n",
       "      <td>gp:AOqpTOHjnJ6gAF4NzruhLDGVszAaTKSerVeKt-UtJfM...</td>\n",
       "      <td>A Google user</td>\n",
       "      <td>https://play-lh.googleusercontent.com/EGemoI2N...</td>\n",
       "      <td>I still do not understand why your restricting...</td>\n",
       "      <td>3</td>\n",
       "      <td>251</td>\n",
       "      <td>2.134.392709498</td>\n",
       "      <td>2021-11-18 15:48:08</td>\n",
       "      <td>NaN</td>\n",
       "      <td>NaN</td>\n",
       "    </tr>\n",
       "  </tbody>\n",
       "</table>\n",
       "</div>"
      ],
      "text/plain": [
       "   Unnamed: 0                                           reviewId  \\\n",
       "0           0  gp:AOqpTOEdT_VactGi_J9Q2PEWY7J4XlD7BINhOj9xwOr...   \n",
       "1           1  gp:AOqpTOHltpCzXurPoFUgj-a3L-wApC93-fTvocbF9K7...   \n",
       "2           2  gp:AOqpTOGTiyxy_FWSQe7eCONa7PsIP6v7cS-xWCL6jFF...   \n",
       "3           3  gp:AOqpTOHllyGnmLGZqPUGokxYncq9kOKoY3Zz_4ZF6b0...   \n",
       "4           4  gp:AOqpTOHjnJ6gAF4NzruhLDGVszAaTKSerVeKt-UtJfM...   \n",
       "\n",
       "         userName                                          userImage  \\\n",
       "0      Len Pagnam  https://play-lh.googleusercontent.com/a-/AOh14...   \n",
       "1  Benjamin Silva  https://play-lh.googleusercontent.com/a/AATXAJ...   \n",
       "2    PARVESH MIAR  https://play-lh.googleusercontent.com/a-/AOh14...   \n",
       "3        Mikko L.  https://play-lh.googleusercontent.com/a-/AOh14...   \n",
       "4   A Google user  https://play-lh.googleusercontent.com/EGemoI2N...   \n",
       "\n",
       "                                             content  score  thumbsUpCount  \\\n",
       "0   How do add a boarding pass? I see no passes tab.      1              0   \n",
       "1                                               Best      5              0   \n",
       "2                                             All ok      5              0   \n",
       "3  Rasy to use really... But there never, ever sh...      3              0   \n",
       "4  I still do not understand why your restricting...      3            251   \n",
       "\n",
       "  reviewCreatedVersion                   at  \\\n",
       "0      2.137.401329300  2021-11-18 17:03:06   \n",
       "1      2.134.392709498  2021-11-18 16:43:34   \n",
       "2      2.138.406141160  2021-11-18 16:12:42   \n",
       "3      2.138.406141160  2021-11-18 16:06:35   \n",
       "4      2.134.392709498  2021-11-18 15:48:08   \n",
       "\n",
       "                                        replyContent            repliedAt  \n",
       "0  Hi Len. Could you try the steps in this guide ...  2021-11-18 17:27:11  \n",
       "1                                                NaN                  NaN  \n",
       "2                                                NaN                  NaN  \n",
       "3                                                NaN                  NaN  \n",
       "4                                                NaN                  NaN  "
      ]
     },
     "execution_count": 410,
     "metadata": {},
     "output_type": "execute_result"
    }
   ],
   "source": [
    "google_data.head()"
   ]
  },
  {
   "cell_type": "code",
   "execution_count": 411,
   "metadata": {},
   "outputs": [
    {
     "name": "stdout",
     "output_type": "stream",
     "text": [
      "<class 'pandas.core.frame.DataFrame'>\n",
      "RangeIndex: 34228 entries, 0 to 34227\n",
      "Data columns (total 11 columns):\n",
      " #   Column                Non-Null Count  Dtype \n",
      "---  ------                --------------  ----- \n",
      " 0   Unnamed: 0            34228 non-null  int64 \n",
      " 1   reviewId              34228 non-null  object\n",
      " 2   userName              34227 non-null  object\n",
      " 3   userImage             34228 non-null  object\n",
      " 4   content               34223 non-null  object\n",
      " 5   score                 34228 non-null  int64 \n",
      " 6   thumbsUpCount         34228 non-null  int64 \n",
      " 7   reviewCreatedVersion  29987 non-null  object\n",
      " 8   at                    34228 non-null  object\n",
      " 9   replyContent          6112 non-null   object\n",
      " 10  repliedAt             6112 non-null   object\n",
      "dtypes: int64(3), object(8)\n",
      "memory usage: 2.9+ MB\n"
     ]
    }
   ],
   "source": [
    "google_data.info()"
   ]
  },
  {
   "cell_type": "code",
   "execution_count": 412,
   "metadata": {},
   "outputs": [
    {
     "data": {
      "text/plain": [
       "Unnamed: 0       0\n",
       "score            0\n",
       "thumbsUpCount    0\n",
       "dtype: int64"
      ]
     },
     "execution_count": 412,
     "metadata": {},
     "output_type": "execute_result"
    }
   ],
   "source": [
    "num_category = [feature for feature in google_data.columns if google_data[feature].dtypes != \"O\"]\n",
    "google_data[num_category].isnull().sum()"
   ]
  },
  {
   "cell_type": "code",
   "execution_count": 413,
   "metadata": {},
   "outputs": [
    {
     "data": {
      "text/plain": [
       "Unnamed: 0       0\n",
       "score            0\n",
       "thumbsUpCount    0\n",
       "dtype: int64"
      ]
     },
     "execution_count": 413,
     "metadata": {},
     "output_type": "execute_result"
    }
   ],
   "source": [
    "num_category = [feature for feature in paytm_data.columns if paytm_data[feature].dtypes != \"O\"]\n",
    "paytm_data[num_category].isnull().sum()"
   ]
  },
  {
   "cell_type": "code",
   "execution_count": 414,
   "metadata": {},
   "outputs": [
    {
     "data": {
      "text/plain": [
       "Unnamed: 0       0\n",
       "score            0\n",
       "thumbsUpCount    0\n",
       "dtype: int64"
      ]
     },
     "execution_count": 414,
     "metadata": {},
     "output_type": "execute_result"
    }
   ],
   "source": [
    "num_category = [feature for feature in phonepay_data.columns if phonepay_data[feature].dtypes != \"O\"]\n",
    "phonepay_data[num_category].isnull().sum()"
   ]
  },
  {
   "cell_type": "code",
   "execution_count": 415,
   "metadata": {},
   "outputs": [
    {
     "data": {
      "text/plain": [
       "<AxesSubplot:title={'center':'Checking Outliers in PhonePay thumbsUpCount Column'}, xlabel='thumbsUpCount'>"
      ]
     },
     "execution_count": 415,
     "metadata": {},
     "output_type": "execute_result"
    },
    {
     "data": {
      "image/png": "[encoded data removed]",
      "text/plain": [
       "<Figure size 720x288 with 1 Axes>"
      ]
     },
     "metadata": {
      "needs_background": "light"
     },
     "output_type": "display_data"
    },
    {
     "data": {
      "image/png": "[encoded data removed]",
      "text/plain": [
       "<Figure size 720x288 with 1 Axes>"
      ]
     },
     "metadata": {
      "needs_background": "light"
     },
     "output_type": "display_data"
    },
    {
     "data": {
      "image/png": "[encoded data removed]",
      "text/plain": [
       "<Figure size 720x288 with 1 Axes>"
      ]
     },
     "metadata": {
      "needs_background": "light"
     },
     "output_type": "display_data"
    }
   ],
   "source": [
    "plt.figure(figsize=(10,4))\n",
    "plt.xlim(-100, 3000)\n",
    "flierprops = dict(marker='o', markerfacecolor='purple', markersize=6,\n",
    "                  linestyle='none', markeredgecolor='black')\n",
    "plt.title(\"Checking Outliers in Google thumbsUpCount Column\")\n",
    "sns.boxplot(x=google_data.thumbsUpCount, flierprops=flierprops)\n",
    "\n",
    "plt.figure(figsize=(10,4))\n",
    "plt.title(\"Checking Outliers in Paytm thumbsUpCount Column\")\n",
    "plt.xlim(paytm_data.thumbsUpCount.min(), paytm_data.thumbsUpCount.max()*1.1)\n",
    "sns.boxplot(x=paytm_data.thumbsUpCount, flierprops=flierprops)\n",
    "\n",
    "plt.figure(figsize=(10,4))\n",
    "plt.title(\"Checking Outliers in PhonePay thumbsUpCount Column\")\n",
    "plt.xlim(phonepay_data.thumbsUpCount.min(), phonepay_data.thumbsUpCount.max()*1.1)\n",
    "sns.boxplot(x=phonepay_data.thumbsUpCount, flierprops=flierprops)"
   ]
  },
  {
   "cell_type": "code",
   "execution_count": 416,
   "metadata": {},
   "outputs": [
    {
     "data": {
      "text/html": [
       "<div>\n",
       "<style scoped>\n",
       "    .dataframe tbody tr th:only-of-type {\n",
       "        vertical-align: middle;\n",
       "    }\n",
       "\n",
       "    .dataframe tbody tr th {\n",
       "        vertical-align: top;\n",
       "    }\n",
       "\n",
       "    .dataframe thead th {\n",
       "        text-align: right;\n",
       "    }\n",
       "</style>\n",
       "<table border=\"1\" class=\"dataframe\">\n",
       "  <thead>\n",
       "    <tr style=\"text-align: right;\">\n",
       "      <th></th>\n",
       "      <th>Unnamed: 0</th>\n",
       "      <th>reviewId</th>\n",
       "      <th>userName</th>\n",
       "      <th>userImage</th>\n",
       "      <th>content</th>\n",
       "      <th>score</th>\n",
       "      <th>thumbsUpCount</th>\n",
       "      <th>reviewCreatedVersion</th>\n",
       "      <th>at</th>\n",
       "      <th>replyContent</th>\n",
       "      <th>repliedAt</th>\n",
       "    </tr>\n",
       "  </thead>\n",
       "  <tbody>\n",
       "    <tr>\n",
       "      <th>0</th>\n",
       "      <td>0</td>\n",
       "      <td>gp:AOqpTOEdT_VactGi_J9Q2PEWY7J4XlD7BINhOj9xwOr...</td>\n",
       "      <td>Len Pagnam</td>\n",
       "      <td>https://play-lh.googleusercontent.com/a-/AOh14...</td>\n",
       "      <td>How do add a boarding pass? I see no passes tab.</td>\n",
       "      <td>1</td>\n",
       "      <td>0</td>\n",
       "      <td>2.137.401329300</td>\n",
       "      <td>2021-11-18 17:03:06</td>\n",
       "      <td>Hi Len. Could you try the steps in this guide ...</td>\n",
       "      <td>2021-11-18 17:27:11</td>\n",
       "    </tr>\n",
       "    <tr>\n",
       "      <th>1</th>\n",
       "      <td>1</td>\n",
       "      <td>gp:AOqpTOHltpCzXurPoFUgj-a3L-wApC93-fTvocbF9K7...</td>\n",
       "      <td>Benjamin Silva</td>\n",
       "      <td>https://play-lh.googleusercontent.com/a/AATXAJ...</td>\n",
       "      <td>Best</td>\n",
       "      <td>5</td>\n",
       "      <td>0</td>\n",
       "      <td>2.134.392709498</td>\n",
       "      <td>2021-11-18 16:43:34</td>\n",
       "      <td>NaN</td>\n",
       "      <td>NaN</td>\n",
       "    </tr>\n",
       "    <tr>\n",
       "      <th>2</th>\n",
       "      <td>2</td>\n",
       "      <td>gp:AOqpTOGTiyxy_FWSQe7eCONa7PsIP6v7cS-xWCL6jFF...</td>\n",
       "      <td>PARVESH MIAR</td>\n",
       "      <td>https://play-lh.googleusercontent.com/a-/AOh14...</td>\n",
       "      <td>All ok</td>\n",
       "      <td>5</td>\n",
       "      <td>0</td>\n",
       "      <td>2.138.406141160</td>\n",
       "      <td>2021-11-18 16:12:42</td>\n",
       "      <td>NaN</td>\n",
       "      <td>NaN</td>\n",
       "    </tr>\n",
       "    <tr>\n",
       "      <th>3</th>\n",
       "      <td>3</td>\n",
       "      <td>gp:AOqpTOHllyGnmLGZqPUGokxYncq9kOKoY3Zz_4ZF6b0...</td>\n",
       "      <td>Mikko L.</td>\n",
       "      <td>https://play-lh.googleusercontent.com/a-/AOh14...</td>\n",
       "      <td>Rasy to use really... But there never, ever sh...</td>\n",
       "      <td>3</td>\n",
       "      <td>0</td>\n",
       "      <td>2.138.406141160</td>\n",
       "      <td>2021-11-18 16:06:35</td>\n",
       "      <td>NaN</td>\n",
       "      <td>NaN</td>\n",
       "    </tr>\n",
       "    <tr>\n",
       "      <th>4</th>\n",
       "      <td>4</td>\n",
       "      <td>gp:AOqpTOHjnJ6gAF4NzruhLDGVszAaTKSerVeKt-UtJfM...</td>\n",
       "      <td>A Google user</td>\n",
       "      <td>https://play-lh.googleusercontent.com/EGemoI2N...</td>\n",
       "      <td>I still do not understand why your restricting...</td>\n",
       "      <td>3</td>\n",
       "      <td>251</td>\n",
       "      <td>2.134.392709498</td>\n",
       "      <td>2021-11-18 15:48:08</td>\n",
       "      <td>NaN</td>\n",
       "      <td>NaN</td>\n",
       "    </tr>\n",
       "  </tbody>\n",
       "</table>\n",
       "</div>"
      ],
      "text/plain": [
       "   Unnamed: 0                                           reviewId  \\\n",
       "0           0  gp:AOqpTOEdT_VactGi_J9Q2PEWY7J4XlD7BINhOj9xwOr...   \n",
       "1           1  gp:AOqpTOHltpCzXurPoFUgj-a3L-wApC93-fTvocbF9K7...   \n",
       "2           2  gp:AOqpTOGTiyxy_FWSQe7eCONa7PsIP6v7cS-xWCL6jFF...   \n",
       "3           3  gp:AOqpTOHllyGnmLGZqPUGokxYncq9kOKoY3Zz_4ZF6b0...   \n",
       "4           4  gp:AOqpTOHjnJ6gAF4NzruhLDGVszAaTKSerVeKt-UtJfM...   \n",
       "\n",
       "         userName                                          userImage  \\\n",
       "0      Len Pagnam  https://play-lh.googleusercontent.com/a-/AOh14...   \n",
       "1  Benjamin Silva  https://play-lh.googleusercontent.com/a/AATXAJ...   \n",
       "2    PARVESH MIAR  https://play-lh.googleusercontent.com/a-/AOh14...   \n",
       "3        Mikko L.  https://play-lh.googleusercontent.com/a-/AOh14...   \n",
       "4   A Google user  https://play-lh.googleusercontent.com/EGemoI2N...   \n",
       "\n",
       "                                             content  score  thumbsUpCount  \\\n",
       "0   How do add a boarding pass? I see no passes tab.      1              0   \n",
       "1                                               Best      5              0   \n",
       "2                                             All ok      5              0   \n",
       "3  Rasy to use really... But there never, ever sh...      3              0   \n",
       "4  I still do not understand why your restricting...      3            251   \n",
       "\n",
       "  reviewCreatedVersion                   at  \\\n",
       "0      2.137.401329300  2021-11-18 17:03:06   \n",
       "1      2.134.392709498  2021-11-18 16:43:34   \n",
       "2      2.138.406141160  2021-11-18 16:12:42   \n",
       "3      2.138.406141160  2021-11-18 16:06:35   \n",
       "4      2.134.392709498  2021-11-18 15:48:08   \n",
       "\n",
       "                                        replyContent            repliedAt  \n",
       "0  Hi Len. Could you try the steps in this guide ...  2021-11-18 17:27:11  \n",
       "1                                                NaN                  NaN  \n",
       "2                                                NaN                  NaN  \n",
       "3                                                NaN                  NaN  \n",
       "4                                                NaN                  NaN  "
      ]
     },
     "execution_count": 416,
     "metadata": {},
     "output_type": "execute_result"
    }
   ],
   "source": [
    "google_data = google_data[google_data[\"thumbsUpCount\"] <=500]\n",
    "paytm_data = paytm_data[paytm_data[\"thumbsUpCount\"] <=550]\n",
    "phonepay_data = phonepay_data[phonepay_data[\"thumbsUpCount\"] <=100]\n",
    "google_data.head()"
   ]
  },
  {
   "cell_type": "code",
   "execution_count": 417,
   "metadata": {},
   "outputs": [
    {
     "data": {
      "text/plain": [
       "reviewId                    0\n",
       "userName                    1\n",
       "userImage                   0\n",
       "content                     5\n",
       "reviewCreatedVersion     4241\n",
       "at                          0\n",
       "replyContent            28106\n",
       "repliedAt               28106\n",
       "dtype: int64"
      ]
     },
     "execution_count": 417,
     "metadata": {},
     "output_type": "execute_result"
    }
   ],
   "source": [
    "cat_category = [feature for feature in google_data.columns if google_data[feature].dtypes == \"O\"]\n",
    "google_data[cat_category].isnull().sum()"
   ]
  },
  {
   "cell_type": "code",
   "execution_count": 418,
   "metadata": {},
   "outputs": [],
   "source": [
    "google_data = google_data.drop(columns=[\"reviewCreatedVersion\", \"repliedAt\"])\n",
    "google_data[\"replyContent\"] = google_data[\"replyContent\"].fillna(\"No_reply/No_data\")"
   ]
  },
  {
   "cell_type": "code",
   "execution_count": 419,
   "metadata": {},
   "outputs": [
    {
     "data": {
      "text/plain": [
       "reviewId                    0\n",
       "userName                    0\n",
       "userImage                   0\n",
       "content                     2\n",
       "reviewCreatedVersion    23665\n",
       "at                          0\n",
       "replyContent            69777\n",
       "repliedAt               69777\n",
       "dtype: int64"
      ]
     },
     "execution_count": 419,
     "metadata": {},
     "output_type": "execute_result"
    }
   ],
   "source": [
    "cat_category = [feature for feature in paytm_data.columns if paytm_data[feature].dtypes == \"O\"]\n",
    "paytm_data[cat_category].isnull().sum()"
   ]
  },
  {
   "cell_type": "code",
   "execution_count": 420,
   "metadata": {},
   "outputs": [],
   "source": [
    "paytm_data = paytm_data.drop(columns=[\"reviewCreatedVersion\",\"repliedAt\"])\n",
    "paytm_data[\"replyContent\"] = paytm_data[\"replyContent\"].fillna(\"No_reply/No_data\")"
   ]
  },
  {
   "cell_type": "code",
   "execution_count": 421,
   "metadata": {},
   "outputs": [
    {
     "data": {
      "text/plain": [
       "reviewId                   0\n",
       "userName                   0\n",
       "userImage                  0\n",
       "content                    0\n",
       "reviewCreatedVersion    2136\n",
       "at                         0\n",
       "replyContent            8803\n",
       "repliedAt               8803\n",
       "dtype: int64"
      ]
     },
     "execution_count": 421,
     "metadata": {},
     "output_type": "execute_result"
    }
   ],
   "source": [
    "cat_category = [feature for feature in phonepay_data.columns if phonepay_data[feature].dtypes == \"O\"]\n",
    "phonepay_data[cat_category].isnull().sum()"
   ]
  },
  {
   "cell_type": "code",
   "execution_count": 422,
   "metadata": {},
   "outputs": [],
   "source": [
    "phonepay_data = phonepay_data.drop(columns=[\"reviewCreatedVersion\", \"repliedAt\"])\n",
    "phonepay_data[\"replyContent\"] = phonepay_data[\"replyContent\"].fillna(\"No_reply/No_data\")"
   ]
  },
  {
   "cell_type": "code",
   "execution_count": 423,
   "metadata": {},
   "outputs": [],
   "source": [
    "google_data = google_data.drop([\"Unnamed: 0\", \"reviewId\", \"userName\", \"userImage\"],axis=1)\n",
    "paytm_data = paytm_data.drop([\"Unnamed: 0\", \"reviewId\", \"userName\", \"userImage\"],axis=1)\n",
    "phonepay_data = phonepay_data.drop([\"Unnamed: 0\", \"reviewId\", \"userName\", \"userImage\"],axis=1)"
   ]
  },
  {
   "cell_type": "code",
   "execution_count": 424,
   "metadata": {},
   "outputs": [],
   "source": [
    "google_data[\"upi_company\"] = \"Google\"\n",
    "paytm_data[\"upi_company\"] = \"paytm\"\n",
    "phonepay_data[\"upi_company\"] = \"phonepay\""
   ]
  },
  {
   "cell_type": "code",
   "execution_count": 425,
   "metadata": {},
   "outputs": [
    {
     "data": {
      "text/html": [
       "<div>\n",
       "<style scoped>\n",
       "    .dataframe tbody tr th:only-of-type {\n",
       "        vertical-align: middle;\n",
       "    }\n",
       "\n",
       "    .dataframe tbody tr th {\n",
       "        vertical-align: top;\n",
       "    }\n",
       "\n",
       "    .dataframe thead th {\n",
       "        text-align: right;\n",
       "    }\n",
       "</style>\n",
       "<table border=\"1\" class=\"dataframe\">\n",
       "  <thead>\n",
       "    <tr style=\"text-align: right;\">\n",
       "      <th></th>\n",
       "      <th>content</th>\n",
       "      <th>score</th>\n",
       "      <th>thumbsUpCount</th>\n",
       "      <th>review_created_at</th>\n",
       "      <th>replyContent</th>\n",
       "      <th>upi_company</th>\n",
       "    </tr>\n",
       "  </thead>\n",
       "  <tbody>\n",
       "    <tr>\n",
       "      <th>0</th>\n",
       "      <td>Super</td>\n",
       "      <td>4</td>\n",
       "      <td>0</td>\n",
       "      <td>2021-11-12 17:45:33</td>\n",
       "      <td>No_reply/No_data</td>\n",
       "      <td>phonepay</td>\n",
       "    </tr>\n",
       "    <tr>\n",
       "      <th>1</th>\n",
       "      <td>Good</td>\n",
       "      <td>5</td>\n",
       "      <td>0</td>\n",
       "      <td>2021-11-13 20:00:48</td>\n",
       "      <td>No_reply/No_data</td>\n",
       "      <td>phonepay</td>\n",
       "    </tr>\n",
       "    <tr>\n",
       "      <th>2</th>\n",
       "      <td>The payment process is okay.</td>\n",
       "      <td>3</td>\n",
       "      <td>1</td>\n",
       "      <td>2021-11-17 14:36:12</td>\n",
       "      <td>Hi Prashant, it is our constant endeavor to pr...</td>\n",
       "      <td>phonepay</td>\n",
       "    </tr>\n",
       "    <tr>\n",
       "      <th>3</th>\n",
       "      <td>Good</td>\n",
       "      <td>5</td>\n",
       "      <td>0</td>\n",
       "      <td>2021-11-17 13:20:06</td>\n",
       "      <td>No_reply/No_data</td>\n",
       "      <td>phonepay</td>\n",
       "    </tr>\n",
       "    <tr>\n",
       "      <th>4</th>\n",
       "      <td>Very very poor performance slow start. Fed up ...</td>\n",
       "      <td>1</td>\n",
       "      <td>0</td>\n",
       "      <td>2021-11-15 09:41:03</td>\n",
       "      <td>Hi there, we understand that you're facing spe...</td>\n",
       "      <td>phonepay</td>\n",
       "    </tr>\n",
       "  </tbody>\n",
       "</table>\n",
       "</div>"
      ],
      "text/plain": [
       "                                             content  score  thumbsUpCount  \\\n",
       "0                                              Super      4              0   \n",
       "1                                               Good      5              0   \n",
       "2                       The payment process is okay.      3              1   \n",
       "3                                               Good      5              0   \n",
       "4  Very very poor performance slow start. Fed up ...      1              0   \n",
       "\n",
       "     review_created_at                                       replyContent  \\\n",
       "0  2021-11-12 17:45:33                                   No_reply/No_data   \n",
       "1  2021-11-13 20:00:48                                   No_reply/No_data   \n",
       "2  2021-11-17 14:36:12  Hi Prashant, it is our constant endeavor to pr...   \n",
       "3  2021-11-17 13:20:06                                   No_reply/No_data   \n",
       "4  2021-11-15 09:41:03  Hi there, we understand that you're facing spe...   \n",
       "\n",
       "  upi_company  \n",
       "0    phonepay  \n",
       "1    phonepay  \n",
       "2    phonepay  \n",
       "3    phonepay  \n",
       "4    phonepay  "
      ]
     },
     "execution_count": 425,
     "metadata": {},
     "output_type": "execute_result"
    }
   ],
   "source": [
    "google_data = google_data.sample(frac=1).reset_index(drop=True)\n",
    "paytm_data = paytm_data.sample(frac=1).reset_index(drop=True)\n",
    "phonepay_data = phonepay_data.sample(frac=1).reset_index(drop=True)\n",
    "\n",
    "data = phonepay_data.append([paytm_data[:11735 ], google_data[:11735]], ignore_index=True)\n",
    "\n",
    "data = data.rename(columns={\"at\": \"review_created_at\"})\n",
    "data.head()"
   ]
  },
  {
   "cell_type": "code",
   "execution_count": 426,
   "metadata": {},
   "outputs": [
    {
     "data": {
      "text/html": [
       "<div>\n",
       "<style scoped>\n",
       "    .dataframe tbody tr th:only-of-type {\n",
       "        vertical-align: middle;\n",
       "    }\n",
       "\n",
       "    .dataframe tbody tr th {\n",
       "        vertical-align: top;\n",
       "    }\n",
       "\n",
       "    .dataframe thead th {\n",
       "        text-align: right;\n",
       "    }\n",
       "</style>\n",
       "<table border=\"1\" class=\"dataframe\">\n",
       "  <thead>\n",
       "    <tr style=\"text-align: right;\">\n",
       "      <th></th>\n",
       "      <th>content</th>\n",
       "      <th>score</th>\n",
       "      <th>thumbsUpCount</th>\n",
       "      <th>review_created_at</th>\n",
       "      <th>replyContent</th>\n",
       "      <th>upi_company</th>\n",
       "    </tr>\n",
       "  </thead>\n",
       "  <tbody>\n",
       "    <tr>\n",
       "      <th>0</th>\n",
       "      <td>They suspended my account for no reason and th...</td>\n",
       "      <td>1</td>\n",
       "      <td>1</td>\n",
       "      <td>2021-04-14 20:16:20</td>\n",
       "      <td>We're sorry to hear that, Vinay. Let's connect...</td>\n",
       "      <td>Google</td>\n",
       "    </tr>\n",
       "    <tr>\n",
       "      <th>1</th>\n",
       "      <td>Easy. Straight to the point.</td>\n",
       "      <td>5</td>\n",
       "      <td>0</td>\n",
       "      <td>2020-04-20 09:10:58</td>\n",
       "      <td>No_reply/No_data</td>\n",
       "      <td>Google</td>\n",
       "    </tr>\n",
       "    <tr>\n",
       "      <th>2</th>\n",
       "      <td>Приложение само отвязало карту без уведомления...</td>\n",
       "      <td>1</td>\n",
       "      <td>0</td>\n",
       "      <td>2021-11-05 14:44:15</td>\n",
       "      <td>Здравствуйте. Спасибо за отзыв. Карты из прило...</td>\n",
       "      <td>Google</td>\n",
       "    </tr>\n",
       "    <tr>\n",
       "      <th>3</th>\n",
       "      <td>Good</td>\n",
       "      <td>5</td>\n",
       "      <td>0</td>\n",
       "      <td>2021-09-26 10:38:15</td>\n",
       "      <td>Awesome! It's been our pleasure. You can also ...</td>\n",
       "      <td>paytm</td>\n",
       "    </tr>\n",
       "    <tr>\n",
       "      <th>4</th>\n",
       "      <td>Great app</td>\n",
       "      <td>5</td>\n",
       "      <td>0</td>\n",
       "      <td>2021-11-18 13:29:52</td>\n",
       "      <td>No_reply/No_data</td>\n",
       "      <td>phonepay</td>\n",
       "    </tr>\n",
       "  </tbody>\n",
       "</table>\n",
       "</div>"
      ],
      "text/plain": [
       "                                             content  score  thumbsUpCount  \\\n",
       "0  They suspended my account for no reason and th...      1              1   \n",
       "1                       Easy. Straight to the point.      5              0   \n",
       "2  Приложение само отвязало карту без уведомления...      1              0   \n",
       "3                                               Good      5              0   \n",
       "4                                          Great app      5              0   \n",
       "\n",
       "     review_created_at                                       replyContent  \\\n",
       "0  2021-04-14 20:16:20  We're sorry to hear that, Vinay. Let's connect...   \n",
       "1  2020-04-20 09:10:58                                   No_reply/No_data   \n",
       "2  2021-11-05 14:44:15  Здравствуйте. Спасибо за отзыв. Карты из прило...   \n",
       "3  2021-09-26 10:38:15  Awesome! It's been our pleasure. You can also ...   \n",
       "4  2021-11-18 13:29:52                                   No_reply/No_data   \n",
       "\n",
       "  upi_company  \n",
       "0      Google  \n",
       "1      Google  \n",
       "2      Google  \n",
       "3       paytm  \n",
       "4    phonepay  "
      ]
     },
     "execution_count": 426,
     "metadata": {},
     "output_type": "execute_result"
    }
   ],
   "source": [
    "data = data.sample(frac=1).reset_index(drop=True)\n",
    "data.head()"
   ]
  },
  {
   "cell_type": "code",
   "execution_count": 427,
   "metadata": {},
   "outputs": [
    {
     "data": {
      "text/html": [
       "<div>\n",
       "<style scoped>\n",
       "    .dataframe tbody tr th:only-of-type {\n",
       "        vertical-align: middle;\n",
       "    }\n",
       "\n",
       "    .dataframe tbody tr th {\n",
       "        vertical-align: top;\n",
       "    }\n",
       "\n",
       "    .dataframe thead th {\n",
       "        text-align: right;\n",
       "    }\n",
       "</style>\n",
       "<table border=\"1\" class=\"dataframe\">\n",
       "  <thead>\n",
       "    <tr style=\"text-align: right;\">\n",
       "      <th></th>\n",
       "      <th>upi_company</th>\n",
       "      <th>Year</th>\n",
       "      <th>month</th>\n",
       "      <th>content</th>\n",
       "      <th>score</th>\n",
       "      <th>thumbsUpCount</th>\n",
       "      <th>replyContent</th>\n",
       "    </tr>\n",
       "  </thead>\n",
       "  <tbody>\n",
       "    <tr>\n",
       "      <th>0</th>\n",
       "      <td>Google</td>\n",
       "      <td>2021</td>\n",
       "      <td>4</td>\n",
       "      <td>They suspended my account for no reason and th...</td>\n",
       "      <td>1</td>\n",
       "      <td>1</td>\n",
       "      <td>We're sorry to hear that, Vinay. Let's connect...</td>\n",
       "    </tr>\n",
       "    <tr>\n",
       "      <th>1</th>\n",
       "      <td>Google</td>\n",
       "      <td>2020</td>\n",
       "      <td>4</td>\n",
       "      <td>Easy. Straight to the point.</td>\n",
       "      <td>5</td>\n",
       "      <td>0</td>\n",
       "      <td>No_reply/No_data</td>\n",
       "    </tr>\n",
       "    <tr>\n",
       "      <th>2</th>\n",
       "      <td>Google</td>\n",
       "      <td>2021</td>\n",
       "      <td>11</td>\n",
       "      <td>Приложение само отвязало карту без уведомления...</td>\n",
       "      <td>1</td>\n",
       "      <td>0</td>\n",
       "      <td>Здравствуйте. Спасибо за отзыв. Карты из прило...</td>\n",
       "    </tr>\n",
       "    <tr>\n",
       "      <th>3</th>\n",
       "      <td>paytm</td>\n",
       "      <td>2021</td>\n",
       "      <td>9</td>\n",
       "      <td>Good</td>\n",
       "      <td>5</td>\n",
       "      <td>0</td>\n",
       "      <td>Awesome! It's been our pleasure. You can also ...</td>\n",
       "    </tr>\n",
       "    <tr>\n",
       "      <th>4</th>\n",
       "      <td>phonepay</td>\n",
       "      <td>2021</td>\n",
       "      <td>11</td>\n",
       "      <td>Great app</td>\n",
       "      <td>5</td>\n",
       "      <td>0</td>\n",
       "      <td>No_reply/No_data</td>\n",
       "    </tr>\n",
       "  </tbody>\n",
       "</table>\n",
       "</div>"
      ],
      "text/plain": [
       "  upi_company  Year  month                                            content  \\\n",
       "0      Google  2021      4  They suspended my account for no reason and th...   \n",
       "1      Google  2020      4                       Easy. Straight to the point.   \n",
       "2      Google  2021     11  Приложение само отвязало карту без уведомления...   \n",
       "3       paytm  2021      9                                               Good   \n",
       "4    phonepay  2021     11                                          Great app   \n",
       "\n",
       "   score  thumbsUpCount                                       replyContent  \n",
       "0      1              1  We're sorry to hear that, Vinay. Let's connect...  \n",
       "1      5              0                                   No_reply/No_data  \n",
       "2      1              0  Здравствуйте. Спасибо за отзыв. Карты из прило...  \n",
       "3      5              0  Awesome! It's been our pleasure. You can also ...  \n",
       "4      5              0                                   No_reply/No_data  "
      ]
     },
     "execution_count": 427,
     "metadata": {},
     "output_type": "execute_result"
    }
   ],
   "source": [
    "data[\"review_created_at\"] = pd.to_datetime(data[\"review_created_at\"])\n",
    "data[\"Year\"] = data['review_created_at'].dt.year\n",
    "data[\"month\"] = data['review_created_at'].dt.month\n",
    "data = data[[\"upi_company\", \"Year\", \"month\", \"content\", \"score\", \"thumbsUpCount\", \"replyContent\"]]\n",
    "data.head()"
   ]
  },
  {
   "cell_type": "code",
   "execution_count": 428,
   "metadata": {},
   "outputs": [
    {
     "data": {
      "text/html": [
       "<div>\n",
       "<style scoped>\n",
       "    .dataframe tbody tr th:only-of-type {\n",
       "        vertical-align: middle;\n",
       "    }\n",
       "\n",
       "    .dataframe tbody tr th {\n",
       "        vertical-align: top;\n",
       "    }\n",
       "\n",
       "    .dataframe thead th {\n",
       "        text-align: right;\n",
       "    }\n",
       "</style>\n",
       "<table border=\"1\" class=\"dataframe\">\n",
       "  <thead>\n",
       "    <tr style=\"text-align: right;\">\n",
       "      <th></th>\n",
       "      <th>upi_company</th>\n",
       "      <th>Year</th>\n",
       "      <th>month</th>\n",
       "      <th>content</th>\n",
       "      <th>score</th>\n",
       "      <th>thumbsUpCount</th>\n",
       "      <th>replyContent</th>\n",
       "    </tr>\n",
       "  </thead>\n",
       "  <tbody>\n",
       "    <tr>\n",
       "      <th>0</th>\n",
       "      <td>Google</td>\n",
       "      <td>2021</td>\n",
       "      <td>4</td>\n",
       "      <td>They suspended my account for no reason and th...</td>\n",
       "      <td>very Negative</td>\n",
       "      <td>1</td>\n",
       "      <td>We're sorry to hear that, Vinay. Let's connect...</td>\n",
       "    </tr>\n",
       "    <tr>\n",
       "      <th>1</th>\n",
       "      <td>Google</td>\n",
       "      <td>2020</td>\n",
       "      <td>4</td>\n",
       "      <td>Easy. Straight to the point.</td>\n",
       "      <td>Excellent</td>\n",
       "      <td>0</td>\n",
       "      <td>No_reply/No_data</td>\n",
       "    </tr>\n",
       "    <tr>\n",
       "      <th>2</th>\n",
       "      <td>Google</td>\n",
       "      <td>2021</td>\n",
       "      <td>11</td>\n",
       "      <td>Приложение само отвязало карту без уведомления...</td>\n",
       "      <td>very Negative</td>\n",
       "      <td>0</td>\n",
       "      <td>Здравствуйте. Спасибо за отзыв. Карты из прило...</td>\n",
       "    </tr>\n",
       "    <tr>\n",
       "      <th>3</th>\n",
       "      <td>paytm</td>\n",
       "      <td>2021</td>\n",
       "      <td>9</td>\n",
       "      <td>Good</td>\n",
       "      <td>Excellent</td>\n",
       "      <td>0</td>\n",
       "      <td>Awesome! It's been our pleasure. You can also ...</td>\n",
       "    </tr>\n",
       "    <tr>\n",
       "      <th>4</th>\n",
       "      <td>phonepay</td>\n",
       "      <td>2021</td>\n",
       "      <td>11</td>\n",
       "      <td>Great app</td>\n",
       "      <td>Excellent</td>\n",
       "      <td>0</td>\n",
       "      <td>No_reply/No_data</td>\n",
       "    </tr>\n",
       "  </tbody>\n",
       "</table>\n",
       "</div>"
      ],
      "text/plain": [
       "  upi_company  Year  month                                            content  \\\n",
       "0      Google  2021      4  They suspended my account for no reason and th...   \n",
       "1      Google  2020      4                       Easy. Straight to the point.   \n",
       "2      Google  2021     11  Приложение само отвязало карту без уведомления...   \n",
       "3       paytm  2021      9                                               Good   \n",
       "4    phonepay  2021     11                                          Great app   \n",
       "\n",
       "           score  thumbsUpCount  \\\n",
       "0  very Negative              1   \n",
       "1      Excellent              0   \n",
       "2  very Negative              0   \n",
       "3      Excellent              0   \n",
       "4      Excellent              0   \n",
       "\n",
       "                                        replyContent  \n",
       "0  We're sorry to hear that, Vinay. Let's connect...  \n",
       "1                                   No_reply/No_data  \n",
       "2  Здравствуйте. Спасибо за отзыв. Карты из прило...  \n",
       "3  Awesome! It's been our pleasure. You can also ...  \n",
       "4                                   No_reply/No_data  "
      ]
     },
     "execution_count": 428,
     "metadata": {},
     "output_type": "execute_result"
    }
   ],
   "source": [
    "scores = [0, 1, 2, 3, 4, 5]\n",
    "scores_name = [\"very Negative\", \"Negative\", \"Average\", \"Positive\", \"Excellent\"]\n",
    "data[\"score\"] = pd.cut(data[\"score\"],scores, labels=scores_name)\n",
    "data.head()"
   ]
  },
  {
   "cell_type": "code",
   "execution_count": 429,
   "metadata": {},
   "outputs": [],
   "source": [
    "backup_data = data.copy()"
   ]
  },
  {
   "cell_type": "markdown",
   "metadata": {},
   "source": [
    "# EDA"
   ]
  },
  {
   "cell_type": "markdown",
   "metadata": {},
   "source": [
    "## First i will do eda on each an every company seperately"
   ]
  },
  {
   "cell_type": "markdown",
   "metadata": {},
   "source": [
    "### EDA On Google"
   ]
  },
  {
   "cell_type": "code",
   "execution_count": 430,
   "metadata": {},
   "outputs": [
    {
     "data": {
      "image/png": "[encoded data removed]",
      "text/plain": [
       "<Figure size 1080x432 with 1 Axes>"
      ]
     },
     "metadata": {
      "needs_background": "light"
     },
     "output_type": "display_data"
    }
   ],
   "source": [
    "google_data[\"reply_given\"] = google_data[\"replyContent\"].apply(lambda x: \"reply Given\" if x != 'No_reply/No_data' else \"No Reply\")\n",
    "\n",
    "plt.figure(figsize=(15,6))\n",
    "sns.countplot(x=\"score\", hue=\"reply_given\", data=google_data)\n",
    "plt.title('Bar Plot To get relationship Between Scores and Reply Given By Management')\n",
    "plt.show()\n"
   ]
  },
  {
   "cell_type": "code",
   "execution_count": 431,
   "metadata": {},
   "outputs": [
    {
     "data": {
      "image/png": "[encoded data removed]",
      "text/plain": [
       "<Figure size 1080x432 with 1 Axes>"
      ]
     },
     "metadata": {
      "needs_background": "light"
     },
     "output_type": "display_data"
    }
   ],
   "source": [
    "plt.figure(figsize=(15,6))\n",
    "sns.barplot(x=\"score\", y=\"thumbsUpCount\", data=google_data)\n",
    "plt.title('Bar Plot To get relationship Between Scores and Reply Given By Management')\n",
    "plt.show()"
   ]
  },
  {
   "cell_type": "markdown",
   "metadata": {},
   "source": [
    "\n",
    "## EDA On Paytm"
   ]
  },
  {
   "cell_type": "code",
   "execution_count": 432,
   "metadata": {},
   "outputs": [
    {
     "data": {
      "image/png": "[encoded data removed]",
      "text/plain": [
       "<Figure size 1080x432 with 1 Axes>"
      ]
     },
     "metadata": {
      "needs_background": "light"
     },
     "output_type": "display_data"
    }
   ],
   "source": [
    "paytm_data[\"reply_given\"] = paytm_data[\"replyContent\"].apply(lambda x: \"reply Given\" if x != 'No_reply/No_data' else \"No Reply\")\n",
    "\n",
    "plt.figure(figsize=(15,6))\n",
    "sns.countplot(x=\"score\", hue=\"reply_given\", data=paytm_data)\n",
    "plt.title('Bar Plot To get relationship Between Scores and Reply Given By Management')\n",
    "plt.show()"
   ]
  },
  {
   "cell_type": "code",
   "execution_count": 433,
   "metadata": {},
   "outputs": [
    {
     "data": {
      "image/png": "[encoded data removed]",
      "text/plain": [
       "<Figure size 1080x432 with 1 Axes>"
      ]
     },
     "metadata": {
      "needs_background": "light"
     },
     "output_type": "display_data"
    }
   ],
   "source": [
    "plt.figure(figsize=(15,6))\n",
    "sns.barplot(x=\"score\", y=\"thumbsUpCount\", data=paytm_data)\n",
    "plt.title('Bar Plot To get relationship Between Scores and Reply Given By Management')\n",
    "plt.show()"
   ]
  },
  {
   "cell_type": "markdown",
   "metadata": {},
   "source": [
    "## EDA On PhonePay"
   ]
  },
  {
   "cell_type": "code",
   "execution_count": 434,
   "metadata": {},
   "outputs": [
    {
     "data": {
      "image/png": "[encoded data removed]",
      "text/plain": [
       "<Figure size 1080x432 with 1 Axes>"
      ]
     },
     "metadata": {
      "needs_background": "light"
     },
     "output_type": "display_data"
    }
   ],
   "source": [
    "phonepay_data[\"reply_given\"] = phonepay_data[\"replyContent\"].apply(lambda x: \"reply Given\" if x != 'No_reply/No_data' else \"No Reply\")\n",
    "\n",
    "plt.figure(figsize=(15,6))\n",
    "sns.countplot(x=\"score\", hue=\"reply_given\", data=phonepay_data)\n",
    "plt.title('Bar Plot To get relationship Between Scores and Reply Given By Management')\n",
    "plt.show()"
   ]
  },
  {
   "cell_type": "code",
   "execution_count": 435,
   "metadata": {},
   "outputs": [
    {
     "data": {
      "image/png": "[encoded data removed]",
      "text/plain": [
       "<Figure size 1080x432 with 1 Axes>"
      ]
     },
     "metadata": {
      "needs_background": "light"
     },
     "output_type": "display_data"
    }
   ],
   "source": [
    "plt.figure(figsize=(15,6))\n",
    "sns.barplot(x=\"score\", y=\"thumbsUpCount\", data=phonepay_data)\n",
    "plt.title('Bar Plot To get relationship Between Scores and Reply Given By Management')\n",
    "plt.show()"
   ]
  },
  {
   "cell_type": "markdown",
   "metadata": {},
   "source": [
    "## Duing EDA On all the companies\n",
    "We have done the EDA on all individual Companies now we will compare all the Companies together and find the best Company."
   ]
  },
  {
   "cell_type": "code",
   "execution_count": 436,
   "metadata": {},
   "outputs": [
    {
     "data": {
      "text/html": [
       "<div>\n",
       "<style scoped>\n",
       "    .dataframe tbody tr th:only-of-type {\n",
       "        vertical-align: middle;\n",
       "    }\n",
       "\n",
       "    .dataframe tbody tr th {\n",
       "        vertical-align: top;\n",
       "    }\n",
       "\n",
       "    .dataframe thead th {\n",
       "        text-align: right;\n",
       "    }\n",
       "</style>\n",
       "<table border=\"1\" class=\"dataframe\">\n",
       "  <thead>\n",
       "    <tr style=\"text-align: right;\">\n",
       "      <th></th>\n",
       "      <th>upi_company</th>\n",
       "      <th>Year</th>\n",
       "      <th>month</th>\n",
       "      <th>content</th>\n",
       "      <th>score</th>\n",
       "      <th>thumbsUpCount</th>\n",
       "      <th>replyContent</th>\n",
       "    </tr>\n",
       "  </thead>\n",
       "  <tbody>\n",
       "    <tr>\n",
       "      <th>0</th>\n",
       "      <td>Google</td>\n",
       "      <td>2021</td>\n",
       "      <td>4</td>\n",
       "      <td>They suspended my account for no reason and th...</td>\n",
       "      <td>very Negative</td>\n",
       "      <td>1</td>\n",
       "      <td>We're sorry to hear that, Vinay. Let's connect...</td>\n",
       "    </tr>\n",
       "    <tr>\n",
       "      <th>1</th>\n",
       "      <td>Google</td>\n",
       "      <td>2020</td>\n",
       "      <td>4</td>\n",
       "      <td>Easy. Straight to the point.</td>\n",
       "      <td>Excellent</td>\n",
       "      <td>0</td>\n",
       "      <td>No_reply/No_data</td>\n",
       "    </tr>\n",
       "    <tr>\n",
       "      <th>2</th>\n",
       "      <td>Google</td>\n",
       "      <td>2021</td>\n",
       "      <td>11</td>\n",
       "      <td>Приложение само отвязало карту без уведомления...</td>\n",
       "      <td>very Negative</td>\n",
       "      <td>0</td>\n",
       "      <td>Здравствуйте. Спасибо за отзыв. Карты из прило...</td>\n",
       "    </tr>\n",
       "    <tr>\n",
       "      <th>3</th>\n",
       "      <td>paytm</td>\n",
       "      <td>2021</td>\n",
       "      <td>9</td>\n",
       "      <td>Good</td>\n",
       "      <td>Excellent</td>\n",
       "      <td>0</td>\n",
       "      <td>Awesome! It's been our pleasure. You can also ...</td>\n",
       "    </tr>\n",
       "    <tr>\n",
       "      <th>4</th>\n",
       "      <td>phonepay</td>\n",
       "      <td>2021</td>\n",
       "      <td>11</td>\n",
       "      <td>Great app</td>\n",
       "      <td>Excellent</td>\n",
       "      <td>0</td>\n",
       "      <td>No_reply/No_data</td>\n",
       "    </tr>\n",
       "  </tbody>\n",
       "</table>\n",
       "</div>"
      ],
      "text/plain": [
       "  upi_company  Year  month                                            content  \\\n",
       "0      Google  2021      4  They suspended my account for no reason and th...   \n",
       "1      Google  2020      4                       Easy. Straight to the point.   \n",
       "2      Google  2021     11  Приложение само отвязало карту без уведомления...   \n",
       "3       paytm  2021      9                                               Good   \n",
       "4    phonepay  2021     11                                          Great app   \n",
       "\n",
       "           score  thumbsUpCount  \\\n",
       "0  very Negative              1   \n",
       "1      Excellent              0   \n",
       "2  very Negative              0   \n",
       "3      Excellent              0   \n",
       "4      Excellent              0   \n",
       "\n",
       "                                        replyContent  \n",
       "0  We're sorry to hear that, Vinay. Let's connect...  \n",
       "1                                   No_reply/No_data  \n",
       "2  Здравствуйте. Спасибо за отзыв. Карты из прило...  \n",
       "3  Awesome! It's been our pleasure. You can also ...  \n",
       "4                                   No_reply/No_data  "
      ]
     },
     "execution_count": 436,
     "metadata": {},
     "output_type": "execute_result"
    }
   ],
   "source": [
    "data.head()"
   ]
  },
  {
   "cell_type": "code",
   "execution_count": 437,
   "metadata": {},
   "outputs": [
    {
     "data": {
      "image/png": "[encoded data removed]",
      "text/plain": [
       "<Figure size 1080x432 with 1 Axes>"
      ]
     },
     "metadata": {
      "needs_background": "light"
     },
     "output_type": "display_data"
    }
   ],
   "source": [
    "plt.figure(figsize=(15,6))\n",
    "sns.countplot(x=\"score\", hue=\"upi_company\", data=data)\n",
    "plt.title('Bar Plot To Show which Company has ')\n",
    "plt.show()"
   ]
  },
  {
   "cell_type": "code",
   "execution_count": null,
   "metadata": {},
   "outputs": [],
   "source": []
  }
 ],
 "metadata": {
  "interpreter": {
   "hash": "ecf5722fdaf1897a315d257d89d94520bfcaa453217d5becf09b39e73618b0de"
  },
  "kernelspec": {
   "display_name": "Python 3.9.5 64-bit ('base': conda)",
   "language": "python",
   "name": "python3"
  },
  "language_info": {
   "codemirror_mode": {
    "name": "ipython",
    "version": 3
   },
   "file_extension": ".py",
   "mimetype": "text/x-python",
   "name": "python",
   "nbconvert_exporter": "python",
   "pygments_lexer": "ipython3",
   "version": "3.9.5"
  },
  "orig_nbformat": 4
 },
 "nbformat": 4,
 "nbformat_minor": 2
}
