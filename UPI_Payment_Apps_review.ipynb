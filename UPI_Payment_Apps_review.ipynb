{
 "cells": [
  {
   "cell_type": "markdown",
   "metadata": {},
   "source": [
    "\n",
    "![](https://external-content.duckduckgo.com/iu/?u=https%3A%2F%2Ftrak.in%2Fwp-content%2Fuploads%2F2017%2F07%2FUPI-logo.jpg&f=1&nofb=1)\n",
    "# Introduction\n",
    "\n",
    "Unified Payments Interface (UPI) is a system that powers multiple bank accounts into a single mobile application (of any participating bank), merging several banking features, seamless fund routing & merchant payments into one hood. It also caters to the “Peer to Peer” collect request which can be scheduled and paid as per requirement and convenience.\n",
    "\n",
    "Looking forward, COVID-19 has provided a new opportunity for UPI and digital banking in general. India wants to decrease the amount of physical currency in circulation, and the pandemic has shown many people the virtues of online banking. For example, young adults wary of infecting their older parents have helped an older generation get on UPI and utilize everything it has to offer.\n",
    "\n",
    "UPI’s recent boom focuses back to the platform’s original goal: creating an even playing field for all people, regardless of background or socioeconomic status. In 10 or 20 years, it would not be surprising to see all banking conducted virtually. Therefore, it is crucial to create a solid infrastructure that eliminates a system of preferential treatment based on wealth. UPI is helping to fight that fight.\n",
    "\n",
    "## Goal Of This Kernal\n",
    "Explore Three Different UPI Companies under different umbrellas like usability, user interface, technical glitches and overall how satisfied the customers are with these apps."
   ]
  },
  {
   "cell_type": "code",
   "execution_count": 2,
   "metadata": {},
   "outputs": [],
   "source": [
    "import pandas as pd\n",
    "import numpy as np\n",
    "import matplotlib.pyplot as plt\n",
    "import seaborn as sns"
   ]
  },
  {
   "cell_type": "code",
   "execution_count": 3,
   "metadata": {},
   "outputs": [],
   "source": [
    "google_data = pd.read_csv(\"Datasets/UPI_Payment_Apps_review/GooglePayIndia.csv\")\n",
    "paytm_data = pd.read_csv(\"Datasets/UPI_Payment_Apps_review/PaytmIndia.csv\")\n",
    "phonepay_data = pd.read_csv(\"Datasets/UPI_Payment_Apps_review/PhonePayIndia.csv\")"
   ]
  },
  {
   "cell_type": "markdown",
   "metadata": {},
   "source": [
    "## First View Of Data"
   ]
  },
  {
   "cell_type": "code",
   "execution_count": 4,
   "metadata": {},
   "outputs": [
    {
     "data": {
      "text/html": [
       "<div>\n",
       "<style scoped>\n",
       "    .dataframe tbody tr th:only-of-type {\n",
       "        vertical-align: middle;\n",
       "    }\n",
       "\n",
       "    .dataframe tbody tr th {\n",
       "        vertical-align: top;\n",
       "    }\n",
       "\n",
       "    .dataframe thead th {\n",
       "        text-align: right;\n",
       "    }\n",
       "</style>\n",
       "<table border=\"1\" class=\"dataframe\">\n",
       "  <thead>\n",
       "    <tr style=\"text-align: right;\">\n",
       "      <th></th>\n",
       "      <th>Unnamed: 0</th>\n",
       "      <th>reviewId</th>\n",
       "      <th>userName</th>\n",
       "      <th>userImage</th>\n",
       "      <th>content</th>\n",
       "      <th>score</th>\n",
       "      <th>thumbsUpCount</th>\n",
       "      <th>reviewCreatedVersion</th>\n",
       "      <th>at</th>\n",
       "      <th>replyContent</th>\n",
       "      <th>repliedAt</th>\n",
       "    </tr>\n",
       "  </thead>\n",
       "  <tbody>\n",
       "    <tr>\n",
       "      <th>0</th>\n",
       "      <td>0</td>\n",
       "      <td>gp:AOqpTOEdT_VactGi_J9Q2PEWY7J4XlD7BINhOj9xwOr...</td>\n",
       "      <td>Len Pagnam</td>\n",
       "      <td>https://play-lh.googleusercontent.com/a-/AOh14...</td>\n",
       "      <td>How do add a boarding pass? I see no passes tab.</td>\n",
       "      <td>1</td>\n",
       "      <td>0</td>\n",
       "      <td>2.137.401329300</td>\n",
       "      <td>2021-11-18 17:03:06</td>\n",
       "      <td>Hi Len. Could you try the steps in this guide ...</td>\n",
       "      <td>2021-11-18 17:27:11</td>\n",
       "    </tr>\n",
       "    <tr>\n",
       "      <th>1</th>\n",
       "      <td>1</td>\n",
       "      <td>gp:AOqpTOHltpCzXurPoFUgj-a3L-wApC93-fTvocbF9K7...</td>\n",
       "      <td>Benjamin Silva</td>\n",
       "      <td>https://play-lh.googleusercontent.com/a/AATXAJ...</td>\n",
       "      <td>Best</td>\n",
       "      <td>5</td>\n",
       "      <td>0</td>\n",
       "      <td>2.134.392709498</td>\n",
       "      <td>2021-11-18 16:43:34</td>\n",
       "      <td>NaN</td>\n",
       "      <td>NaN</td>\n",
       "    </tr>\n",
       "    <tr>\n",
       "      <th>2</th>\n",
       "      <td>2</td>\n",
       "      <td>gp:AOqpTOGTiyxy_FWSQe7eCONa7PsIP6v7cS-xWCL6jFF...</td>\n",
       "      <td>PARVESH MIAR</td>\n",
       "      <td>https://play-lh.googleusercontent.com/a-/AOh14...</td>\n",
       "      <td>All ok</td>\n",
       "      <td>5</td>\n",
       "      <td>0</td>\n",
       "      <td>2.138.406141160</td>\n",
       "      <td>2021-11-18 16:12:42</td>\n",
       "      <td>NaN</td>\n",
       "      <td>NaN</td>\n",
       "    </tr>\n",
       "    <tr>\n",
       "      <th>3</th>\n",
       "      <td>3</td>\n",
       "      <td>gp:AOqpTOHllyGnmLGZqPUGokxYncq9kOKoY3Zz_4ZF6b0...</td>\n",
       "      <td>Mikko L.</td>\n",
       "      <td>https://play-lh.googleusercontent.com/a-/AOh14...</td>\n",
       "      <td>Rasy to use really... But there never, ever sh...</td>\n",
       "      <td>3</td>\n",
       "      <td>0</td>\n",
       "      <td>2.138.406141160</td>\n",
       "      <td>2021-11-18 16:06:35</td>\n",
       "      <td>NaN</td>\n",
       "      <td>NaN</td>\n",
       "    </tr>\n",
       "    <tr>\n",
       "      <th>4</th>\n",
       "      <td>4</td>\n",
       "      <td>gp:AOqpTOHjnJ6gAF4NzruhLDGVszAaTKSerVeKt-UtJfM...</td>\n",
       "      <td>A Google user</td>\n",
       "      <td>https://play-lh.googleusercontent.com/EGemoI2N...</td>\n",
       "      <td>I still do not understand why your restricting...</td>\n",
       "      <td>3</td>\n",
       "      <td>251</td>\n",
       "      <td>2.134.392709498</td>\n",
       "      <td>2021-11-18 15:48:08</td>\n",
       "      <td>NaN</td>\n",
       "      <td>NaN</td>\n",
       "    </tr>\n",
       "  </tbody>\n",
       "</table>\n",
       "</div>"
      ],
      "text/plain": [
       "   Unnamed: 0                                           reviewId  \\\n",
       "0           0  gp:AOqpTOEdT_VactGi_J9Q2PEWY7J4XlD7BINhOj9xwOr...   \n",
       "1           1  gp:AOqpTOHltpCzXurPoFUgj-a3L-wApC93-fTvocbF9K7...   \n",
       "2           2  gp:AOqpTOGTiyxy_FWSQe7eCONa7PsIP6v7cS-xWCL6jFF...   \n",
       "3           3  gp:AOqpTOHllyGnmLGZqPUGokxYncq9kOKoY3Zz_4ZF6b0...   \n",
       "4           4  gp:AOqpTOHjnJ6gAF4NzruhLDGVszAaTKSerVeKt-UtJfM...   \n",
       "\n",
       "         userName                                          userImage  \\\n",
       "0      Len Pagnam  https://play-lh.googleusercontent.com/a-/AOh14...   \n",
       "1  Benjamin Silva  https://play-lh.googleusercontent.com/a/AATXAJ...   \n",
       "2    PARVESH MIAR  https://play-lh.googleusercontent.com/a-/AOh14...   \n",
       "3        Mikko L.  https://play-lh.googleusercontent.com/a-/AOh14...   \n",
       "4   A Google user  https://play-lh.googleusercontent.com/EGemoI2N...   \n",
       "\n",
       "                                             content  score  thumbsUpCount  \\\n",
       "0   How do add a boarding pass? I see no passes tab.      1              0   \n",
       "1                                               Best      5              0   \n",
       "2                                             All ok      5              0   \n",
       "3  Rasy to use really... But there never, ever sh...      3              0   \n",
       "4  I still do not understand why your restricting...      3            251   \n",
       "\n",
       "  reviewCreatedVersion                   at  \\\n",
       "0      2.137.401329300  2021-11-18 17:03:06   \n",
       "1      2.134.392709498  2021-11-18 16:43:34   \n",
       "2      2.138.406141160  2021-11-18 16:12:42   \n",
       "3      2.138.406141160  2021-11-18 16:06:35   \n",
       "4      2.134.392709498  2021-11-18 15:48:08   \n",
       "\n",
       "                                        replyContent            repliedAt  \n",
       "0  Hi Len. Could you try the steps in this guide ...  2021-11-18 17:27:11  \n",
       "1                                                NaN                  NaN  \n",
       "2                                                NaN                  NaN  \n",
       "3                                                NaN                  NaN  \n",
       "4                                                NaN                  NaN  "
      ]
     },
     "execution_count": 4,
     "metadata": {},
     "output_type": "execute_result"
    }
   ],
   "source": [
    "google_data.head()"
   ]
  },
  {
   "cell_type": "code",
   "execution_count": 5,
   "metadata": {},
   "outputs": [
    {
     "name": "stdout",
     "output_type": "stream",
     "text": [
      "<class 'pandas.core.frame.DataFrame'>\n",
      "RangeIndex: 34228 entries, 0 to 34227\n",
      "Data columns (total 11 columns):\n",
      " #   Column                Non-Null Count  Dtype \n",
      "---  ------                --------------  ----- \n",
      " 0   Unnamed: 0            34228 non-null  int64 \n",
      " 1   reviewId              34228 non-null  object\n",
      " 2   userName              34227 non-null  object\n",
      " 3   userImage             34228 non-null  object\n",
      " 4   content               34223 non-null  object\n",
      " 5   score                 34228 non-null  int64 \n",
      " 6   thumbsUpCount         34228 non-null  int64 \n",
      " 7   reviewCreatedVersion  29987 non-null  object\n",
      " 8   at                    34228 non-null  object\n",
      " 9   replyContent          6112 non-null   object\n",
      " 10  repliedAt             6112 non-null   object\n",
      "dtypes: int64(3), object(8)\n",
      "memory usage: 2.9+ MB\n"
     ]
    }
   ],
   "source": [
    "google_data.info()"
   ]
  },
  {
   "cell_type": "markdown",
   "metadata": {},
   "source": [
    "# Feature Engineering\n",
    "I will divide the Feature Engineering part According to Numeric and Category DataType this will help me to Implement Solutions in a fast and better Way."
   ]
  },
  {
   "cell_type": "markdown",
   "metadata": {},
   "source": [
    "## Featching the Numeric Column and finding all the NaN Values in Google dataset"
   ]
  },
  {
   "cell_type": "code",
   "execution_count": 6,
   "metadata": {},
   "outputs": [
    {
     "data": {
      "text/plain": [
       "Unnamed: 0       0\n",
       "score            0\n",
       "thumbsUpCount    0\n",
       "dtype: int64"
      ]
     },
     "execution_count": 6,
     "metadata": {},
     "output_type": "execute_result"
    }
   ],
   "source": [
    "num_category = [feature for feature in google_data.columns if google_data[feature].dtypes != \"O\"]\n",
    "google_data[num_category].isnull().sum()"
   ]
  },
  {
   "cell_type": "markdown",
   "metadata": {},
   "source": [
    "## Featching the Numeric Column and finding all the NaN Values in Paytm dataset"
   ]
  },
  {
   "cell_type": "code",
   "execution_count": 7,
   "metadata": {},
   "outputs": [
    {
     "data": {
      "text/plain": [
       "Unnamed: 0       0\n",
       "score            0\n",
       "thumbsUpCount    0\n",
       "dtype: int64"
      ]
     },
     "execution_count": 7,
     "metadata": {},
     "output_type": "execute_result"
    }
   ],
   "source": [
    "num_category = [feature for feature in paytm_data.columns if paytm_data[feature].dtypes != \"O\"]\n",
    "paytm_data[num_category].isnull().sum()"
   ]
  },
  {
   "cell_type": "markdown",
   "metadata": {},
   "source": [
    "## Featching the Numeric Column and finding all the NaN Values in PhonePay dataset"
   ]
  },
  {
   "cell_type": "code",
   "execution_count": 8,
   "metadata": {},
   "outputs": [
    {
     "data": {
      "text/plain": [
       "Unnamed: 0       0\n",
       "score            0\n",
       "thumbsUpCount    0\n",
       "dtype: int64"
      ]
     },
     "execution_count": 8,
     "metadata": {},
     "output_type": "execute_result"
    }
   ],
   "source": [
    "num_category = [feature for feature in phonepay_data.columns if phonepay_data[feature].dtypes != \"O\"]\n",
    "phonepay_data[num_category].isnull().sum()"
   ]
  },
  {
   "cell_type": "markdown",
   "metadata": {},
   "source": [
    "#### There are no Null Values in Numeric Column in Google, Paytm, PhonePay"
   ]
  },
  {
   "cell_type": "markdown",
   "metadata": {},
   "source": [
    "## Finding Out The OutLiers In Numeric Column"
   ]
  },
  {
   "cell_type": "code",
   "execution_count": 9,
   "metadata": {},
   "outputs": [
    {
     "data": {
      "text/plain": [
       "<AxesSubplot:title={'center':'Checking Outliers in PhonePay thumbsUpCount Column'}, xlabel='thumbsUpCount'>"
      ]
     },
     "execution_count": 9,
     "metadata": {},
     "output_type": "execute_result"
    },
    {
     "data": {
      "image/png": "[encoded data removed]",
      "text/plain": [
       "<Figure size 720x288 with 1 Axes>"
      ]
     },
     "metadata": {
      "needs_background": "light"
     },
     "output_type": "display_data"
    },
    {
     "data": {
      "image/png": "[encoded data removed]",
      "text/plain": [
       "<Figure size 720x288 with 1 Axes>"
      ]
     },
     "metadata": {
      "needs_background": "light"
     },
     "output_type": "display_data"
    },
    {
     "data": {
      "image/png": "[encoded data removed]",
      "text/plain": [
       "<Figure size 720x288 with 1 Axes>"
      ]
     },
     "metadata": {
      "needs_background": "light"
     },
     "output_type": "display_data"
    }
   ],
   "source": [
    "plt.figure(figsize=(10,4))\n",
    "plt.xlim(-100, 3000)\n",
    "flierprops = dict(marker='o', markerfacecolor='purple', markersize=6,\n",
    "                  linestyle='none', markeredgecolor='black')\n",
    "plt.title(\"Checking Outliers in Google thumbsUpCount Column\")\n",
    "sns.boxplot(x=google_data.thumbsUpCount, flierprops=flierprops)\n",
    "\n",
    "plt.figure(figsize=(10,4))\n",
    "plt.title(\"Checking Outliers in Paytm thumbsUpCount Column\")\n",
    "plt.xlim(paytm_data.thumbsUpCount.min(), paytm_data.thumbsUpCount.max()*1.1)\n",
    "sns.boxplot(x=paytm_data.thumbsUpCount, flierprops=flierprops)\n",
    "\n",
    "plt.figure(figsize=(10,4))\n",
    "plt.title(\"Checking Outliers in PhonePay thumbsUpCount Column\")\n",
    "plt.xlim(phonepay_data.thumbsUpCount.min(), phonepay_data.thumbsUpCount.max()*1.1)\n",
    "sns.boxplot(x=phonepay_data.thumbsUpCount, flierprops=flierprops)"
   ]
  },
  {
   "cell_type": "markdown",
   "metadata": {},
   "source": [
    "## There were some Outliers So I removed All the Outliers and assigned back the data"
   ]
  },
  {
   "cell_type": "code",
   "execution_count": 10,
   "metadata": {},
   "outputs": [
    {
     "data": {
      "text/html": [
       "<div>\n",
       "<style scoped>\n",
       "    .dataframe tbody tr th:only-of-type {\n",
       "        vertical-align: middle;\n",
       "    }\n",
       "\n",
       "    .dataframe tbody tr th {\n",
       "        vertical-align: top;\n",
       "    }\n",
       "\n",
       "    .dataframe thead th {\n",
       "        text-align: right;\n",
       "    }\n",
       "</style>\n",
       "<table border=\"1\" class=\"dataframe\">\n",
       "  <thead>\n",
       "    <tr style=\"text-align: right;\">\n",
       "      <th></th>\n",
       "      <th>Unnamed: 0</th>\n",
       "      <th>reviewId</th>\n",
       "      <th>userName</th>\n",
       "      <th>userImage</th>\n",
       "      <th>content</th>\n",
       "      <th>score</th>\n",
       "      <th>thumbsUpCount</th>\n",
       "      <th>reviewCreatedVersion</th>\n",
       "      <th>at</th>\n",
       "      <th>replyContent</th>\n",
       "      <th>repliedAt</th>\n",
       "    </tr>\n",
       "  </thead>\n",
       "  <tbody>\n",
       "    <tr>\n",
       "      <th>0</th>\n",
       "      <td>0</td>\n",
       "      <td>gp:AOqpTOEdT_VactGi_J9Q2PEWY7J4XlD7BINhOj9xwOr...</td>\n",
       "      <td>Len Pagnam</td>\n",
       "      <td>https://play-lh.googleusercontent.com/a-/AOh14...</td>\n",
       "      <td>How do add a boarding pass? I see no passes tab.</td>\n",
       "      <td>1</td>\n",
       "      <td>0</td>\n",
       "      <td>2.137.401329300</td>\n",
       "      <td>2021-11-18 17:03:06</td>\n",
       "      <td>Hi Len. Could you try the steps in this guide ...</td>\n",
       "      <td>2021-11-18 17:27:11</td>\n",
       "    </tr>\n",
       "    <tr>\n",
       "      <th>1</th>\n",
       "      <td>1</td>\n",
       "      <td>gp:AOqpTOHltpCzXurPoFUgj-a3L-wApC93-fTvocbF9K7...</td>\n",
       "      <td>Benjamin Silva</td>\n",
       "      <td>https://play-lh.googleusercontent.com/a/AATXAJ...</td>\n",
       "      <td>Best</td>\n",
       "      <td>5</td>\n",
       "      <td>0</td>\n",
       "      <td>2.134.392709498</td>\n",
       "      <td>2021-11-18 16:43:34</td>\n",
       "      <td>NaN</td>\n",
       "      <td>NaN</td>\n",
       "    </tr>\n",
       "    <tr>\n",
       "      <th>2</th>\n",
       "      <td>2</td>\n",
       "      <td>gp:AOqpTOGTiyxy_FWSQe7eCONa7PsIP6v7cS-xWCL6jFF...</td>\n",
       "      <td>PARVESH MIAR</td>\n",
       "      <td>https://play-lh.googleusercontent.com/a-/AOh14...</td>\n",
       "      <td>All ok</td>\n",
       "      <td>5</td>\n",
       "      <td>0</td>\n",
       "      <td>2.138.406141160</td>\n",
       "      <td>2021-11-18 16:12:42</td>\n",
       "      <td>NaN</td>\n",
       "      <td>NaN</td>\n",
       "    </tr>\n",
       "    <tr>\n",
       "      <th>3</th>\n",
       "      <td>3</td>\n",
       "      <td>gp:AOqpTOHllyGnmLGZqPUGokxYncq9kOKoY3Zz_4ZF6b0...</td>\n",
       "      <td>Mikko L.</td>\n",
       "      <td>https://play-lh.googleusercontent.com/a-/AOh14...</td>\n",
       "      <td>Rasy to use really... But there never, ever sh...</td>\n",
       "      <td>3</td>\n",
       "      <td>0</td>\n",
       "      <td>2.138.406141160</td>\n",
       "      <td>2021-11-18 16:06:35</td>\n",
       "      <td>NaN</td>\n",
       "      <td>NaN</td>\n",
       "    </tr>\n",
       "    <tr>\n",
       "      <th>4</th>\n",
       "      <td>4</td>\n",
       "      <td>gp:AOqpTOHjnJ6gAF4NzruhLDGVszAaTKSerVeKt-UtJfM...</td>\n",
       "      <td>A Google user</td>\n",
       "      <td>https://play-lh.googleusercontent.com/EGemoI2N...</td>\n",
       "      <td>I still do not understand why your restricting...</td>\n",
       "      <td>3</td>\n",
       "      <td>251</td>\n",
       "      <td>2.134.392709498</td>\n",
       "      <td>2021-11-18 15:48:08</td>\n",
       "      <td>NaN</td>\n",
       "      <td>NaN</td>\n",
       "    </tr>\n",
       "  </tbody>\n",
       "</table>\n",
       "</div>"
      ],
      "text/plain": [
       "   Unnamed: 0                                           reviewId  \\\n",
       "0           0  gp:AOqpTOEdT_VactGi_J9Q2PEWY7J4XlD7BINhOj9xwOr...   \n",
       "1           1  gp:AOqpTOHltpCzXurPoFUgj-a3L-wApC93-fTvocbF9K7...   \n",
       "2           2  gp:AOqpTOGTiyxy_FWSQe7eCONa7PsIP6v7cS-xWCL6jFF...   \n",
       "3           3  gp:AOqpTOHllyGnmLGZqPUGokxYncq9kOKoY3Zz_4ZF6b0...   \n",
       "4           4  gp:AOqpTOHjnJ6gAF4NzruhLDGVszAaTKSerVeKt-UtJfM...   \n",
       "\n",
       "         userName                                          userImage  \\\n",
       "0      Len Pagnam  https://play-lh.googleusercontent.com/a-/AOh14...   \n",
       "1  Benjamin Silva  https://play-lh.googleusercontent.com/a/AATXAJ...   \n",
       "2    PARVESH MIAR  https://play-lh.googleusercontent.com/a-/AOh14...   \n",
       "3        Mikko L.  https://play-lh.googleusercontent.com/a-/AOh14...   \n",
       "4   A Google user  https://play-lh.googleusercontent.com/EGemoI2N...   \n",
       "\n",
       "                                             content  score  thumbsUpCount  \\\n",
       "0   How do add a boarding pass? I see no passes tab.      1              0   \n",
       "1                                               Best      5              0   \n",
       "2                                             All ok      5              0   \n",
       "3  Rasy to use really... But there never, ever sh...      3              0   \n",
       "4  I still do not understand why your restricting...      3            251   \n",
       "\n",
       "  reviewCreatedVersion                   at  \\\n",
       "0      2.137.401329300  2021-11-18 17:03:06   \n",
       "1      2.134.392709498  2021-11-18 16:43:34   \n",
       "2      2.138.406141160  2021-11-18 16:12:42   \n",
       "3      2.138.406141160  2021-11-18 16:06:35   \n",
       "4      2.134.392709498  2021-11-18 15:48:08   \n",
       "\n",
       "                                        replyContent            repliedAt  \n",
       "0  Hi Len. Could you try the steps in this guide ...  2021-11-18 17:27:11  \n",
       "1                                                NaN                  NaN  \n",
       "2                                                NaN                  NaN  \n",
       "3                                                NaN                  NaN  \n",
       "4                                                NaN                  NaN  "
      ]
     },
     "execution_count": 10,
     "metadata": {},
     "output_type": "execute_result"
    }
   ],
   "source": [
    "google_data = google_data[google_data[\"thumbsUpCount\"] <=500]\n",
    "paytm_data = paytm_data[paytm_data[\"thumbsUpCount\"] <=550]\n",
    "phonepay_data = phonepay_data[phonepay_data[\"thumbsUpCount\"] <=100]\n",
    "google_data.head()"
   ]
  },
  {
   "cell_type": "markdown",
   "metadata": {},
   "source": [
    "## Featching the Categorical Column and finding all the NaN Values in Google dataset"
   ]
  },
  {
   "cell_type": "code",
   "execution_count": 11,
   "metadata": {},
   "outputs": [
    {
     "data": {
      "text/plain": [
       "reviewId                    0\n",
       "userName                    1\n",
       "userImage                   0\n",
       "content                     5\n",
       "reviewCreatedVersion     4241\n",
       "at                          0\n",
       "replyContent            28106\n",
       "repliedAt               28106\n",
       "dtype: int64"
      ]
     },
     "execution_count": 11,
     "metadata": {},
     "output_type": "execute_result"
    }
   ],
   "source": [
    "cat_category = [feature for feature in google_data.columns if google_data[feature].dtypes == \"O\"]\n",
    "google_data[cat_category].isnull().sum()"
   ]
  },
  {
   "cell_type": "code",
   "execution_count": 12,
   "metadata": {},
   "outputs": [],
   "source": [
    "google_data = google_data.drop(columns=[\"reviewCreatedVersion\", \"repliedAt\"])\n",
    "google_data[\"replyContent\"] = google_data[\"replyContent\"].fillna(\"No_reply/No_data\")"
   ]
  },
  {
   "cell_type": "markdown",
   "metadata": {},
   "source": [
    "## Featching the Categorical Column and finding all the NaN Values in Paytm dataset"
   ]
  },
  {
   "cell_type": "code",
   "execution_count": 13,
   "metadata": {},
   "outputs": [
    {
     "data": {
      "text/plain": [
       "reviewId                    0\n",
       "userName                    0\n",
       "userImage                   0\n",
       "content                     2\n",
       "reviewCreatedVersion    23665\n",
       "at                          0\n",
       "replyContent            69777\n",
       "repliedAt               69777\n",
       "dtype: int64"
      ]
     },
     "execution_count": 13,
     "metadata": {},
     "output_type": "execute_result"
    }
   ],
   "source": [
    "cat_category = [feature for feature in paytm_data.columns if paytm_data[feature].dtypes == \"O\"]\n",
    "paytm_data[cat_category].isnull().sum()"
   ]
  },
  {
   "cell_type": "code",
   "execution_count": 14,
   "metadata": {},
   "outputs": [],
   "source": [
    "paytm_data = paytm_data.drop(columns=[\"reviewCreatedVersion\",\"repliedAt\"])\n",
    "paytm_data[\"replyContent\"] = paytm_data[\"replyContent\"].fillna(\"No_reply/No_data\")"
   ]
  },
  {
   "cell_type": "markdown",
   "metadata": {},
   "source": [
    "## Featching the Categorical Column and finding all the NaN Values in PhonePay dataset"
   ]
  },
  {
   "cell_type": "code",
   "execution_count": 15,
   "metadata": {},
   "outputs": [
    {
     "data": {
      "text/plain": [
       "reviewId                   0\n",
       "userName                   0\n",
       "userImage                  0\n",
       "content                    0\n",
       "reviewCreatedVersion    2136\n",
       "at                         0\n",
       "replyContent            8803\n",
       "repliedAt               8803\n",
       "dtype: int64"
      ]
     },
     "execution_count": 15,
     "metadata": {},
     "output_type": "execute_result"
    }
   ],
   "source": [
    "cat_category = [feature for feature in phonepay_data.columns if phonepay_data[feature].dtypes == \"O\"]\n",
    "phonepay_data[cat_category].isnull().sum()"
   ]
  },
  {
   "cell_type": "code",
   "execution_count": 16,
   "metadata": {},
   "outputs": [],
   "source": [
    "phonepay_data = phonepay_data.drop(columns=[\"reviewCreatedVersion\", \"repliedAt\"])\n",
    "phonepay_data[\"replyContent\"] = phonepay_data[\"replyContent\"].fillna(\"No_reply/No_data\")"
   ]
  },
  {
   "cell_type": "markdown",
   "metadata": {},
   "source": [
    "#### In all the 3 Datasets I removed [\"reviewCreatedVersion\",\"repliedAt\"] as i think this will not be used in future EDA Part. And I Relplace all the NaN Values from replyContent to \"No_reply/No_data\"."
   ]
  },
  {
   "cell_type": "code",
   "execution_count": 17,
   "metadata": {},
   "outputs": [],
   "source": [
    "google_data = google_data.drop([\"Unnamed: 0\", \"reviewId\", \"userName\", \"userImage\"],axis=1)\n",
    "paytm_data = paytm_data.drop([\"Unnamed: 0\", \"reviewId\", \"userName\", \"userImage\"],axis=1)\n",
    "phonepay_data = phonepay_data.drop([\"Unnamed: 0\", \"reviewId\", \"userName\", \"userImage\"],axis=1)"
   ]
  },
  {
   "cell_type": "markdown",
   "metadata": {},
   "source": [
    "### I also assined new \"upi_company\" column to all three datases"
   ]
  },
  {
   "cell_type": "code",
   "execution_count": 18,
   "metadata": {},
   "outputs": [],
   "source": [
    "google_data[\"upi_company\"] = \"Google\"\n",
    "paytm_data[\"upi_company\"] = \"paytm\"\n",
    "phonepay_data[\"upi_company\"] = \"phonepay\""
   ]
  },
  {
   "cell_type": "markdown",
   "metadata": {},
   "source": [
    "**Then I Joined all three datasets [\"Google\", \"Paytm\", \"Phonepay\"] to a single dataset called data, But before that, I realized that the distribution of data is not equal for example total rows in the google dataset is 34218 and in phonepay it is 11735 and in Paytm it is 137897. So I will be taking only 11734 rows to form each dataset so I also used the `sample()` function so that I can get 11734 random Data for all three datasets.**  "
   ]
  },
  {
   "cell_type": "code",
   "execution_count": 20,
   "metadata": {},
   "outputs": [
    {
     "data": {
      "text/html": [
       "<div>\n",
       "<style scoped>\n",
       "    .dataframe tbody tr th:only-of-type {\n",
       "        vertical-align: middle;\n",
       "    }\n",
       "\n",
       "    .dataframe tbody tr th {\n",
       "        vertical-align: top;\n",
       "    }\n",
       "\n",
       "    .dataframe thead th {\n",
       "        text-align: right;\n",
       "    }\n",
       "</style>\n",
       "<table border=\"1\" class=\"dataframe\">\n",
       "  <thead>\n",
       "    <tr style=\"text-align: right;\">\n",
       "      <th></th>\n",
       "      <th>content</th>\n",
       "      <th>score</th>\n",
       "      <th>thumbsUpCount</th>\n",
       "      <th>review_created_at</th>\n",
       "      <th>replyContent</th>\n",
       "      <th>upi_company</th>\n",
       "    </tr>\n",
       "  </thead>\n",
       "  <tbody>\n",
       "    <tr>\n",
       "      <th>0</th>\n",
       "      <td>Good</td>\n",
       "      <td>5</td>\n",
       "      <td>0</td>\n",
       "      <td>2021-11-13 10:36:30</td>\n",
       "      <td>No_reply/No_data</td>\n",
       "      <td>phonepay</td>\n",
       "    </tr>\n",
       "    <tr>\n",
       "      <th>1</th>\n",
       "      <td>Processing is so slow and not working properly...</td>\n",
       "      <td>1</td>\n",
       "      <td>0</td>\n",
       "      <td>2021-11-11 10:52:28</td>\n",
       "      <td>Hi Lokendra, we regret the inconvenience cause...</td>\n",
       "      <td>phonepay</td>\n",
       "    </tr>\n",
       "    <tr>\n",
       "      <th>2</th>\n",
       "      <td>Wallet service very faults. And problem solvin...</td>\n",
       "      <td>1</td>\n",
       "      <td>0</td>\n",
       "      <td>2021-11-18 12:36:04</td>\n",
       "      <td>Hi Rohit, this is definitely not the experienc...</td>\n",
       "      <td>phonepay</td>\n",
       "    </tr>\n",
       "    <tr>\n",
       "      <th>3</th>\n",
       "      <td>Supper</td>\n",
       "      <td>5</td>\n",
       "      <td>0</td>\n",
       "      <td>2021-11-17 23:18:37</td>\n",
       "      <td>Thank you for the 5-star rating, Ravi. We're h...</td>\n",
       "      <td>phonepay</td>\n",
       "    </tr>\n",
       "    <tr>\n",
       "      <th>4</th>\n",
       "      <td>Good</td>\n",
       "      <td>5</td>\n",
       "      <td>0</td>\n",
       "      <td>2021-11-10 23:30:22</td>\n",
       "      <td>No_reply/No_data</td>\n",
       "      <td>phonepay</td>\n",
       "    </tr>\n",
       "  </tbody>\n",
       "</table>\n",
       "</div>"
      ],
      "text/plain": [
       "                                             content  score  thumbsUpCount  \\\n",
       "0                                               Good      5              0   \n",
       "1  Processing is so slow and not working properly...      1              0   \n",
       "2  Wallet service very faults. And problem solvin...      1              0   \n",
       "3                                             Supper      5              0   \n",
       "4                                               Good      5              0   \n",
       "\n",
       "     review_created_at                                       replyContent  \\\n",
       "0  2021-11-13 10:36:30                                   No_reply/No_data   \n",
       "1  2021-11-11 10:52:28  Hi Lokendra, we regret the inconvenience cause...   \n",
       "2  2021-11-18 12:36:04  Hi Rohit, this is definitely not the experienc...   \n",
       "3  2021-11-17 23:18:37  Thank you for the 5-star rating, Ravi. We're h...   \n",
       "4  2021-11-10 23:30:22                                   No_reply/No_data   \n",
       "\n",
       "  upi_company  \n",
       "0    phonepay  \n",
       "1    phonepay  \n",
       "2    phonepay  \n",
       "3    phonepay  \n",
       "4    phonepay  "
      ]
     },
     "execution_count": 20,
     "metadata": {},
     "output_type": "execute_result"
    }
   ],
   "source": [
    "google_data = google_data.sample(frac=1).reset_index(drop=True)\n",
    "paytm_data = paytm_data.sample(frac=1).reset_index(drop=True)\n",
    "phonepay_data = phonepay_data.sample(frac=1).reset_index(drop=True)\n",
    "\n",
    "data = phonepay_data.append([paytm_data[:11735 ], google_data[:11735]], ignore_index=True)\n",
    "\n",
    "data = data.rename(columns={\"at\": \"review_created_at\"})\n",
    "data.head()"
   ]
  },
  {
   "cell_type": "code",
   "execution_count": 21,
   "metadata": {},
   "outputs": [
    {
     "data": {
      "text/html": [
       "<div>\n",
       "<style scoped>\n",
       "    .dataframe tbody tr th:only-of-type {\n",
       "        vertical-align: middle;\n",
       "    }\n",
       "\n",
       "    .dataframe tbody tr th {\n",
       "        vertical-align: top;\n",
       "    }\n",
       "\n",
       "    .dataframe thead th {\n",
       "        text-align: right;\n",
       "    }\n",
       "</style>\n",
       "<table border=\"1\" class=\"dataframe\">\n",
       "  <thead>\n",
       "    <tr style=\"text-align: right;\">\n",
       "      <th></th>\n",
       "      <th>content</th>\n",
       "      <th>score</th>\n",
       "      <th>thumbsUpCount</th>\n",
       "      <th>review_created_at</th>\n",
       "      <th>replyContent</th>\n",
       "      <th>upi_company</th>\n",
       "    </tr>\n",
       "  </thead>\n",
       "  <tbody>\n",
       "    <tr>\n",
       "      <th>0</th>\n",
       "      <td>best app i love❤😘 thanx for pyatm kashback</td>\n",
       "      <td>5</td>\n",
       "      <td>0</td>\n",
       "      <td>2021-08-24 12:04:57</td>\n",
       "      <td>Awesome! It's been our pleasure. You can also ...</td>\n",
       "      <td>paytm</td>\n",
       "    </tr>\n",
       "    <tr>\n",
       "      <th>1</th>\n",
       "      <td>Very nice👍👏👏</td>\n",
       "      <td>5</td>\n",
       "      <td>0</td>\n",
       "      <td>2021-11-18 05:51:39</td>\n",
       "      <td>Thank you for the amazing 5-star review. We're...</td>\n",
       "      <td>phonepay</td>\n",
       "    </tr>\n",
       "    <tr>\n",
       "      <th>2</th>\n",
       "      <td>Good app</td>\n",
       "      <td>5</td>\n",
       "      <td>0</td>\n",
       "      <td>2021-07-31 00:33:28</td>\n",
       "      <td>Awesome! It's been our pleasure. You can also ...</td>\n",
       "      <td>paytm</td>\n",
       "    </tr>\n",
       "    <tr>\n",
       "      <th>3</th>\n",
       "      <td>Excellent</td>\n",
       "      <td>5</td>\n",
       "      <td>0</td>\n",
       "      <td>2021-11-11 18:02:12</td>\n",
       "      <td>No_reply/No_data</td>\n",
       "      <td>phonepay</td>\n",
       "    </tr>\n",
       "    <tr>\n",
       "      <th>4</th>\n",
       "      <td>Good</td>\n",
       "      <td>5</td>\n",
       "      <td>0</td>\n",
       "      <td>2021-08-05 10:34:44</td>\n",
       "      <td>Awesome! It's been our pleasure. You can also ...</td>\n",
       "      <td>paytm</td>\n",
       "    </tr>\n",
       "  </tbody>\n",
       "</table>\n",
       "</div>"
      ],
      "text/plain": [
       "                                      content  score  thumbsUpCount  \\\n",
       "0  best app i love❤😘 thanx for pyatm kashback      5              0   \n",
       "1                                Very nice👍👏👏      5              0   \n",
       "2                                    Good app      5              0   \n",
       "3                                   Excellent      5              0   \n",
       "4                                        Good      5              0   \n",
       "\n",
       "     review_created_at                                       replyContent  \\\n",
       "0  2021-08-24 12:04:57  Awesome! It's been our pleasure. You can also ...   \n",
       "1  2021-11-18 05:51:39  Thank you for the amazing 5-star review. We're...   \n",
       "2  2021-07-31 00:33:28  Awesome! It's been our pleasure. You can also ...   \n",
       "3  2021-11-11 18:02:12                                   No_reply/No_data   \n",
       "4  2021-08-05 10:34:44  Awesome! It's been our pleasure. You can also ...   \n",
       "\n",
       "  upi_company  \n",
       "0       paytm  \n",
       "1    phonepay  \n",
       "2       paytm  \n",
       "3    phonepay  \n",
       "4       paytm  "
      ]
     },
     "execution_count": 21,
     "metadata": {},
     "output_type": "execute_result"
    }
   ],
   "source": [
    "data = data.sample(frac=1).reset_index(drop=True)\n",
    "data.head()"
   ]
  },
  {
   "cell_type": "markdown",
   "metadata": {},
   "source": [
    "### \"review_created_at\" column was in str dtype so I converted it to DateTime format and then I extracted year and month from Datetime Column. And then I arranged the data Accordingly**"
   ]
  },
  {
   "cell_type": "code",
   "execution_count": 22,
   "metadata": {},
   "outputs": [
    {
     "data": {
      "text/html": [
       "<div>\n",
       "<style scoped>\n",
       "    .dataframe tbody tr th:only-of-type {\n",
       "        vertical-align: middle;\n",
       "    }\n",
       "\n",
       "    .dataframe tbody tr th {\n",
       "        vertical-align: top;\n",
       "    }\n",
       "\n",
       "    .dataframe thead th {\n",
       "        text-align: right;\n",
       "    }\n",
       "</style>\n",
       "<table border=\"1\" class=\"dataframe\">\n",
       "  <thead>\n",
       "    <tr style=\"text-align: right;\">\n",
       "      <th></th>\n",
       "      <th>upi_company</th>\n",
       "      <th>Year</th>\n",
       "      <th>month</th>\n",
       "      <th>content</th>\n",
       "      <th>score</th>\n",
       "      <th>thumbsUpCount</th>\n",
       "      <th>replyContent</th>\n",
       "    </tr>\n",
       "  </thead>\n",
       "  <tbody>\n",
       "    <tr>\n",
       "      <th>0</th>\n",
       "      <td>paytm</td>\n",
       "      <td>2021</td>\n",
       "      <td>8</td>\n",
       "      <td>best app i love❤😘 thanx for pyatm kashback</td>\n",
       "      <td>5</td>\n",
       "      <td>0</td>\n",
       "      <td>Awesome! It's been our pleasure. You can also ...</td>\n",
       "    </tr>\n",
       "    <tr>\n",
       "      <th>1</th>\n",
       "      <td>phonepay</td>\n",
       "      <td>2021</td>\n",
       "      <td>11</td>\n",
       "      <td>Very nice👍👏👏</td>\n",
       "      <td>5</td>\n",
       "      <td>0</td>\n",
       "      <td>Thank you for the amazing 5-star review. We're...</td>\n",
       "    </tr>\n",
       "    <tr>\n",
       "      <th>2</th>\n",
       "      <td>paytm</td>\n",
       "      <td>2021</td>\n",
       "      <td>7</td>\n",
       "      <td>Good app</td>\n",
       "      <td>5</td>\n",
       "      <td>0</td>\n",
       "      <td>Awesome! It's been our pleasure. You can also ...</td>\n",
       "    </tr>\n",
       "    <tr>\n",
       "      <th>3</th>\n",
       "      <td>phonepay</td>\n",
       "      <td>2021</td>\n",
       "      <td>11</td>\n",
       "      <td>Excellent</td>\n",
       "      <td>5</td>\n",
       "      <td>0</td>\n",
       "      <td>No_reply/No_data</td>\n",
       "    </tr>\n",
       "    <tr>\n",
       "      <th>4</th>\n",
       "      <td>paytm</td>\n",
       "      <td>2021</td>\n",
       "      <td>8</td>\n",
       "      <td>Good</td>\n",
       "      <td>5</td>\n",
       "      <td>0</td>\n",
       "      <td>Awesome! It's been our pleasure. You can also ...</td>\n",
       "    </tr>\n",
       "  </tbody>\n",
       "</table>\n",
       "</div>"
      ],
      "text/plain": [
       "  upi_company  Year  month                                     content  score  \\\n",
       "0       paytm  2021      8  best app i love❤😘 thanx for pyatm kashback      5   \n",
       "1    phonepay  2021     11                                Very nice👍👏👏      5   \n",
       "2       paytm  2021      7                                    Good app      5   \n",
       "3    phonepay  2021     11                                   Excellent      5   \n",
       "4       paytm  2021      8                                        Good      5   \n",
       "\n",
       "   thumbsUpCount                                       replyContent  \n",
       "0              0  Awesome! It's been our pleasure. You can also ...  \n",
       "1              0  Thank you for the amazing 5-star review. We're...  \n",
       "2              0  Awesome! It's been our pleasure. You can also ...  \n",
       "3              0                                   No_reply/No_data  \n",
       "4              0  Awesome! It's been our pleasure. You can also ...  "
      ]
     },
     "execution_count": 22,
     "metadata": {},
     "output_type": "execute_result"
    }
   ],
   "source": [
    "data[\"review_created_at\"] = pd.to_datetime(data[\"review_created_at\"])\n",
    "data[\"Year\"] = data['review_created_at'].dt.year\n",
    "data[\"month\"] = data['review_created_at'].dt.month\n",
    "data = data[[\"upi_company\", \"Year\", \"month\", \"content\", \"score\", \"thumbsUpCount\", \"replyContent\"]]\n",
    "data.head()"
   ]
  },
  {
   "cell_type": "markdown",
   "metadata": {},
   "source": [
    "### I took the \"score\" column and converted it into a discrete rating Bucket using `cut()` function, It helps to understand the rating (scoring) system in a better way."
   ]
  },
  {
   "cell_type": "code",
   "execution_count": 23,
   "metadata": {},
   "outputs": [
    {
     "data": {
      "text/html": [
       "<div>\n",
       "<style scoped>\n",
       "    .dataframe tbody tr th:only-of-type {\n",
       "        vertical-align: middle;\n",
       "    }\n",
       "\n",
       "    .dataframe tbody tr th {\n",
       "        vertical-align: top;\n",
       "    }\n",
       "\n",
       "    .dataframe thead th {\n",
       "        text-align: right;\n",
       "    }\n",
       "</style>\n",
       "<table border=\"1\" class=\"dataframe\">\n",
       "  <thead>\n",
       "    <tr style=\"text-align: right;\">\n",
       "      <th></th>\n",
       "      <th>upi_company</th>\n",
       "      <th>Year</th>\n",
       "      <th>month</th>\n",
       "      <th>content</th>\n",
       "      <th>score</th>\n",
       "      <th>thumbsUpCount</th>\n",
       "      <th>replyContent</th>\n",
       "    </tr>\n",
       "  </thead>\n",
       "  <tbody>\n",
       "    <tr>\n",
       "      <th>0</th>\n",
       "      <td>paytm</td>\n",
       "      <td>2021</td>\n",
       "      <td>8</td>\n",
       "      <td>best app i love❤😘 thanx for pyatm kashback</td>\n",
       "      <td>Excellent</td>\n",
       "      <td>0</td>\n",
       "      <td>Awesome! It's been our pleasure. You can also ...</td>\n",
       "    </tr>\n",
       "    <tr>\n",
       "      <th>1</th>\n",
       "      <td>phonepay</td>\n",
       "      <td>2021</td>\n",
       "      <td>11</td>\n",
       "      <td>Very nice👍👏👏</td>\n",
       "      <td>Excellent</td>\n",
       "      <td>0</td>\n",
       "      <td>Thank you for the amazing 5-star review. We're...</td>\n",
       "    </tr>\n",
       "    <tr>\n",
       "      <th>2</th>\n",
       "      <td>paytm</td>\n",
       "      <td>2021</td>\n",
       "      <td>7</td>\n",
       "      <td>Good app</td>\n",
       "      <td>Excellent</td>\n",
       "      <td>0</td>\n",
       "      <td>Awesome! It's been our pleasure. You can also ...</td>\n",
       "    </tr>\n",
       "    <tr>\n",
       "      <th>3</th>\n",
       "      <td>phonepay</td>\n",
       "      <td>2021</td>\n",
       "      <td>11</td>\n",
       "      <td>Excellent</td>\n",
       "      <td>Excellent</td>\n",
       "      <td>0</td>\n",
       "      <td>No_reply/No_data</td>\n",
       "    </tr>\n",
       "    <tr>\n",
       "      <th>4</th>\n",
       "      <td>paytm</td>\n",
       "      <td>2021</td>\n",
       "      <td>8</td>\n",
       "      <td>Good</td>\n",
       "      <td>Excellent</td>\n",
       "      <td>0</td>\n",
       "      <td>Awesome! It's been our pleasure. You can also ...</td>\n",
       "    </tr>\n",
       "  </tbody>\n",
       "</table>\n",
       "</div>"
      ],
      "text/plain": [
       "  upi_company  Year  month                                     content  \\\n",
       "0       paytm  2021      8  best app i love❤😘 thanx for pyatm kashback   \n",
       "1    phonepay  2021     11                                Very nice👍👏👏   \n",
       "2       paytm  2021      7                                    Good app   \n",
       "3    phonepay  2021     11                                   Excellent   \n",
       "4       paytm  2021      8                                        Good   \n",
       "\n",
       "       score  thumbsUpCount                                       replyContent  \n",
       "0  Excellent              0  Awesome! It's been our pleasure. You can also ...  \n",
       "1  Excellent              0  Thank you for the amazing 5-star review. We're...  \n",
       "2  Excellent              0  Awesome! It's been our pleasure. You can also ...  \n",
       "3  Excellent              0                                   No_reply/No_data  \n",
       "4  Excellent              0  Awesome! It's been our pleasure. You can also ...  "
      ]
     },
     "execution_count": 23,
     "metadata": {},
     "output_type": "execute_result"
    }
   ],
   "source": [
    "scores = [0, 1, 2, 3, 4, 5]\n",
    "scores_name = [\"very Negative\", \"Negative\", \"Average\", \"Positive\", \"Excellent\"]\n",
    "data[\"score\"] = pd.cut(data[\"score\"],scores, labels=scores_name)\n",
    "data.head()"
   ]
  },
  {
   "cell_type": "code",
   "execution_count": 24,
   "metadata": {},
   "outputs": [],
   "source": [
    "backup_data = data.copy()"
   ]
  },
  {
   "cell_type": "markdown",
   "metadata": {},
   "source": [
    "# EDA"
   ]
  },
  {
   "cell_type": "markdown",
   "metadata": {},
   "source": [
    "## First i will do eda on each an every company seperately"
   ]
  },
  {
   "cell_type": "markdown",
   "metadata": {},
   "source": [
    "### EDA On Google"
   ]
  },
  {
   "cell_type": "code",
   "execution_count": 25,
   "metadata": {},
   "outputs": [
    {
     "data": {
      "image/png": "[encoded data removed]",
      "text/plain": [
       "<Figure size 1080x432 with 1 Axes>"
      ]
     },
     "metadata": {
      "needs_background": "light"
     },
     "output_type": "display_data"
    }
   ],
   "source": [
    "google_data[\"reply_given\"] = google_data[\"replyContent\"].apply(lambda x: \"reply Given\" if x != 'No_reply/No_data' else \"No Reply\")\n",
    "\n",
    "plt.figure(figsize=(15,6))\n",
    "sns.countplot(x=\"score\", hue=\"reply_given\", data=google_data)\n",
    "plt.title('Bar Plot To get relationship Between Scores and Reply Given By Management')\n",
    "plt.show()\n"
   ]
  },
  {
   "cell_type": "code",
   "execution_count": 40,
   "metadata": {},
   "outputs": [
    {
     "data": {
      "image/png": "[encoded data removed]",
      "text/plain": [
       "<Figure size 1080x432 with 1 Axes>"
      ]
     },
     "metadata": {
      "needs_background": "light"
     },
     "output_type": "display_data"
    }
   ],
   "source": [
    "plt.figure(figsize=(15,6))\n",
    "sns.barplot(x=\"score\", y=\"thumbsUpCount\", data=google_data)\n",
    "plt.title('Bar Plot To get relationship Between Scores and ThumbsUpCount')\n",
    "plt.show()"
   ]
  },
  {
   "cell_type": "markdown",
   "metadata": {},
   "source": [
    "\n",
    "## EDA On Paytm"
   ]
  },
  {
   "cell_type": "code",
   "execution_count": 27,
   "metadata": {},
   "outputs": [
    {
     "data": {
      "image/png": "[encoded data removed]",
      "text/plain": [
       "<Figure size 1080x432 with 1 Axes>"
      ]
     },
     "metadata": {
      "needs_background": "light"
     },
     "output_type": "display_data"
    }
   ],
   "source": [
    "paytm_data[\"reply_given\"] = paytm_data[\"replyContent\"].apply(lambda x: \"reply Given\" if x != 'No_reply/No_data' else \"No Reply\")\n",
    "\n",
    "plt.figure(figsize=(15,6))\n",
    "sns.countplot(x=\"score\", hue=\"reply_given\", data=paytm_data)\n",
    "plt.title('Bar Plot To get relationship Between Scores and Reply Given By Management')\n",
    "plt.show()"
   ]
  },
  {
   "cell_type": "code",
   "execution_count": 28,
   "metadata": {},
   "outputs": [
    {
     "data": {
      "image/png": "[encoded data removed]",
      "text/plain": [
       "<Figure size 1080x432 with 1 Axes>"
      ]
     },
     "metadata": {
      "needs_background": "light"
     },
     "output_type": "display_data"
    }
   ],
   "source": [
    "plt.figure(figsize=(15,6))\n",
    "sns.barplot(x=\"score\", y=\"thumbsUpCount\", data=paytm_data)\n",
    "plt.title('Bar Plot To get relationship Between Scores and Reply Given By Management')\n",
    "plt.show()"
   ]
  },
  {
   "cell_type": "markdown",
   "metadata": {},
   "source": [
    "## EDA On PhonePay"
   ]
  },
  {
   "cell_type": "code",
   "execution_count": 29,
   "metadata": {},
   "outputs": [
    {
     "data": {
      "image/png": "[encoded data removed]",
      "text/plain": [
       "<Figure size 1080x432 with 1 Axes>"
      ]
     },
     "metadata": {
      "needs_background": "light"
     },
     "output_type": "display_data"
    }
   ],
   "source": [
    "phonepay_data[\"reply_given\"] = phonepay_data[\"replyContent\"].apply(lambda x: \"reply Given\" if x != 'No_reply/No_data' else \"No Reply\")\n",
    "\n",
    "plt.figure(figsize=(15,6))\n",
    "sns.countplot(x=\"score\", hue=\"reply_given\", data=phonepay_data)\n",
    "plt.title('Bar Plot To get relationship Between Scores and Reply Given By Management')\n",
    "plt.show()"
   ]
  },
  {
   "cell_type": "code",
   "execution_count": 30,
   "metadata": {},
   "outputs": [
    {
     "data": {
      "image/png": "[encoded data removed]",
      "text/plain": [
       "<Figure size 1080x432 with 1 Axes>"
      ]
     },
     "metadata": {
      "needs_background": "light"
     },
     "output_type": "display_data"
    }
   ],
   "source": [
    "plt.figure(figsize=(15,6))\n",
    "sns.barplot(x=\"score\", y=\"thumbsUpCount\", data=phonepay_data)\n",
    "plt.title('Bar Plot To get relationship Between Scores and Reply Given By Management')\n",
    "plt.show()"
   ]
  },
  {
   "cell_type": "markdown",
   "metadata": {},
   "source": [
    "## Duing EDA On all the companies\n",
    "We have done the EDA on all individual Companies now we will compare all the Companies together and find the best Company."
   ]
  },
  {
   "cell_type": "code",
   "execution_count": 31,
   "metadata": {},
   "outputs": [
    {
     "data": {
      "text/html": [
       "<div>\n",
       "<style scoped>\n",
       "    .dataframe tbody tr th:only-of-type {\n",
       "        vertical-align: middle;\n",
       "    }\n",
       "\n",
       "    .dataframe tbody tr th {\n",
       "        vertical-align: top;\n",
       "    }\n",
       "\n",
       "    .dataframe thead th {\n",
       "        text-align: right;\n",
       "    }\n",
       "</style>\n",
       "<table border=\"1\" class=\"dataframe\">\n",
       "  <thead>\n",
       "    <tr style=\"text-align: right;\">\n",
       "      <th></th>\n",
       "      <th>upi_company</th>\n",
       "      <th>Year</th>\n",
       "      <th>month</th>\n",
       "      <th>content</th>\n",
       "      <th>score</th>\n",
       "      <th>thumbsUpCount</th>\n",
       "      <th>replyContent</th>\n",
       "    </tr>\n",
       "  </thead>\n",
       "  <tbody>\n",
       "    <tr>\n",
       "      <th>0</th>\n",
       "      <td>paytm</td>\n",
       "      <td>2021</td>\n",
       "      <td>8</td>\n",
       "      <td>best app i love❤😘 thanx for pyatm kashback</td>\n",
       "      <td>Excellent</td>\n",
       "      <td>0</td>\n",
       "      <td>Awesome! It's been our pleasure. You can also ...</td>\n",
       "    </tr>\n",
       "    <tr>\n",
       "      <th>1</th>\n",
       "      <td>phonepay</td>\n",
       "      <td>2021</td>\n",
       "      <td>11</td>\n",
       "      <td>Very nice👍👏👏</td>\n",
       "      <td>Excellent</td>\n",
       "      <td>0</td>\n",
       "      <td>Thank you for the amazing 5-star review. We're...</td>\n",
       "    </tr>\n",
       "    <tr>\n",
       "      <th>2</th>\n",
       "      <td>paytm</td>\n",
       "      <td>2021</td>\n",
       "      <td>7</td>\n",
       "      <td>Good app</td>\n",
       "      <td>Excellent</td>\n",
       "      <td>0</td>\n",
       "      <td>Awesome! It's been our pleasure. You can also ...</td>\n",
       "    </tr>\n",
       "    <tr>\n",
       "      <th>3</th>\n",
       "      <td>phonepay</td>\n",
       "      <td>2021</td>\n",
       "      <td>11</td>\n",
       "      <td>Excellent</td>\n",
       "      <td>Excellent</td>\n",
       "      <td>0</td>\n",
       "      <td>No_reply/No_data</td>\n",
       "    </tr>\n",
       "    <tr>\n",
       "      <th>4</th>\n",
       "      <td>paytm</td>\n",
       "      <td>2021</td>\n",
       "      <td>8</td>\n",
       "      <td>Good</td>\n",
       "      <td>Excellent</td>\n",
       "      <td>0</td>\n",
       "      <td>Awesome! It's been our pleasure. You can also ...</td>\n",
       "    </tr>\n",
       "  </tbody>\n",
       "</table>\n",
       "</div>"
      ],
      "text/plain": [
       "  upi_company  Year  month                                     content  \\\n",
       "0       paytm  2021      8  best app i love❤😘 thanx for pyatm kashback   \n",
       "1    phonepay  2021     11                                Very nice👍👏👏   \n",
       "2       paytm  2021      7                                    Good app   \n",
       "3    phonepay  2021     11                                   Excellent   \n",
       "4       paytm  2021      8                                        Good   \n",
       "\n",
       "       score  thumbsUpCount                                       replyContent  \n",
       "0  Excellent              0  Awesome! It's been our pleasure. You can also ...  \n",
       "1  Excellent              0  Thank you for the amazing 5-star review. We're...  \n",
       "2  Excellent              0  Awesome! It's been our pleasure. You can also ...  \n",
       "3  Excellent              0                                   No_reply/No_data  \n",
       "4  Excellent              0  Awesome! It's been our pleasure. You can also ...  "
      ]
     },
     "execution_count": 31,
     "metadata": {},
     "output_type": "execute_result"
    }
   ],
   "source": [
    "data.head()"
   ]
  },
  {
   "cell_type": "code",
   "execution_count": 32,
   "metadata": {},
   "outputs": [
    {
     "data": {
      "image/png": "[encoded data removed]",
      "text/plain": [
       "<Figure size 1080x432 with 1 Axes>"
      ]
     },
     "metadata": {
      "needs_background": "light"
     },
     "output_type": "display_data"
    }
   ],
   "source": [
    "plt.figure(figsize=(15,6))\n",
    "sns.countplot(x=\"score\", hue=\"upi_company\", data=data)\n",
    "plt.title('Bar Plot To Show which Company has maximum number of reviews in all category')\n",
    "plt.show()"
   ]
  },
  {
   "cell_type": "code",
   "execution_count": 33,
   "metadata": {},
   "outputs": [
    {
     "data": {
      "image/png": "[encoded data removed]",
      "text/plain": [
       "<Figure size 1080x432 with 1 Axes>"
      ]
     },
     "metadata": {
      "needs_background": "light"
     },
     "output_type": "display_data"
    }
   ],
   "source": [
    "plt.figure(figsize=(15,6))\n",
    "sns.barplot(x=\"score\", y=\"thumbsUpCount\", hue=\"upi_company\", data=data)\n",
    "plt.title('Bar Plot To Show which Company has more number of votes in all scores Category')\n",
    "plt.show()"
   ]
  },
  {
   "cell_type": "code",
   "execution_count": 41,
   "metadata": {},
   "outputs": [
    {
     "data": {
      "image/png": "[encoded data removed]",
      "text/plain": [
       "<Figure size 1080x432 with 1 Axes>"
      ]
     },
     "metadata": {
      "needs_background": "light"
     },
     "output_type": "display_data"
    }
   ],
   "source": [
    "plt.figure(figsize=(15,6))\n",
    "sns.countplot(data=data, x=\"Year\", hue=\"upi_company\")\n",
    "plt.title('Bar Plot To Show which Company has how much number of feedbacks in Years')\n",
    "plt.show()"
   ]
  },
  {
   "cell_type": "code",
   "execution_count": 35,
   "metadata": {},
   "outputs": [
    {
     "data": {
      "image/png": "[encoded data removed]",
      "text/plain": [
       "<Figure size 1080x432 with 1 Axes>"
      ]
     },
     "metadata": {
      "needs_background": "light"
     },
     "output_type": "display_data"
    }
   ],
   "source": [
    "plt.figure(figsize=(15,6))\n",
    "sns.countplot(data=data, x=\"month\", hue=\"upi_company\")\n",
    "plt.title('Bar Plot To Show which Company has more number of votes in all scores Category')\n",
    "plt.show()"
   ]
  },
  {
   "cell_type": "markdown",
   "metadata": {},
   "source": [
    "\n",
    "## Result Of EDA\n",
    "I will be resulting in the Data specifically for all Company\n",
    "then I will compare all the companies together.\n",
    "\n",
    "#### EDA Result for Google Company:\n",
    "-  According to the data, Management has replied to that content/feedback which has a bad score rather than replying to that which has a good score. Which is a **great sign** that **Google UPI** is more responsive toward bad experienced Customer.\n",
    "-  According to the data, The content which has a negative rating has got a **maximum number of votes** which tells that it can possible that the user how gave the votes also in some period of time **faced that same issue**. \n",
    "\n",
    "#### EDA Result for Paytm Company:\n",
    "-  According to the data, Management replied to the content/feedback **ratio** is **balanced** in all the rating(score) categories. This means that Management has given replied not only to the low rating feedback but also to high rating feedback.\n",
    "- According to the data, The content that has a **negative rating** has got **most Upvotes** and the rating is in **decreasing order** when we move to a more positive rating and the least number of upvotes goes to 5rating feedback.\n",
    "\n",
    "#### EDA Result for PhonePay Company:\n",
    "- According to the data, Management replied to the content/feedback ratio **is balanced** in all the rating(score) categories. This means that Management has given replied not only to the low rating feedback but also to high rating feedback. **But** Overall there are much **less number of feedbacks** in negative and average ratings which may be a good sign (not sure) that people are not facing much problem.\n",
    "- According to the data, Very Negative(0-1) and Average(2-3) reviews have got the largest nymber of Upvotes.\n",
    "\n",
    "## Overall Review of all Three Companies:\n",
    "- According to the data, **Paytm** had got the **most excellent(4-5 score) reviews** which means **user** who **use Paytm** are much **happy with their services** than Phonepay and Google. In **Sound number** comes **PhonePay** which is also **not too behind** and at least comes **Google** which needs to **improve its Services**.\n",
    "- According to the data, the **Most Negative (0-1 scores) rating** goes to **Google** as I said Google has to improve its services to compete with other companies, and the **least** most negative rating goes to **Paytm** which is a good sign. \n",
    "- According to the data, **Paytm** and **PhonePay** have got the **largest number of Feedback** compared to Google, **But** I think we cant really on these matrics as we don't have **more data** to **clarify** it.\n",
    "- According to the data, **Month** wise in  **November** *Phonepay* has the maximum number of feedbacks, **But** again I think we cant really on these matrics as we don't have **more data** to **clarify** it.\n",
    "\n",
    "### Overall **Paytm** currently provides the **Best Services** in terms of **UPI Payment** as it has the most number of ratings but **Phonepay** is also not much behind with **little more effort Phonepay** can **win** the game but **Google** has to **work harder** to compete with these companies as their **rating** is the **least** when compared to other two. "
   ]
  }
 ],
 "metadata": {
  "interpreter": {
   "hash": "ecf5722fdaf1897a315d257d89d94520bfcaa453217d5becf09b39e73618b0de"
  },
  "kernelspec": {
   "display_name": "Python 3.9.5 64-bit ('base': conda)",
   "language": "python",
   "name": "python3"
  },
  "language_info": {
   "codemirror_mode": {
    "name": "ipython",
    "version": 3
   },
   "file_extension": ".py",
   "mimetype": "text/x-python",
   "name": "python",
   "nbconvert_exporter": "python",
   "pygments_lexer": "ipython3",
   "version": "3.9.5"
  },
  "orig_nbformat": 4
 },
 "nbformat": 4,
 "nbformat_minor": 2
}
